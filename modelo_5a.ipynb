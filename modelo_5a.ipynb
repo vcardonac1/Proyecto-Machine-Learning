{
 "cells": [
  {
   "cell_type": "markdown",
   "metadata": {},
   "source": [
    "# Modelo Complejo - Datos Balanceados\n",
    "En este notebook se encuentra el proceso de entrenamiento de un modelo \"complejo\" tomando la misma cantidad de datos para cada una de las clases\n",
    "* 0 -> 1351\n",
    "* 1 -> 1351"
   ]
  },
  {
   "cell_type": "markdown",
   "metadata": {},
   "source": [
    "### Librerías necesarias"
   ]
  },
  {
   "cell_type": "code",
   "execution_count": 1,
   "metadata": {},
   "outputs": [],
   "source": [
    "import os\n",
    "import pandas as pd\n",
    "import cv2\n",
    "import tensorflow as tf\n",
    "import numpy as np\n",
    "from tensorflow.keras.datasets import reuters\n",
    "from tensorflow.keras.models import Sequential, load_model\n",
    "from tensorflow.keras.layers import Dense, Dropout, Activation, MaxPooling2D, Conv2D, Flatten, BatchNormalization\n",
    "from tensorflow.keras.preprocessing.image import ImageDataGenerator\n",
    "from tensorflow.keras.callbacks import ModelCheckpoint, EarlyStopping\n",
    "from tensorflow.keras.preprocessing import image\n",
    "from tensorflow.keras.utils import to_categorical\n",
    "import matplotlib.pyplot as plt\n",
    "import matplotlib.image as img\n",
    "from sklearn.model_selection import train_test_split\n",
    "from sklearn.preprocessing import LabelEncoder, OneHotEncoder\n",
    "from sklearn.utils import shuffle\n",
    "\n",
    "from scikeras.wrappers import KerasClassifier\n",
    "from sklearn.model_selection import train_test_split, RandomizedSearchCV\n",
    "from sklearn.pipeline import Pipeline, FeatureUnion\n",
    "from sklearn.metrics import classification_report, confusion_matrix, accuracy_score, make_scorer"
   ]
  },
  {
   "cell_type": "markdown",
   "metadata": {},
   "source": [
    "### Observar cómo lucen las imagenes marcadas como negativas y positivas"
   ]
  },
  {
   "cell_type": "code",
   "execution_count": 2,
   "metadata": {},
   "outputs": [
    {
     "data": {
      "image/png": "[encoded data removed]",
      "text/plain": [
       "<Figure size 640x480 with 2 Axes>"
      ]
     },
     "metadata": {},
     "output_type": "display_data"
    }
   ],
   "source": [
    "#observamos las imágenes\n",
    "plt.subplot(1, 2, 1)\n",
    "plt.title('Label Negativo: 0')\n",
    "plt.imshow(cv2.imread('data\\\\images\\\\image_1054.jpg'))\n",
    "\n",
    "plt.subplot(1, 2, 2)\n",
    "plt.title('Label Positivo: 1')\n",
    "plt.imshow(cv2.imread('data\\\\images\\\\image_13.jpg'))\n",
    "\n",
    "plt.show()"
   ]
  },
  {
   "cell_type": "markdown",
   "metadata": {},
   "source": [
    "## Pre-procesamiento de los Datos\n",
    "Unir en un solo dataset las imagenes(paths) con sus labels"
   ]
  },
  {
   "cell_type": "code",
   "execution_count": 3,
   "metadata": {},
   "outputs": [
    {
     "data": {
      "text/html": [
       "<div>\n",
       "<style scoped>\n",
       "    .dataframe tbody tr th:only-of-type {\n",
       "        vertical-align: middle;\n",
       "    }\n",
       "\n",
       "    .dataframe tbody tr th {\n",
       "        vertical-align: top;\n",
       "    }\n",
       "\n",
       "    .dataframe thead th {\n",
       "        text-align: right;\n",
       "    }\n",
       "</style>\n",
       "<table border=\"1\" class=\"dataframe\">\n",
       "  <thead>\n",
       "    <tr style=\"text-align: right;\">\n",
       "      <th></th>\n",
       "      <th>filepaths</th>\n",
       "      <th>labels</th>\n",
       "    </tr>\n",
       "  </thead>\n",
       "  <tbody>\n",
       "    <tr>\n",
       "      <th>0</th>\n",
       "      <td>data/images/image_189342.jpg</td>\n",
       "      <td>0</td>\n",
       "    </tr>\n",
       "    <tr>\n",
       "      <th>1</th>\n",
       "      <td>data/images/image_145102.jpg</td>\n",
       "      <td>0</td>\n",
       "    </tr>\n",
       "    <tr>\n",
       "      <th>2</th>\n",
       "      <td>data/images/image_31546.jpg</td>\n",
       "      <td>0</td>\n",
       "    </tr>\n",
       "    <tr>\n",
       "      <th>3</th>\n",
       "      <td>data/images/image_441280.jpg</td>\n",
       "      <td>1</td>\n",
       "    </tr>\n",
       "    <tr>\n",
       "      <th>4</th>\n",
       "      <td>data/images/image_215578.jpg</td>\n",
       "      <td>0</td>\n",
       "    </tr>\n",
       "  </tbody>\n",
       "</table>\n",
       "</div>"
      ],
      "text/plain": [
       "                      filepaths  labels\n",
       "0  data/images/image_189342.jpg       0\n",
       "1  data/images/image_145102.jpg       0\n",
       "2   data/images/image_31546.jpg       0\n",
       "3  data/images/image_441280.jpg       1\n",
       "4  data/images/image_215578.jpg       0"
      ]
     },
     "execution_count": 3,
     "metadata": {},
     "output_type": "execute_result"
    }
   ],
   "source": [
    "df = pd.read_csv('data\\\\labels.txt', sep=\" \", header = None)\n",
    "df.columns =['filepaths', 'labels']\n",
    "df.head()"
   ]
  },
  {
   "cell_type": "markdown",
   "metadata": {},
   "source": [
    "Tomar solo las primeras 1351 marcadas como negativas y todas las imagenes marcadas como positivas"
   ]
  },
  {
   "cell_type": "code",
   "execution_count": 4,
   "metadata": {},
   "outputs": [
    {
     "name": "stdout",
     "output_type": "stream",
     "text": [
      "1    1351\n",
      "0    1351\n",
      "Name: labels, dtype: int64\n"
     ]
    }
   ],
   "source": [
    "labels_0 = df.loc[df['labels'] == 0]\n",
    "labels_1 = df.loc[df['labels'] == 1]\n",
    "labels_0 = labels_0[0:len(labels_1)]\n",
    "labels = [labels_0, labels_1]\n",
    "df2 = pd.concat(labels)\n",
    "df = df2\n",
    "df = shuffle(df).reset_index(drop = True)\n",
    "print (df['labels'].value_counts())"
   ]
  },
  {
   "cell_type": "markdown",
   "metadata": {},
   "source": [
    "Separar el Dataset en:\n",
    "* 70% training\n",
    "* 15% validation\n",
    "* 15% test\n",
    "\n",
    "Y verificar la distribución de los datos por sus labels en cada dataset"
   ]
  },
  {
   "cell_type": "code",
   "execution_count": 5,
   "metadata": {},
   "outputs": [
    {
     "name": "stdout",
     "output_type": "stream",
     "text": [
      "Cantidad de datos en cada set\n",
      "\n",
      "Training: 1891 \t\t0: 959 , 1: 932\n",
      "Validacion: 406 \t0: 201 , 1: 205\n",
      "Test: 405 \t\t0: 191 , 1: 214\n"
     ]
    }
   ],
   "source": [
    "# Se separan los datos en training, validacion y test\n",
    "X_train, X_test, y_train, y_test = train_test_split(df['filepaths'], df['labels'], test_size=0.30, random_state=33)\n",
    "X_test, X_val, y_test, y_val= train_test_split(X_test, y_test, train_size=0.5, random_state=34)\n",
    "\n",
    "print('Cantidad de datos en cada set\\n')\n",
    "print('Training:', len(y_train), '\\t\\t0:', y_train.value_counts()[0],', 1:' ,y_train.value_counts()[1])\n",
    "print('Validacion:', len(y_val), '\\t0:', y_val.value_counts()[0],', 1:' ,y_val.value_counts()[1])\n",
    "print('Test:', len(y_test), '\\t\\t0:', y_test.value_counts()[0],', 1:' ,y_test.value_counts()[1])"
   ]
  },
  {
   "cell_type": "markdown",
   "metadata": {},
   "source": [
    "### Pre-procesamiento de las imagenes\n",
    "Si bien las imagenes ya vienen de 50x50 pixeles y en escala de grises(50x50x1), es necesario pasarla a una representación de grises ya que por el formato de entrada se toman como RGB(50x50x3).\n",
    "Se realiza este procesamiento para los sets de training y validación"
   ]
  },
  {
   "cell_type": "code",
   "execution_count": 6,
   "metadata": {},
   "outputs": [],
   "source": [
    "IMG_SIZE = 50\n",
    "\n",
    "def preprocessig_data(data):\n",
    "    X = []\n",
    "    for img_path in data:\n",
    "        img = cv2.imread(img_path)\n",
    "        img = cv2.cvtColor(img, cv2.COLOR_RGB2GRAY) # Pasamos la imagen a escala de grises\n",
    "        img = cv2.resize(img, (IMG_SIZE, IMG_SIZE))/255.0 # normalizamos los pixeles de la imagen\n",
    "        X.append(img)\n",
    "    X = np.array(X)\n",
    "    X = X.reshape((-1, IMG_SIZE, IMG_SIZE, 1)) #Hacemos un reshape de las imagenes\n",
    "    return X\n",
    "\n",
    "X_train = preprocessig_data(X_train)\n",
    "X_val = preprocessig_data(X_val)"
   ]
  },
  {
   "cell_type": "markdown",
   "metadata": {},
   "source": [
    "Se opta por una codificación en enteros, a continuación se hace uso de LabelEncoder para mantener las etiquetas 0 y 1"
   ]
  },
  {
   "cell_type": "code",
   "execution_count": 7,
   "metadata": {},
   "outputs": [],
   "source": [
    "# Usamos labelEncoder para manejar los labels como numeros\n",
    "le = LabelEncoder()\n",
    "y_train = le.fit_transform(y_train)\n",
    "y_val = le.transform(y_val)"
   ]
  },
  {
   "cell_type": "markdown",
   "metadata": {},
   "source": [
    "## Red convolucional Compleja\n",
    "\n",
    "* Capa convolucional de 32 neuronas con kernel 3 y activación Relu. Entrada de tamaño (50,50,1) tamaño de la imagen\n",
    "* MaxPooling2D()\n",
    "* Capa convolucional de 64 neuronas con kernel 3 y activación Relu\n",
    "* MaxPooling2D()\n",
    "* Capa convolucional de 128 neuronas con kernel 3 y activación Relu\n",
    "* Capa convolucional de 256 neuronas con kernel 3 y activación Relu\n",
    "* MaxPooling2D()\n",
    "* Flatten()\n",
    "* Capa densa de 128 neuronas y activación Relu\n",
    "* Dropout(0.2)\n",
    "* Capa densa de 64 neuronas y activación Relu\n",
    "* Dropout(0.2)\n",
    "* Capa densa de 32 neuronas y activación Relu\n",
    "* Dropout(0.2)\n",
    "* Capa densa de 16 neuronas y activación Relu\n",
    "* Dropout(0.2)\n",
    "* Capa densa de 1 neurona y activación Sigmoide dado a que la clasificación en binaria\n",
    "\n",
    "Se usa el optimizador _RMSprop_, función de perdida _BinaryCrossentropy_ y como metricas se hace seguimiento de la precisión y el recall. Se opta por usar un checkpoint en el cual se guarda el mejor modelo"
   ]
  },
  {
   "cell_type": "code",
   "execution_count": 8,
   "metadata": {},
   "outputs": [
    {
     "name": "stdout",
     "output_type": "stream",
     "text": [
      "Model: \"sequential\"\n",
      "_________________________________________________________________\n",
      " Layer (type)                Output Shape              Param #   \n",
      "=================================================================\n",
      " conv2d (Conv2D)             (None, 48, 48, 32)        320       \n",
      "                                                                 \n",
      " max_pooling2d (MaxPooling2D  (None, 24, 24, 32)       0         \n",
      " )                                                               \n",
      "                                                                 \n",
      " conv2d_1 (Conv2D)           (None, 22, 22, 64)        18496     \n",
      "                                                                 \n",
      " max_pooling2d_1 (MaxPooling  (None, 11, 11, 64)       0         \n",
      " 2D)                                                             \n",
      "                                                                 \n",
      " conv2d_2 (Conv2D)           (None, 9, 9, 128)         73856     \n",
      "                                                                 \n",
      " conv2d_3 (Conv2D)           (None, 7, 7, 256)         295168    \n",
      "                                                                 \n",
      " max_pooling2d_2 (MaxPooling  (None, 3, 3, 256)        0         \n",
      " 2D)                                                             \n",
      "                                                                 \n",
      " flatten (Flatten)           (None, 2304)              0         \n",
      "                                                                 \n",
      " dense (Dense)               (None, 128)               295040    \n",
      "                                                                 \n",
      " dropout (Dropout)           (None, 128)               0         \n",
      "                                                                 \n",
      " dense_1 (Dense)             (None, 64)                8256      \n",
      "                                                                 \n",
      " dropout_1 (Dropout)         (None, 64)                0         \n",
      "                                                                 \n",
      " dense_2 (Dense)             (None, 32)                2080      \n",
      "                                                                 \n",
      " dropout_2 (Dropout)         (None, 32)                0         \n",
      "                                                                 \n",
      " dense_3 (Dense)             (None, 16)                528       \n",
      "                                                                 \n",
      " dropout_3 (Dropout)         (None, 16)                0         \n",
      "                                                                 \n",
      " dense_4 (Dense)             (None, 1)                 17        \n",
      "                                                                 \n",
      "=================================================================\n",
      "Total params: 693,761\n",
      "Trainable params: 693,761\n",
      "Non-trainable params: 0\n",
      "_________________________________________________________________\n"
     ]
    }
   ],
   "source": [
    "model_base = tf.keras.models.Sequential([\n",
    "\n",
    "  Conv2D(32, kernel_size= (3,3), activation='relu', input_shape =(IMG_SIZE,IMG_SIZE,1)),\n",
    "  MaxPooling2D(),\n",
    "\n",
    "  Conv2D(64, kernel_size = (3,3), activation='relu'),\n",
    "  MaxPooling2D(),\n",
    "    \n",
    "  Conv2D(128, kernel_size = (3,3), activation='relu'),\n",
    "\n",
    "  Conv2D(256, kernel_size = (3,3), activation='relu'),\n",
    "  MaxPooling2D(),\n",
    "    \n",
    "  Flatten(),\n",
    "  Dense(128, activation='relu'),\n",
    "  Dropout(0.2),\n",
    "    \n",
    "  Dense(64, activation='relu'),\n",
    "  Dropout(0.2),\n",
    "\n",
    "  Dense(32, activation='relu'),\n",
    "  Dropout(0.2),\n",
    "\n",
    "  Dense(16, activation='relu'),\n",
    "  Dropout(0.2),    \n",
    "    \n",
    "  Dense(1, activation= 'sigmoid') # Se tienen 2 posibles clases\n",
    "])\n",
    "\n",
    "callbacks = [\n",
    "    ModelCheckpoint(\n",
    "    filepath=\"modelos/checkpoint_model5a\",\n",
    "    save_best_only=True,\n",
    "    monitor=\"val_loss\")\n",
    "]\n",
    "\n",
    "model_base.compile(optimizer='RMSprop',loss=tf.keras.losses.BinaryCrossentropy(from_logits=False), metrics=['Precision', 'Recall'])\n",
    "model_base.summary()"
   ]
  },
  {
   "cell_type": "markdown",
   "metadata": {},
   "source": [
    "Realizar el entrenamiento"
   ]
  },
  {
   "cell_type": "code",
   "execution_count": 9,
   "metadata": {},
   "outputs": [
    {
     "name": "stdout",
     "output_type": "stream",
     "text": [
      "Epoch 1/200\n",
      "48/48 [==============================] - ETA: 0s - loss: 0.6868 - precision: 0.5471 - recall: 0.7167"
     ]
    },
    {
     "name": "stderr",
     "output_type": "stream",
     "text": [
      "WARNING:absl:Found untraced functions such as _jit_compiled_convolution_op, _jit_compiled_convolution_op, _jit_compiled_convolution_op, _jit_compiled_convolution_op while saving (showing 4 of 4). These functions will not be directly callable after loading.\n"
     ]
    },
    {
     "name": "stdout",
     "output_type": "stream",
     "text": [
      "INFO:tensorflow:Assets written to: modelos\\checkpoint_model5a\\assets\n"
     ]
    },
    {
     "name": "stderr",
     "output_type": "stream",
     "text": [
      "INFO:tensorflow:Assets written to: modelos\\checkpoint_model5a\\assets\n"
     ]
    },
    {
     "name": "stdout",
     "output_type": "stream",
     "text": [
      "48/48 [==============================] - 21s 344ms/step - loss: 0.6868 - precision: 0.5471 - recall: 0.7167 - val_loss: 0.6141 - val_precision: 0.6528 - val_recall: 0.9171\n",
      "Epoch 2/200\n",
      "48/48 [==============================] - ETA: 0s - loss: 0.6000 - precision: 0.7044 - recall: 0.7210"
     ]
    },
    {
     "name": "stderr",
     "output_type": "stream",
     "text": [
      "WARNING:absl:Found untraced functions such as _jit_compiled_convolution_op, _jit_compiled_convolution_op, _jit_compiled_convolution_op, _jit_compiled_convolution_op while saving (showing 4 of 4). These functions will not be directly callable after loading.\n"
     ]
    },
    {
     "name": "stdout",
     "output_type": "stream",
     "text": [
      "INFO:tensorflow:Assets written to: modelos\\checkpoint_model5a\\assets\n"
     ]
    },
    {
     "name": "stderr",
     "output_type": "stream",
     "text": [
      "INFO:tensorflow:Assets written to: modelos\\checkpoint_model5a\\assets\n"
     ]
    },
    {
     "name": "stdout",
     "output_type": "stream",
     "text": [
      "48/48 [==============================] - 15s 318ms/step - loss: 0.6000 - precision: 0.7044 - recall: 0.7210 - val_loss: 0.5493 - val_precision: 0.6355 - val_recall: 0.9610\n",
      "Epoch 3/200\n",
      "48/48 [==============================] - ETA: 0s - loss: 0.5297 - precision: 0.7418 - recall: 0.8294"
     ]
    },
    {
     "name": "stderr",
     "output_type": "stream",
     "text": [
      "WARNING:absl:Found untraced functions such as _jit_compiled_convolution_op, _jit_compiled_convolution_op, _jit_compiled_convolution_op, _jit_compiled_convolution_op while saving (showing 4 of 4). These functions will not be directly callable after loading.\n"
     ]
    },
    {
     "name": "stdout",
     "output_type": "stream",
     "text": [
      "INFO:tensorflow:Assets written to: modelos\\checkpoint_model5a\\assets\n"
     ]
    },
    {
     "name": "stderr",
     "output_type": "stream",
     "text": [
      "INFO:tensorflow:Assets written to: modelos\\checkpoint_model5a\\assets\n"
     ]
    },
    {
     "name": "stdout",
     "output_type": "stream",
     "text": [
      "48/48 [==============================] - 14s 297ms/step - loss: 0.5297 - precision: 0.7418 - recall: 0.8294 - val_loss: 0.4500 - val_precision: 0.7308 - val_recall: 0.9268\n",
      "Epoch 4/200\n",
      "48/48 [==============================] - 9s 189ms/step - loss: 0.4773 - precision: 0.7721 - recall: 0.8358 - val_loss: 0.6551 - val_precision: 0.9538 - val_recall: 0.3024\n",
      "Epoch 5/200\n",
      "48/48 [==============================] - 8s 169ms/step - loss: 0.4215 - precision: 0.8002 - recall: 0.8594 - val_loss: 0.7761 - val_precision: 0.9726 - val_recall: 0.3463\n",
      "Epoch 6/200\n",
      "48/48 [==============================] - ETA: 0s - loss: 0.3810 - precision: 0.8359 - recall: 0.8691"
     ]
    },
    {
     "name": "stderr",
     "output_type": "stream",
     "text": [
      "WARNING:absl:Found untraced functions such as _jit_compiled_convolution_op, _jit_compiled_convolution_op, _jit_compiled_convolution_op, _jit_compiled_convolution_op while saving (showing 4 of 4). These functions will not be directly callable after loading.\n"
     ]
    },
    {
     "name": "stdout",
     "output_type": "stream",
     "text": [
      "INFO:tensorflow:Assets written to: modelos\\checkpoint_model5a\\assets\n"
     ]
    },
    {
     "name": "stderr",
     "output_type": "stream",
     "text": [
      "INFO:tensorflow:Assets written to: modelos\\checkpoint_model5a\\assets\n"
     ]
    },
    {
     "name": "stdout",
     "output_type": "stream",
     "text": [
      "48/48 [==============================] - 12s 250ms/step - loss: 0.3810 - precision: 0.8359 - recall: 0.8691 - val_loss: 0.3906 - val_precision: 0.7303 - val_recall: 0.9512\n",
      "Epoch 7/200\n",
      "48/48 [==============================] - 8s 170ms/step - loss: 0.3403 - precision: 0.8320 - recall: 0.9034 - val_loss: 0.4025 - val_precision: 0.8895 - val_recall: 0.7463\n",
      "Epoch 8/200\n",
      "48/48 [==============================] - 9s 191ms/step - loss: 0.3011 - precision: 0.8629 - recall: 0.9120 - val_loss: 0.3930 - val_precision: 0.8883 - val_recall: 0.8146\n",
      "Epoch 9/200\n",
      "48/48 [==============================] - 8s 172ms/step - loss: 0.2738 - precision: 0.8692 - recall: 0.9270 - val_loss: 0.9697 - val_precision: 0.9688 - val_recall: 0.3024\n",
      "Epoch 10/200\n",
      "48/48 [==============================] - ETA: 0s - loss: 0.2823 - precision: 0.8904 - recall: 0.9152"
     ]
    },
    {
     "name": "stderr",
     "output_type": "stream",
     "text": [
      "WARNING:absl:Found untraced functions such as _jit_compiled_convolution_op, _jit_compiled_convolution_op, _jit_compiled_convolution_op, _jit_compiled_convolution_op while saving (showing 4 of 4). These functions will not be directly callable after loading.\n"
     ]
    },
    {
     "name": "stdout",
     "output_type": "stream",
     "text": [
      "INFO:tensorflow:Assets written to: modelos\\checkpoint_model5a\\assets\n"
     ]
    },
    {
     "name": "stderr",
     "output_type": "stream",
     "text": [
      "INFO:tensorflow:Assets written to: modelos\\checkpoint_model5a\\assets\n"
     ]
    },
    {
     "name": "stdout",
     "output_type": "stream",
     "text": [
      "48/48 [==============================] - 10s 220ms/step - loss: 0.2823 - precision: 0.8904 - recall: 0.9152 - val_loss: 0.3097 - val_precision: 0.9389 - val_recall: 0.8244\n",
      "Epoch 11/200\n",
      "48/48 [==============================] - 8s 167ms/step - loss: 0.2149 - precision: 0.9159 - recall: 0.9345 - val_loss: 0.4384 - val_precision: 0.9031 - val_recall: 0.8634\n",
      "Epoch 12/200\n",
      "48/48 [==============================] - 8s 166ms/step - loss: 0.1838 - precision: 0.9174 - recall: 0.9539 - val_loss: 0.4131 - val_precision: 0.9205 - val_recall: 0.7902\n",
      "Epoch 13/200\n",
      "48/48 [==============================] - 8s 170ms/step - loss: 0.1776 - precision: 0.9236 - recall: 0.9592 - val_loss: 0.4503 - val_precision: 0.9062 - val_recall: 0.8488\n",
      "Epoch 14/200\n",
      "48/48 [==============================] - 8s 168ms/step - loss: 0.1742 - precision: 0.9420 - recall: 0.9592 - val_loss: 0.3868 - val_precision: 0.8738 - val_recall: 0.8780\n",
      "Epoch 15/200\n",
      "48/48 [==============================] - 8s 165ms/step - loss: 0.1296 - precision: 0.9440 - recall: 0.9582 - val_loss: 0.4352 - val_precision: 0.8592 - val_recall: 0.8927\n",
      "Epoch 16/200\n",
      "48/48 [==============================] - 9s 187ms/step - loss: 0.1221 - precision: 0.9476 - recall: 0.9700 - val_loss: 0.5123 - val_precision: 0.9211 - val_recall: 0.8537\n",
      "Epoch 17/200\n",
      "48/48 [==============================] - 9s 189ms/step - loss: 0.1077 - precision: 0.9617 - recall: 0.9700 - val_loss: 0.4492 - val_precision: 0.8571 - val_recall: 0.9073\n",
      "Epoch 18/200\n",
      "48/48 [==============================] - 8s 176ms/step - loss: 0.0886 - precision: 0.9578 - recall: 0.9732 - val_loss: 0.5806 - val_precision: 0.9059 - val_recall: 0.8927\n",
      "Epoch 19/200\n",
      "48/48 [==============================] - 9s 181ms/step - loss: 0.0889 - precision: 0.9669 - recall: 0.9721 - val_loss: 0.8166 - val_precision: 0.8922 - val_recall: 0.8878\n",
      "Epoch 20/200\n",
      "48/48 [==============================] - 9s 187ms/step - loss: 0.0910 - precision: 0.9764 - recall: 0.9775 - val_loss: 0.4793 - val_precision: 0.9362 - val_recall: 0.8585\n",
      "Epoch 21/200\n",
      "48/48 [==============================] - 10s 201ms/step - loss: 0.0581 - precision: 0.9818 - recall: 0.9818 - val_loss: 0.5350 - val_precision: 0.9316 - val_recall: 0.8634\n",
      "Epoch 22/200\n",
      "48/48 [==============================] - 11s 222ms/step - loss: 0.0636 - precision: 0.9796 - recall: 0.9796 - val_loss: 1.0575 - val_precision: 0.7631 - val_recall: 0.9268\n",
      "Epoch 23/200\n",
      "48/48 [==============================] - 10s 199ms/step - loss: 0.0767 - precision: 0.9786 - recall: 0.9796 - val_loss: 0.5857 - val_precision: 0.8894 - val_recall: 0.8634\n",
      "Epoch 24/200\n",
      "48/48 [==============================] - 9s 193ms/step - loss: 0.0589 - precision: 0.9830 - recall: 0.9903 - val_loss: 1.6616 - val_precision: 0.8712 - val_recall: 0.6927\n",
      "Epoch 25/200\n",
      "48/48 [==============================] - 9s 191ms/step - loss: 0.0602 - precision: 0.9839 - recall: 0.9850 - val_loss: 0.9438 - val_precision: 0.8905 - val_recall: 0.9122\n",
      "Epoch 26/200\n",
      "48/48 [==============================] - 8s 170ms/step - loss: 0.0695 - precision: 0.9829 - recall: 0.9839 - val_loss: 0.8036 - val_precision: 0.9121 - val_recall: 0.8098\n",
      "Epoch 27/200\n",
      "48/48 [==============================] - 8s 168ms/step - loss: 0.0413 - precision: 0.9882 - recall: 0.9871 - val_loss: 1.0203 - val_precision: 0.8995 - val_recall: 0.8732\n",
      "Epoch 28/200\n",
      "48/48 [==============================] - 8s 166ms/step - loss: 0.0519 - precision: 0.9860 - recall: 0.9850 - val_loss: 0.7052 - val_precision: 0.9010 - val_recall: 0.8439\n",
      "Epoch 29/200\n",
      "48/48 [==============================] - 8s 169ms/step - loss: 0.0216 - precision: 0.9957 - recall: 0.9946 - val_loss: 1.3820 - val_precision: 0.8120 - val_recall: 0.9268\n",
      "Epoch 30/200\n",
      "48/48 [==============================] - 8s 167ms/step - loss: 0.0452 - precision: 0.9850 - recall: 0.9882 - val_loss: 0.9664 - val_precision: 0.8883 - val_recall: 0.8927\n",
      "Epoch 31/200\n",
      "48/48 [==============================] - 8s 167ms/step - loss: 0.0715 - precision: 0.9829 - recall: 0.9839 - val_loss: 0.8494 - val_precision: 0.8984 - val_recall: 0.8195\n",
      "Epoch 32/200\n",
      "48/48 [==============================] - 9s 198ms/step - loss: 0.0299 - precision: 0.9925 - recall: 0.9914 - val_loss: 0.8346 - val_precision: 0.8955 - val_recall: 0.8780\n",
      "Epoch 33/200\n",
      "48/48 [==============================] - 10s 203ms/step - loss: 0.0373 - precision: 0.9882 - recall: 0.9893 - val_loss: 1.0920 - val_precision: 0.9261 - val_recall: 0.7951\n",
      "Epoch 34/200\n",
      "48/48 [==============================] - 9s 198ms/step - loss: 0.0233 - precision: 0.9914 - recall: 0.9893 - val_loss: 0.8989 - val_precision: 0.9267 - val_recall: 0.8634\n",
      "Epoch 35/200\n",
      "48/48 [==============================] - 11s 227ms/step - loss: 0.0198 - precision: 0.9946 - recall: 0.9957 - val_loss: 0.9298 - val_precision: 0.9146 - val_recall: 0.8878\n",
      "Epoch 36/200\n",
      "48/48 [==============================] - 11s 221ms/step - loss: 0.0182 - precision: 0.9978 - recall: 0.9957 - val_loss: 1.5998 - val_precision: 0.9206 - val_recall: 0.8488\n",
      "Epoch 37/200\n",
      "48/48 [==============================] - 10s 202ms/step - loss: 0.0323 - precision: 0.9925 - recall: 0.9914 - val_loss: 1.1081 - val_precision: 0.9271 - val_recall: 0.8683\n",
      "Epoch 38/200\n",
      "48/48 [==============================] - 9s 178ms/step - loss: 0.0593 - precision: 0.9871 - recall: 0.9861 - val_loss: 0.8560 - val_precision: 0.9050 - val_recall: 0.8829\n",
      "Epoch 39/200\n",
      "48/48 [==============================] - 8s 171ms/step - loss: 0.0332 - precision: 0.9935 - recall: 0.9893 - val_loss: 1.1213 - val_precision: 0.8894 - val_recall: 0.9024\n",
      "Epoch 40/200\n",
      "48/48 [==============================] - 10s 198ms/step - loss: 0.0277 - precision: 0.9914 - recall: 0.9925 - val_loss: 1.5910 - val_precision: 0.8552 - val_recall: 0.9220\n",
      "Epoch 41/200\n",
      "48/48 [==============================] - 10s 209ms/step - loss: 0.0355 - precision: 0.9914 - recall: 0.9925 - val_loss: 1.0609 - val_precision: 0.8786 - val_recall: 0.8829\n",
      "Epoch 42/200\n",
      "48/48 [==============================] - 9s 193ms/step - loss: 0.0999 - precision: 0.9936 - recall: 0.9946 - val_loss: 1.0192 - val_precision: 0.8512 - val_recall: 0.8927\n",
      "Epoch 43/200\n",
      "48/48 [==============================] - 9s 190ms/step - loss: 0.0088 - precision: 0.9968 - recall: 1.0000 - val_loss: 1.3552 - val_precision: 0.9064 - val_recall: 0.8976\n",
      "Epoch 44/200\n",
      "48/48 [==============================] - 9s 184ms/step - loss: 0.0325 - precision: 0.9925 - recall: 0.9946 - val_loss: 1.1719 - val_precision: 0.8974 - val_recall: 0.8537\n",
      "Epoch 45/200\n",
      "48/48 [==============================] - 10s 198ms/step - loss: 0.0383 - precision: 0.9936 - recall: 0.9925 - val_loss: 1.0679 - val_precision: 0.8995 - val_recall: 0.8732\n",
      "Epoch 46/200\n",
      "48/48 [==============================] - 9s 194ms/step - loss: 0.0314 - precision: 0.9946 - recall: 0.9946 - val_loss: 0.9397 - val_precision: 0.9036 - val_recall: 0.8683\n",
      "Epoch 47/200\n",
      "48/48 [==============================] - 8s 169ms/step - loss: 0.0017 - precision: 1.0000 - recall: 1.0000 - val_loss: 1.8497 - val_precision: 0.8955 - val_recall: 0.8780\n",
      "Epoch 48/200\n",
      "48/48 [==============================] - 8s 166ms/step - loss: 0.0269 - precision: 0.9914 - recall: 0.9936 - val_loss: 1.8775 - val_precision: 0.9648 - val_recall: 0.6683\n",
      "Epoch 49/200\n",
      "48/48 [==============================] - 8s 177ms/step - loss: 0.0128 - precision: 0.9957 - recall: 0.9936 - val_loss: 2.0464 - val_precision: 0.9306 - val_recall: 0.7854\n",
      "Epoch 50/200\n",
      "48/48 [==============================] - 8s 165ms/step - loss: 1.5445e-04 - precision: 1.0000 - recall: 1.0000 - val_loss: 2.7003 - val_precision: 0.9153 - val_recall: 0.8439\n",
      "Epoch 51/200\n",
      "48/48 [==============================] - 8s 167ms/step - loss: 0.0501 - precision: 0.9882 - recall: 0.9903 - val_loss: 1.5771 - val_precision: 0.9290 - val_recall: 0.7659\n",
      "Epoch 52/200\n",
      "48/48 [==============================] - 8s 167ms/step - loss: 0.0375 - precision: 0.9925 - recall: 0.9936 - val_loss: 1.4086 - val_precision: 0.9385 - val_recall: 0.8195\n",
      "Epoch 53/200\n",
      "48/48 [==============================] - 8s 172ms/step - loss: 2.9007e-04 - precision: 1.0000 - recall: 1.0000 - val_loss: 4.5758 - val_precision: 0.9371 - val_recall: 0.7268\n",
      "Epoch 54/200\n",
      "48/48 [==============================] - 8s 169ms/step - loss: 0.0303 - precision: 0.9946 - recall: 0.9957 - val_loss: 1.3757 - val_precision: 0.9358 - val_recall: 0.8537\n",
      "Epoch 55/200\n",
      "48/48 [==============================] - 8s 163ms/step - loss: 0.0182 - precision: 0.9968 - recall: 0.9979 - val_loss: 1.7624 - val_precision: 0.9362 - val_recall: 0.6439\n",
      "Epoch 56/200\n",
      "48/48 [==============================] - 8s 167ms/step - loss: 0.0158 - precision: 0.9957 - recall: 0.9914 - val_loss: 1.5145 - val_precision: 0.9309 - val_recall: 0.8537\n",
      "Epoch 57/200\n",
      "48/48 [==============================] - 8s 166ms/step - loss: 0.0316 - precision: 0.9957 - recall: 0.9925 - val_loss: 1.2508 - val_precision: 0.8792 - val_recall: 0.8878\n",
      "Epoch 58/200\n",
      "48/48 [==============================] - 8s 164ms/step - loss: 0.0103 - precision: 0.9968 - recall: 0.9968 - val_loss: 1.7821 - val_precision: 0.9219 - val_recall: 0.8634\n",
      "Epoch 59/200\n",
      "48/48 [==============================] - 9s 181ms/step - loss: 0.0417 - precision: 0.9925 - recall: 0.9903 - val_loss: 1.4587 - val_precision: 0.9043 - val_recall: 0.8293\n",
      "Epoch 60/200\n",
      "48/48 [==============================] - 9s 180ms/step - loss: 0.0053 - precision: 0.9979 - recall: 0.9979 - val_loss: 1.8585 - val_precision: 0.9086 - val_recall: 0.8732\n",
      "Epoch 61/200\n",
      "48/48 [==============================] - 8s 168ms/step - loss: 0.0335 - precision: 0.9914 - recall: 0.9936 - val_loss: 1.5322 - val_precision: 0.9026 - val_recall: 0.8585\n",
      "Epoch 62/200\n",
      "48/48 [==============================] - 8s 167ms/step - loss: 3.6495e-04 - precision: 1.0000 - recall: 1.0000 - val_loss: 2.2474 - val_precision: 0.9286 - val_recall: 0.8244\n",
      "Epoch 63/200\n",
      "48/48 [==============================] - 8s 167ms/step - loss: 0.0355 - precision: 0.9904 - recall: 0.9946 - val_loss: 2.4423 - val_precision: 0.8955 - val_recall: 0.8780\n",
      "Epoch 64/200\n",
      "48/48 [==============================] - 9s 185ms/step - loss: 0.0558 - precision: 0.9935 - recall: 0.9893 - val_loss: 1.3633 - val_precision: 0.9240 - val_recall: 0.7707\n",
      "Epoch 65/200\n",
      "48/48 [==============================] - 8s 172ms/step - loss: 0.0235 - precision: 0.9979 - recall: 0.9968 - val_loss: 2.4380 - val_precision: 0.9692 - val_recall: 0.6146\n",
      "Epoch 66/200\n",
      "48/48 [==============================] - 9s 183ms/step - loss: 0.0338 - precision: 0.9957 - recall: 0.9914 - val_loss: 1.7390 - val_precision: 0.9251 - val_recall: 0.8439\n",
      "Epoch 67/200\n",
      "48/48 [==============================] - 8s 175ms/step - loss: 0.0793 - precision: 0.9904 - recall: 0.9936 - val_loss: 0.8181 - val_precision: 0.9358 - val_recall: 0.8537\n",
      "Epoch 68/200\n",
      "48/48 [==============================] - 9s 183ms/step - loss: 0.0018 - precision: 1.0000 - recall: 0.9989 - val_loss: 1.3889 - val_precision: 0.9267 - val_recall: 0.8634\n",
      "Epoch 69/200\n",
      "48/48 [==============================] - 10s 208ms/step - loss: 0.0191 - precision: 0.9979 - recall: 0.9989 - val_loss: 2.9690 - val_precision: 0.9528 - val_recall: 0.5902\n",
      "Epoch 70/200\n",
      "48/48 [==============================] - 10s 211ms/step - loss: 0.0158 - precision: 0.9968 - recall: 0.9946 - val_loss: 2.7768 - val_precision: 0.9458 - val_recall: 0.7659\n",
      "Epoch 71/200\n",
      "48/48 [==============================] - 10s 200ms/step - loss: 0.0395 - precision: 0.9914 - recall: 0.9893 - val_loss: 1.2303 - val_precision: 0.9058 - val_recall: 0.8439\n",
      "Epoch 72/200\n",
      "48/48 [==============================] - 9s 192ms/step - loss: 0.0233 - precision: 0.9968 - recall: 0.9903 - val_loss: 1.3125 - val_precision: 0.8720 - val_recall: 0.8976\n",
      "Epoch 73/200\n",
      "48/48 [==============================] - 10s 200ms/step - loss: 0.0013 - precision: 1.0000 - recall: 1.0000 - val_loss: 2.0807 - val_precision: 0.9271 - val_recall: 0.8683\n",
      "Epoch 74/200\n",
      "48/48 [==============================] - 8s 162ms/step - loss: 0.0312 - precision: 0.9957 - recall: 0.9968 - val_loss: 1.1725 - val_precision: 0.9305 - val_recall: 0.8488\n",
      "Epoch 75/200\n",
      "48/48 [==============================] - 8s 169ms/step - loss: 0.0381 - precision: 0.9936 - recall: 0.9968 - val_loss: 1.7875 - val_precision: 0.9171 - val_recall: 0.8098\n",
      "Epoch 76/200\n",
      "48/48 [==============================] - 9s 196ms/step - loss: 0.0182 - precision: 0.9979 - recall: 0.9968 - val_loss: 2.2347 - val_precision: 0.9371 - val_recall: 0.8000\n",
      "Epoch 77/200\n",
      "48/48 [==============================] - 9s 180ms/step - loss: 6.6447e-05 - precision: 1.0000 - recall: 1.0000 - val_loss: 3.1077 - val_precision: 0.9389 - val_recall: 0.8244\n",
      "Epoch 78/200\n",
      "48/48 [==============================] - 8s 162ms/step - loss: 0.0460 - precision: 0.9925 - recall: 0.9914 - val_loss: 1.8170 - val_precision: 0.9198 - val_recall: 0.8390\n",
      "Epoch 79/200\n",
      "48/48 [==============================] - 7s 155ms/step - loss: 2.9352e-04 - precision: 1.0000 - recall: 1.0000 - val_loss: 2.2617 - val_precision: 0.9243 - val_recall: 0.8341\n",
      "Epoch 80/200\n",
      "48/48 [==============================] - 7s 155ms/step - loss: 1.1240e-05 - precision: 1.0000 - recall: 1.0000 - val_loss: 3.4851 - val_precision: 0.9392 - val_recall: 0.8293\n",
      "Epoch 81/200\n",
      "48/48 [==============================] - 7s 155ms/step - loss: 0.0875 - precision: 0.9903 - recall: 0.9893 - val_loss: 1.1877 - val_precision: 0.9235 - val_recall: 0.8244\n",
      "Epoch 82/200\n",
      "48/48 [==============================] - 7s 152ms/step - loss: 0.0203 - precision: 0.9978 - recall: 0.9946 - val_loss: 1.4980 - val_precision: 0.9293 - val_recall: 0.8341\n",
      "Epoch 83/200\n",
      "48/48 [==============================] - 7s 156ms/step - loss: 0.0257 - precision: 0.9946 - recall: 0.9936 - val_loss: 1.0888 - val_precision: 0.9000 - val_recall: 0.8780\n",
      "Epoch 84/200\n",
      "48/48 [==============================] - 7s 156ms/step - loss: 0.0012 - precision: 1.0000 - recall: 1.0000 - val_loss: 2.2664 - val_precision: 0.9305 - val_recall: 0.8488\n",
      "Epoch 85/200\n",
      "48/48 [==============================] - 7s 154ms/step - loss: 3.8419e-05 - precision: 1.0000 - recall: 1.0000 - val_loss: 2.8173 - val_precision: 0.9215 - val_recall: 0.8585\n",
      "Epoch 86/200\n",
      "48/48 [==============================] - 7s 155ms/step - loss: 0.0296 - precision: 0.9936 - recall: 0.9925 - val_loss: 1.3873 - val_precision: 0.8704 - val_recall: 0.9171\n",
      "Epoch 87/200\n",
      "48/48 [==============================] - 7s 155ms/step - loss: 0.0274 - precision: 0.9947 - recall: 0.9979 - val_loss: 1.3130 - val_precision: 0.9375 - val_recall: 0.8780\n",
      "Epoch 88/200\n",
      "48/48 [==============================] - 8s 157ms/step - loss: 0.0016 - precision: 0.9989 - recall: 1.0000 - val_loss: 2.2484 - val_precision: 0.9192 - val_recall: 0.8878\n",
      "Epoch 89/200\n",
      "48/48 [==============================] - 7s 154ms/step - loss: 0.0491 - precision: 0.9946 - recall: 0.9946 - val_loss: 1.3424 - val_precision: 0.9050 - val_recall: 0.8829\n",
      "Epoch 90/200\n",
      "48/48 [==============================] - 8s 157ms/step - loss: 0.0018 - precision: 0.9989 - recall: 1.0000 - val_loss: 2.7055 - val_precision: 0.9184 - val_recall: 0.8780\n",
      "Epoch 91/200\n",
      "48/48 [==============================] - 8s 168ms/step - loss: 0.0289 - precision: 0.9946 - recall: 0.9946 - val_loss: 1.5121 - val_precision: 0.8868 - val_recall: 0.9171\n",
      "Epoch 92/200\n",
      "48/48 [==============================] - 7s 155ms/step - loss: 0.0255 - precision: 0.9925 - recall: 0.9936 - val_loss: 1.7510 - val_precision: 0.9270 - val_recall: 0.8049\n",
      "Epoch 93/200\n",
      "48/48 [==============================] - 8s 158ms/step - loss: 0.0122 - precision: 0.9947 - recall: 0.9979 - val_loss: 2.2903 - val_precision: 0.9157 - val_recall: 0.7951\n",
      "Epoch 94/200\n",
      "48/48 [==============================] - 8s 158ms/step - loss: 0.0112 - precision: 0.9979 - recall: 0.9968 - val_loss: 3.0963 - val_precision: 0.8619 - val_recall: 0.8829\n",
      "Epoch 95/200\n",
      "48/48 [==============================] - 7s 156ms/step - loss: 0.0156 - precision: 0.9979 - recall: 0.9989 - val_loss: 2.9548 - val_precision: 0.8774 - val_recall: 0.9073\n",
      "Epoch 96/200\n",
      "48/48 [==============================] - 8s 159ms/step - loss: 0.0375 - precision: 0.9914 - recall: 0.9946 - val_loss: 1.7196 - val_precision: 0.9239 - val_recall: 0.8878\n",
      "Epoch 97/200\n",
      "48/48 [==============================] - 8s 159ms/step - loss: 0.0502 - precision: 0.9968 - recall: 0.9968 - val_loss: 1.6993 - val_precision: 0.9167 - val_recall: 0.8585\n",
      "Epoch 98/200\n",
      "48/48 [==============================] - 9s 183ms/step - loss: 6.7938e-04 - precision: 1.0000 - recall: 1.0000 - val_loss: 2.8941 - val_precision: 0.9082 - val_recall: 0.8683\n",
      "Epoch 99/200\n",
      "48/48 [==============================] - 9s 194ms/step - loss: 0.0388 - precision: 0.9979 - recall: 0.9989 - val_loss: 2.2709 - val_precision: 0.9171 - val_recall: 0.8634\n",
      "Epoch 100/200\n",
      "48/48 [==============================] - 8s 173ms/step - loss: 0.0398 - precision: 0.9946 - recall: 0.9914 - val_loss: 2.1289 - val_precision: 0.8714 - val_recall: 0.8927\n",
      "Epoch 101/200\n",
      "48/48 [==============================] - 8s 168ms/step - loss: 0.0038 - precision: 0.9989 - recall: 0.9989 - val_loss: 2.4454 - val_precision: 0.8916 - val_recall: 0.8829\n",
      "Epoch 102/200\n",
      "48/48 [==============================] - 8s 161ms/step - loss: 0.0085 - precision: 0.9989 - recall: 0.9968 - val_loss: 2.6727 - val_precision: 0.8794 - val_recall: 0.8537\n",
      "Epoch 103/200\n",
      "48/48 [==============================] - 8s 164ms/step - loss: 0.0231 - precision: 0.9946 - recall: 0.9946 - val_loss: 3.7718 - val_precision: 0.9312 - val_recall: 0.7268\n",
      "Epoch 104/200\n",
      "48/48 [==============================] - 8s 165ms/step - loss: 0.0013 - precision: 1.0000 - recall: 0.9989 - val_loss: 3.2114 - val_precision: 0.9297 - val_recall: 0.8390\n",
      "Epoch 105/200\n",
      "48/48 [==============================] - 8s 166ms/step - loss: 0.0566 - precision: 0.9946 - recall: 0.9936 - val_loss: 2.4132 - val_precision: 0.8966 - val_recall: 0.8878\n",
      "Epoch 106/200\n",
      "48/48 [==============================] - 8s 165ms/step - loss: 0.0013 - precision: 1.0000 - recall: 1.0000 - val_loss: 2.7223 - val_precision: 0.9337 - val_recall: 0.8244\n",
      "Epoch 107/200\n",
      "48/48 [==============================] - 8s 175ms/step - loss: 0.0466 - precision: 0.9914 - recall: 0.9946 - val_loss: 1.9877 - val_precision: 0.9082 - val_recall: 0.8683\n",
      "Epoch 108/200\n",
      "48/48 [==============================] - 8s 168ms/step - loss: 5.1894e-04 - precision: 1.0000 - recall: 1.0000 - val_loss: 2.8853 - val_precision: 0.9293 - val_recall: 0.8341\n",
      "Epoch 109/200\n",
      "48/48 [==============================] - 8s 165ms/step - loss: 0.0626 - precision: 0.9946 - recall: 0.9936 - val_loss: 2.0787 - val_precision: 0.8974 - val_recall: 0.8537\n",
      "Epoch 110/200\n",
      "48/48 [==============================] - 8s 163ms/step - loss: 0.0170 - precision: 0.9947 - recall: 0.9979 - val_loss: 1.5304 - val_precision: 0.9096 - val_recall: 0.8341\n",
      "Epoch 111/200\n",
      "48/48 [==============================] - 8s 166ms/step - loss: 0.0017 - precision: 0.9989 - recall: 1.0000 - val_loss: 3.7666 - val_precision: 0.9408 - val_recall: 0.7756\n",
      "Epoch 112/200\n",
      "48/48 [==============================] - 8s 162ms/step - loss: 0.0506 - precision: 0.9935 - recall: 0.9893 - val_loss: 1.5548 - val_precision: 0.9293 - val_recall: 0.8341\n",
      "Epoch 113/200\n",
      "48/48 [==============================] - 8s 166ms/step - loss: 0.0186 - precision: 0.9957 - recall: 0.9979 - val_loss: 2.1867 - val_precision: 0.8960 - val_recall: 0.8829\n",
      "Epoch 114/200\n",
      "48/48 [==============================] - 8s 169ms/step - loss: 1.0034e-05 - precision: 1.0000 - recall: 1.0000 - val_loss: 2.3210 - val_precision: 0.9133 - val_recall: 0.8732\n",
      "Epoch 115/200\n",
      "48/48 [==============================] - 8s 177ms/step - loss: 1.6693e-06 - precision: 1.0000 - recall: 1.0000 - val_loss: 2.6419 - val_precision: 0.9175 - val_recall: 0.8683\n",
      "Epoch 116/200\n",
      "48/48 [==============================] - 8s 170ms/step - loss: 0.0346 - precision: 0.9989 - recall: 0.9946 - val_loss: 3.7941 - val_precision: 0.8911 - val_recall: 0.8780\n",
      "Epoch 117/200\n",
      "48/48 [==============================] - 8s 176ms/step - loss: 0.0079 - precision: 0.9989 - recall: 1.0000 - val_loss: 2.5932 - val_precision: 0.9069 - val_recall: 0.9024\n",
      "Epoch 118/200\n",
      "48/48 [==============================] - 8s 171ms/step - loss: 0.0216 - precision: 0.9979 - recall: 0.9979 - val_loss: 1.8748 - val_precision: 0.8349 - val_recall: 0.8878\n",
      "Epoch 119/200\n",
      "48/48 [==============================] - 9s 177ms/step - loss: 0.0207 - precision: 0.9978 - recall: 0.9946 - val_loss: 3.3607 - val_precision: 0.8856 - val_recall: 0.8683\n",
      "Epoch 120/200\n",
      "48/48 [==============================] - 8s 171ms/step - loss: 0.0365 - precision: 0.9968 - recall: 0.9946 - val_loss: 1.1361 - val_precision: 0.9082 - val_recall: 0.8683\n",
      "Epoch 121/200\n",
      "48/48 [==============================] - 8s 177ms/step - loss: 0.0033 - precision: 0.9989 - recall: 0.9989 - val_loss: 2.4297 - val_precision: 0.9267 - val_recall: 0.8634\n",
      "Epoch 122/200\n",
      "48/48 [==============================] - 8s 175ms/step - loss: 0.1174 - precision: 0.9936 - recall: 0.9936 - val_loss: 1.4717 - val_precision: 0.9110 - val_recall: 0.8488\n",
      "Epoch 123/200\n",
      "48/48 [==============================] - 9s 179ms/step - loss: 0.0022 - precision: 1.0000 - recall: 0.9979 - val_loss: 2.6406 - val_precision: 0.8818 - val_recall: 0.8732\n",
      "Epoch 124/200\n",
      "48/48 [==============================] - 8s 175ms/step - loss: 0.0057 - precision: 0.9989 - recall: 1.0000 - val_loss: 2.8266 - val_precision: 0.8955 - val_recall: 0.8780\n",
      "Epoch 125/200\n",
      "48/48 [==============================] - 8s 176ms/step - loss: 0.0102 - precision: 0.9968 - recall: 0.9979 - val_loss: 3.0040 - val_precision: 0.8900 - val_recall: 0.8683\n",
      "Epoch 126/200\n",
      "48/48 [==============================] - 8s 176ms/step - loss: 0.0426 - precision: 0.9946 - recall: 0.9968 - val_loss: 2.8510 - val_precision: 0.9058 - val_recall: 0.8439\n",
      "Epoch 127/200\n",
      "48/48 [==============================] - 8s 174ms/step - loss: 0.0047 - precision: 0.9989 - recall: 1.0000 - val_loss: 2.3681 - val_precision: 0.8905 - val_recall: 0.8732\n",
      "Epoch 128/200\n",
      "48/48 [==============================] - 8s 173ms/step - loss: 0.0096 - precision: 0.9989 - recall: 0.9979 - val_loss: 3.6694 - val_precision: 0.9000 - val_recall: 0.8780\n",
      "Epoch 129/200\n",
      "48/48 [==============================] - 9s 190ms/step - loss: 0.0269 - precision: 0.9957 - recall: 0.9968 - val_loss: 2.0136 - val_precision: 0.9180 - val_recall: 0.8195\n",
      "Epoch 130/200\n",
      "48/48 [==============================] - 8s 172ms/step - loss: 5.5107e-04 - precision: 1.0000 - recall: 0.9989 - val_loss: 3.1185 - val_precision: 0.9086 - val_recall: 0.8244\n",
      "Epoch 131/200\n",
      "48/48 [==============================] - 8s 167ms/step - loss: 0.0117 - precision: 0.9947 - recall: 0.9979 - val_loss: 3.3054 - val_precision: 0.8878 - val_recall: 0.8878\n",
      "Epoch 132/200\n",
      "48/48 [==============================] - 8s 169ms/step - loss: 0.0485 - precision: 0.9935 - recall: 0.9861 - val_loss: 1.8447 - val_precision: 0.8744 - val_recall: 0.8829\n",
      "Epoch 133/200\n",
      "48/48 [==============================] - 8s 171ms/step - loss: 0.0036 - precision: 0.9989 - recall: 0.9989 - val_loss: 2.1919 - val_precision: 0.8768 - val_recall: 0.9024\n",
      "Epoch 134/200\n",
      "48/48 [==============================] - 8s 170ms/step - loss: 0.0104 - precision: 0.9968 - recall: 0.9968 - val_loss: 2.1246 - val_precision: 0.8995 - val_recall: 0.8732\n",
      "Epoch 135/200\n",
      "48/48 [==============================] - 8s 169ms/step - loss: 0.0015 - precision: 0.9989 - recall: 0.9989 - val_loss: 3.6077 - val_precision: 0.8750 - val_recall: 0.9220\n",
      "Epoch 136/200\n",
      "48/48 [==============================] - 8s 175ms/step - loss: 0.0657 - precision: 0.9925 - recall: 0.9957 - val_loss: 1.8491 - val_precision: 0.9198 - val_recall: 0.8390\n",
      "Epoch 137/200\n",
      "48/48 [==============================] - 8s 173ms/step - loss: 0.0012 - precision: 1.0000 - recall: 0.9989 - val_loss: 3.0796 - val_precision: 0.9077 - val_recall: 0.8634\n",
      "Epoch 138/200\n",
      "48/48 [==============================] - 8s 177ms/step - loss: 4.2718e-06 - precision: 1.0000 - recall: 1.0000 - val_loss: 3.3954 - val_precision: 0.9115 - val_recall: 0.8537\n",
      "Epoch 139/200\n",
      "48/48 [==============================] - 8s 173ms/step - loss: 0.0167 - precision: 0.9978 - recall: 0.9957 - val_loss: 3.0357 - val_precision: 0.8835 - val_recall: 0.8878\n",
      "Epoch 140/200\n",
      "48/48 [==============================] - 8s 177ms/step - loss: 0.0203 - precision: 0.9957 - recall: 0.9979 - val_loss: 1.9058 - val_precision: 0.9058 - val_recall: 0.8439\n",
      "Epoch 141/200\n",
      "48/48 [==============================] - 8s 175ms/step - loss: 6.1651e-04 - precision: 1.0000 - recall: 1.0000 - val_loss: 2.3675 - val_precision: 0.9171 - val_recall: 0.8634\n",
      "Epoch 142/200\n",
      "48/48 [==============================] - 8s 176ms/step - loss: 1.3050e-05 - precision: 1.0000 - recall: 1.0000 - val_loss: 3.2486 - val_precision: 0.9293 - val_recall: 0.8341\n",
      "Epoch 143/200\n",
      "48/48 [==============================] - 8s 172ms/step - loss: 8.4356e-07 - precision: 1.0000 - recall: 1.0000 - val_loss: 4.2160 - val_precision: 0.9219 - val_recall: 0.8634\n",
      "Epoch 144/200\n",
      "48/48 [==============================] - 8s 172ms/step - loss: 0.0200 - precision: 0.9979 - recall: 0.9979 - val_loss: 3.5304 - val_precision: 0.9227 - val_recall: 0.8732\n",
      "Epoch 145/200\n",
      "48/48 [==============================] - 8s 174ms/step - loss: 3.4410e-04 - precision: 1.0000 - recall: 1.0000 - val_loss: 3.6258 - val_precision: 0.9459 - val_recall: 0.8537\n",
      "Epoch 146/200\n",
      "48/48 [==============================] - 8s 173ms/step - loss: 0.0548 - precision: 0.9957 - recall: 0.9936 - val_loss: 2.7506 - val_precision: 0.9158 - val_recall: 0.8488\n",
      "Epoch 147/200\n",
      "48/48 [==============================] - 8s 168ms/step - loss: 5.8049e-04 - precision: 1.0000 - recall: 1.0000 - val_loss: 2.8139 - val_precision: 0.9259 - val_recall: 0.8537\n",
      "Epoch 148/200\n",
      "48/48 [==============================] - 8s 165ms/step - loss: 2.6527e-05 - precision: 1.0000 - recall: 1.0000 - val_loss: 6.0738 - val_precision: 0.9270 - val_recall: 0.8049\n",
      "Epoch 149/200\n",
      "48/48 [==============================] - 8s 167ms/step - loss: 0.0807 - precision: 0.9946 - recall: 0.9925 - val_loss: 2.0499 - val_precision: 0.9235 - val_recall: 0.8244\n",
      "Epoch 150/200\n",
      "48/48 [==============================] - 8s 169ms/step - loss: 9.5689e-04 - precision: 1.0000 - recall: 1.0000 - val_loss: 3.4922 - val_precision: 0.8937 - val_recall: 0.9024\n",
      "Epoch 151/200\n",
      "48/48 [==============================] - 8s 165ms/step - loss: 0.0300 - precision: 0.9957 - recall: 0.9968 - val_loss: 3.1687 - val_precision: 0.8922 - val_recall: 0.8878\n",
      "Epoch 152/200\n",
      "48/48 [==============================] - 8s 168ms/step - loss: 0.0119 - precision: 0.9968 - recall: 0.9968 - val_loss: 3.3008 - val_precision: 0.9026 - val_recall: 0.8585\n",
      "Epoch 153/200\n",
      "48/48 [==============================] - 8s 166ms/step - loss: 0.0299 - precision: 0.9979 - recall: 0.9989 - val_loss: 3.4901 - val_precision: 0.9222 - val_recall: 0.8098\n",
      "Epoch 154/200\n",
      "48/48 [==============================] - 8s 168ms/step - loss: 0.0032 - precision: 0.9989 - recall: 0.9989 - val_loss: 3.8288 - val_precision: 0.8955 - val_recall: 0.8780\n",
      "Epoch 155/200\n",
      "48/48 [==============================] - 8s 163ms/step - loss: 0.0242 - precision: 0.9957 - recall: 0.9936 - val_loss: 3.2127 - val_precision: 0.9212 - val_recall: 0.7415\n",
      "Epoch 156/200\n",
      "48/48 [==============================] - 8s 166ms/step - loss: 0.0085 - precision: 0.9989 - recall: 0.9979 - val_loss: 2.4524 - val_precision: 0.8918 - val_recall: 0.8439\n",
      "Epoch 157/200\n",
      "48/48 [==============================] - 8s 165ms/step - loss: 2.0098e-04 - precision: 1.0000 - recall: 1.0000 - val_loss: 6.6928 - val_precision: 0.8912 - val_recall: 0.8390\n",
      "Epoch 158/200\n",
      "48/48 [==============================] - 8s 166ms/step - loss: 0.0559 - precision: 0.9968 - recall: 0.9946 - val_loss: 2.6321 - val_precision: 0.8821 - val_recall: 0.8390\n",
      "Epoch 159/200\n",
      "48/48 [==============================] - 8s 167ms/step - loss: 3.1388e-04 - precision: 1.0000 - recall: 1.0000 - val_loss: 3.4631 - val_precision: 0.9215 - val_recall: 0.8585\n",
      "Epoch 160/200\n",
      "48/48 [==============================] - 8s 169ms/step - loss: 0.0229 - precision: 0.9968 - recall: 0.9957 - val_loss: 2.6217 - val_precision: 0.8744 - val_recall: 0.8829\n",
      "Epoch 161/200\n",
      "48/48 [==============================] - 9s 185ms/step - loss: 0.0087 - precision: 0.9989 - recall: 1.0000 - val_loss: 2.4292 - val_precision: 0.9133 - val_recall: 0.7707\n",
      "Epoch 162/200\n",
      "48/48 [==============================] - 9s 177ms/step - loss: 0.0156 - precision: 0.9989 - recall: 0.9989 - val_loss: 4.6198 - val_precision: 0.8960 - val_recall: 0.8829\n",
      "Epoch 163/200\n",
      "48/48 [==============================] - 8s 173ms/step - loss: 0.0019 - precision: 1.0000 - recall: 0.9989 - val_loss: 5.1303 - val_precision: 0.9162 - val_recall: 0.8537\n",
      "Epoch 164/200\n",
      "48/48 [==============================] - 9s 184ms/step - loss: 0.0119 - precision: 0.9989 - recall: 0.9979 - val_loss: 4.2894 - val_precision: 0.9293 - val_recall: 0.8341\n",
      "Epoch 165/200\n",
      "48/48 [==============================] - 9s 191ms/step - loss: 0.0132 - precision: 0.9989 - recall: 0.9979 - val_loss: 4.1132 - val_precision: 0.9010 - val_recall: 0.8439\n",
      "Epoch 166/200\n",
      "48/48 [==============================] - 9s 187ms/step - loss: 0.0200 - precision: 0.9947 - recall: 0.9979 - val_loss: 3.3417 - val_precision: 0.8923 - val_recall: 0.8488\n",
      "Epoch 167/200\n",
      "48/48 [==============================] - 9s 184ms/step - loss: 0.0084 - precision: 0.9979 - recall: 0.9968 - val_loss: 3.3882 - val_precision: 0.9072 - val_recall: 0.8585\n",
      "Epoch 168/200\n",
      "48/48 [==============================] - 8s 169ms/step - loss: 8.9990e-06 - precision: 1.0000 - recall: 1.0000 - val_loss: 4.2193 - val_precision: 0.9282 - val_recall: 0.8195\n",
      "Epoch 169/200\n",
      "48/48 [==============================] - 8s 177ms/step - loss: 0.0318 - precision: 0.9957 - recall: 0.9946 - val_loss: 4.2209 - val_precision: 0.9153 - val_recall: 0.8439\n",
      "Epoch 170/200\n",
      "48/48 [==============================] - 9s 179ms/step - loss: 3.1217e-05 - precision: 1.0000 - recall: 1.0000 - val_loss: 4.2707 - val_precision: 0.9153 - val_recall: 0.8439\n",
      "Epoch 171/200\n",
      "48/48 [==============================] - 8s 176ms/step - loss: 2.5206e-06 - precision: 1.0000 - recall: 1.0000 - val_loss: 4.4903 - val_precision: 0.9140 - val_recall: 0.8293\n",
      "Epoch 172/200\n",
      "48/48 [==============================] - 8s 170ms/step - loss: 0.0390 - precision: 0.9968 - recall: 0.9968 - val_loss: 4.2223 - val_precision: 0.8792 - val_recall: 0.8878\n",
      "Epoch 173/200\n",
      "48/48 [==============================] - 8s 172ms/step - loss: 1.0666e-04 - precision: 1.0000 - recall: 1.0000 - val_loss: 4.2788 - val_precision: 0.8873 - val_recall: 0.8829\n",
      "Epoch 174/200\n",
      "48/48 [==============================] - 9s 178ms/step - loss: 3.8053e-06 - precision: 1.0000 - recall: 1.0000 - val_loss: 5.0160 - val_precision: 0.9082 - val_recall: 0.8683\n",
      "Epoch 175/200\n",
      "48/48 [==============================] - 9s 184ms/step - loss: 9.0477e-08 - precision: 1.0000 - recall: 1.0000 - val_loss: 5.2535 - val_precision: 0.9036 - val_recall: 0.8683\n",
      "Epoch 176/200\n",
      "48/48 [==============================] - 9s 198ms/step - loss: 0.1102 - precision: 0.9925 - recall: 0.9957 - val_loss: 6.0255 - val_precision: 0.9198 - val_recall: 0.8390\n",
      "Epoch 177/200\n",
      "48/48 [==============================] - 8s 176ms/step - loss: 0.0127 - precision: 0.9979 - recall: 0.9989 - val_loss: 5.4767 - val_precision: 0.9545 - val_recall: 0.7171\n",
      "Epoch 178/200\n",
      "48/48 [==============================] - 9s 183ms/step - loss: 0.0190 - precision: 0.9978 - recall: 0.9957 - val_loss: 3.4988 - val_precision: 0.8960 - val_recall: 0.8829\n",
      "Epoch 179/200\n",
      "48/48 [==============================] - 9s 182ms/step - loss: 5.9013e-06 - precision: 1.0000 - recall: 1.0000 - val_loss: 4.0243 - val_precision: 0.8685 - val_recall: 0.9024\n",
      "Epoch 180/200\n",
      "48/48 [==============================] - 8s 171ms/step - loss: 0.0023 - precision: 0.9989 - recall: 0.9989 - val_loss: 5.9160 - val_precision: 0.9144 - val_recall: 0.8341\n",
      "Epoch 181/200\n",
      "48/48 [==============================] - 9s 178ms/step - loss: 0.1280 - precision: 0.9968 - recall: 0.9946 - val_loss: 6.7295 - val_precision: 0.9055 - val_recall: 0.8878\n",
      "Epoch 182/200\n",
      "48/48 [==============================] - 8s 177ms/step - loss: 2.6891e-05 - precision: 1.0000 - recall: 1.0000 - val_loss: 6.6101 - val_precision: 0.9086 - val_recall: 0.8732\n",
      "Epoch 183/200\n",
      "48/48 [==============================] - 8s 172ms/step - loss: 0.0575 - precision: 0.9968 - recall: 0.9968 - val_loss: 5.4330 - val_precision: 0.8894 - val_recall: 0.8634\n",
      "Epoch 184/200\n",
      "48/48 [==============================] - 8s 174ms/step - loss: 0.0193 - precision: 0.9979 - recall: 0.9989 - val_loss: 4.3038 - val_precision: 0.8976 - val_recall: 0.8976\n",
      "Epoch 185/200\n",
      "48/48 [==============================] - 8s 167ms/step - loss: 3.6351e-04 - precision: 1.0000 - recall: 1.0000 - val_loss: 4.4629 - val_precision: 0.9100 - val_recall: 0.8878\n",
      "Epoch 186/200\n",
      "48/48 [==============================] - 8s 171ms/step - loss: 2.4490e-06 - precision: 1.0000 - recall: 1.0000 - val_loss: 4.7971 - val_precision: 0.9124 - val_recall: 0.8634\n",
      "Epoch 187/200\n",
      "48/48 [==============================] - 8s 167ms/step - loss: 0.0317 - precision: 0.9957 - recall: 0.9946 - val_loss: 5.0518 - val_precision: 0.9249 - val_recall: 0.7805\n",
      "Epoch 188/200\n",
      "48/48 [==============================] - 8s 168ms/step - loss: 0.0127 - precision: 0.9968 - recall: 0.9957 - val_loss: 3.2056 - val_precision: 0.9243 - val_recall: 0.8341\n",
      "Epoch 189/200\n",
      "48/48 [==============================] - 8s 164ms/step - loss: 0.0097 - precision: 0.9968 - recall: 0.9979 - val_loss: 4.2555 - val_precision: 0.8934 - val_recall: 0.8585\n",
      "Epoch 190/200\n",
      "48/48 [==============================] - 8s 170ms/step - loss: 0.0015 - precision: 1.0000 - recall: 0.9989 - val_loss: 5.4575 - val_precision: 0.9206 - val_recall: 0.8488\n",
      "Epoch 191/200\n",
      "48/48 [==============================] - 8s 165ms/step - loss: 0.0047 - precision: 0.9989 - recall: 0.9989 - val_loss: 5.5265 - val_precision: 0.9110 - val_recall: 0.8488\n",
      "Epoch 192/200\n",
      "48/48 [==============================] - 8s 165ms/step - loss: 0.0499 - precision: 0.9978 - recall: 0.9957 - val_loss: 7.1057 - val_precision: 0.9043 - val_recall: 0.8293\n",
      "Epoch 193/200\n",
      "48/48 [==============================] - 8s 160ms/step - loss: 0.0328 - precision: 0.9936 - recall: 0.9968 - val_loss: 4.3848 - val_precision: 0.8971 - val_recall: 0.8927\n",
      "Epoch 194/200\n",
      "48/48 [==============================] - 8s 164ms/step - loss: 3.7164e-04 - precision: 0.9989 - recall: 1.0000 - val_loss: 4.5403 - val_precision: 0.9171 - val_recall: 0.8634\n",
      "Epoch 195/200\n",
      "48/48 [==============================] - 8s 163ms/step - loss: 0.0017 - precision: 0.9989 - recall: 1.0000 - val_loss: 5.7030 - val_precision: 0.9344 - val_recall: 0.8341\n",
      "Epoch 196/200\n",
      "48/48 [==============================] - 8s 172ms/step - loss: 0.0260 - precision: 0.9979 - recall: 0.9979 - val_loss: 5.5244 - val_precision: 0.9254 - val_recall: 0.9073\n",
      "Epoch 197/200\n",
      "48/48 [==============================] - 8s 167ms/step - loss: 0.0065 - precision: 0.9989 - recall: 0.9979 - val_loss: 4.2508 - val_precision: 0.9309 - val_recall: 0.8537\n",
      "Epoch 198/200\n",
      "48/48 [==============================] - 8s 170ms/step - loss: 4.1172e-04 - precision: 1.0000 - recall: 0.9989 - val_loss: 4.5080 - val_precision: 0.9227 - val_recall: 0.8732\n",
      "Epoch 199/200\n",
      "48/48 [==============================] - 8s 167ms/step - loss: 0.0180 - precision: 0.9968 - recall: 0.9957 - val_loss: 5.0633 - val_precision: 0.8955 - val_recall: 0.8780\n",
      "Epoch 200/200\n",
      "48/48 [==============================] - 8s 173ms/step - loss: 3.7040e-05 - precision: 1.0000 - recall: 1.0000 - val_loss: 4.4248 - val_precision: 0.8966 - val_recall: 0.8878\n"
     ]
    }
   ],
   "source": [
    "history_base = model_base.fit(X_train, y_train, validation_data= (X_val, y_val), batch_size=40, epochs = 200, callbacks=callbacks)"
   ]
  },
  {
   "cell_type": "markdown",
   "metadata": {},
   "source": [
    "Realizar el procesamiento de las imagenes del set de Test, y aplicar el Encoder"
   ]
  },
  {
   "cell_type": "code",
   "execution_count": 10,
   "metadata": {},
   "outputs": [],
   "source": [
    "X_test= preprocessig_data(X_test)\n",
    "y_test = le.transform(y_test)"
   ]
  },
  {
   "cell_type": "markdown",
   "metadata": {},
   "source": [
    "### Evaluación del modelo con los Datos de Test"
   ]
  },
  {
   "cell_type": "code",
   "execution_count": 11,
   "metadata": {},
   "outputs": [
    {
     "name": "stdout",
     "output_type": "stream",
     "text": [
      "13/13 [==============================] - 1s 38ms/step - loss: 7.7678 - precision: 0.8451 - recall: 0.8925\n",
      "Test loss: 7.767816066741943\n",
      "Test Precision: 0.8451327681541443\n",
      "Test Recall: 0.8925233483314514\n"
     ]
    }
   ],
   "source": [
    "# Evaluacion del modelo con el conjunto de Test\n",
    "score = model_base.evaluate(X_test, y_test)\n",
    "print(f'Test loss: {score[0]}\\nTest Precision: {score[1]}\\nTest Recall: {score[2]}')"
   ]
  },
  {
   "cell_type": "markdown",
   "metadata": {},
   "source": [
    "### Visualización del proceso de Entrenamiento en terminos de Precisión y Loss"
   ]
  },
  {
   "cell_type": "code",
   "execution_count": 12,
   "metadata": {},
   "outputs": [
    {
     "data": {
      "image/png": "[encoded data removed]",
      "text/plain": [
       "<Figure size 640x480 with 1 Axes>"
      ]
     },
     "metadata": {},
     "output_type": "display_data"
    },
    {
     "data": {
      "image/png": "[encoded data removed]",
      "text/plain": [
       "<Figure size 640x480 with 1 Axes>"
      ]
     },
     "metadata": {},
     "output_type": "display_data"
    }
   ],
   "source": [
    "import matplotlib.pyplot as plt\n",
    "precision = history_base.history[\"precision\"]\n",
    "val_precision = history_base.history[\"val_precision\"]\n",
    "loss = history_base.history[\"loss\"]\n",
    "val_loss = history_base.history[\"val_loss\"]\n",
    "epochs = range(1, len(precision) + 1)\n",
    "plt.plot(epochs, precision, \"bo\", label=\"Training precision\")\n",
    "plt.plot(epochs, val_precision, \"b\", label=\"Validation precision\")\n",
    "plt.title(\"Training and validation precision\")\n",
    "plt.legend()\n",
    "plt.figure()\n",
    "plt.plot(epochs, loss, \"bo\", label=\"Training loss\")\n",
    "plt.plot(epochs, val_loss, \"b\", label=\"Validation loss\")\n",
    "plt.title(\"Training and validation loss\")\n",
    "plt.legend()\n",
    "plt.show()"
   ]
  },
  {
   "cell_type": "markdown",
   "metadata": {},
   "source": [
    "Función para transformar la predicción del modelo a una de las clases (si se obtiene un valor mayor o igual a 0.5 se toma como positiva la clase, de lo contrario será negativa)"
   ]
  },
  {
   "cell_type": "code",
   "execution_count": 13,
   "metadata": {},
   "outputs": [],
   "source": [
    "def getRealPrediction(y_aux):\n",
    "    y_predicted = np.zeros(len(y_aux))\n",
    "    for i in range(len(y_aux)):\n",
    "        if y_aux[i] >= 0.5:\n",
    "            y_predicted[i] = 1\n",
    "        else:\n",
    "            y_predicted[i] = 0\n",
    "    return y_predicted"
   ]
  },
  {
   "cell_type": "markdown",
   "metadata": {},
   "source": [
    "### Matriz de confusión del Modelo para los datos de Training y de Test"
   ]
  },
  {
   "cell_type": "code",
   "execution_count": 14,
   "metadata": {},
   "outputs": [
    {
     "name": "stdout",
     "output_type": "stream",
     "text": [
      "60/60 [==============================] - 2s 36ms/step\n",
      "Matriz de Confusión Train\n"
     ]
    },
    {
     "data": {
      "image/png": "[encoded data removed]",
      "text/plain": [
       "<Figure size 640x480 with 2 Axes>"
      ]
     },
     "metadata": {},
     "output_type": "display_data"
    },
    {
     "name": "stdout",
     "output_type": "stream",
     "text": [
      "13/13 [==============================] - 0s 33ms/step\n",
      "Matriz de Confusión Test\n"
     ]
    },
    {
     "data": {
      "image/png": "[encoded data removed]",
      "text/plain": [
       "<Figure size 640x480 with 2 Axes>"
      ]
     },
     "metadata": {},
     "output_type": "display_data"
    }
   ],
   "source": [
    "from sklearn import metrics\n",
    "import matplotlib.pyplot as plt\n",
    "\n",
    "y_aux = model_base.predict(X_train)\n",
    "y_predicted = getRealPrediction(y_aux)\n",
    "confusion_matrix = metrics.confusion_matrix(y_train, y_predicted)\n",
    "cm_display = metrics.ConfusionMatrixDisplay(confusion_matrix = confusion_matrix, display_labels = [False, True])\n",
    "print('Matriz de Confusión Train')\n",
    "cm_display.plot()\n",
    "plt.show()\n",
    "\n",
    "y_aux = model_base.predict(X_test)\n",
    "y_predicted = getRealPrediction(y_aux)\n",
    "confusion_matrix = metrics.confusion_matrix(y_test, y_predicted)\n",
    "cm_display = metrics.ConfusionMatrixDisplay(confusion_matrix = confusion_matrix, display_labels = [False, True])\n",
    "print('Matriz de Confusión Test')\n",
    "cm_display.plot()\n",
    "plt.show()"
   ]
  },
  {
   "cell_type": "markdown",
   "metadata": {},
   "source": [
    "## Deploy del modelo guardado en el checkpoint"
   ]
  },
  {
   "cell_type": "code",
   "execution_count": 15,
   "metadata": {},
   "outputs": [],
   "source": [
    "from tensorflow.keras.models import load_model\n",
    "test_model = load_model(\"modelos/checkpoint_model5a\")\n",
    "IMG_SIZE = 50\n",
    "\n",
    "def preprocessig_data(data):\n",
    "    X = []\n",
    "    for img_path in data:\n",
    "        img = cv2.imread(img_path)\n",
    "        img = cv2.cvtColor(img, cv2.COLOR_RGB2GRAY) # Pasamos la imagen a escala de grises\n",
    "        img = cv2.resize(img, (IMG_SIZE, IMG_SIZE))/255.0 # normalizamos los pixeles de la imagen\n",
    "        X.append(img)\n",
    "    X = np.array(X)\n",
    "    X = X.reshape((-1, IMG_SIZE, IMG_SIZE, 1)) #Hacemos un reshape de las imagenes\n",
    "    return X"
   ]
  },
  {
   "cell_type": "markdown",
   "metadata": {},
   "source": [
    "Prueba con una imagen marcada como Positiva"
   ]
  },
  {
   "cell_type": "code",
   "execution_count": 16,
   "metadata": {},
   "outputs": [
    {
     "name": "stdout",
     "output_type": "stream",
     "text": [
      "percentage: 84.56749%\n",
      "predicted: 1.0\n"
     ]
    }
   ],
   "source": [
    "imagenPath = \"data\\\\images\\\\image_13.jpg\" # positiva\n",
    "inputImage = preprocessig_data([imagenPath])\n",
    "y_predicted = test_model(inputImage)\n",
    "percentage = tf.gather(y_predicted, 0)[0].numpy()\n",
    "real_val = getRealPrediction([percentage])[0]\n",
    "print('percentage:',f'{round(percentage*100, 5)}%')\n",
    "print('predicted:',real_val)"
   ]
  },
  {
   "cell_type": "markdown",
   "metadata": {},
   "source": [
    "Prueba con una imagen marcada como Negativa"
   ]
  },
  {
   "cell_type": "code",
   "execution_count": 17,
   "metadata": {},
   "outputs": [
    {
     "name": "stdout",
     "output_type": "stream",
     "text": [
      "percentage: 0.24688%\n",
      "predicted: 0.0\n"
     ]
    }
   ],
   "source": [
    "imagenPath = \"data\\\\images\\\\image_1054.jpg\" # negativa\n",
    "inputImage = preprocessig_data([imagenPath])\n",
    "y_predicted = test_model(inputImage)\n",
    "percentage = tf.gather(y_predicted, 0)[0].numpy()\n",
    "real_val = getRealPrediction([percentage])[0]\n",
    "print('percentage:',f'{round(percentage*100, 5)}%')\n",
    "print('predicted:',real_val)"
   ]
  }
 ],
 "metadata": {
  "kernelspec": {
   "display_name": "Python 3 (ipykernel)",
   "language": "python",
   "name": "python3"
  },
  "language_info": {
   "codemirror_mode": {
    "name": "ipython",
    "version": 3
   },
   "file_extension": ".py",
   "mimetype": "text/x-python",
   "name": "python",
   "nbconvert_exporter": "python",
   "pygments_lexer": "ipython3",
   "version": "3.8.15"
  },
  "vscode": {
   "interpreter": {
    "hash": "8a803d61fb48b7136249db5db6f3a8557188aad2689092bd17fd97632f2b0735"
   }
  }
 },
 "nbformat": 4,
 "nbformat_minor": 4
}
