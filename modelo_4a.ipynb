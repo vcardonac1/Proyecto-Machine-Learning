{
 "cells": [
  {
   "cell_type": "code",
   "execution_count": 1,
   "metadata": {},
   "outputs": [],
   "source": [
    "import os\n",
    "import pandas as pd\n",
    "import cv2\n",
    "import tensorflow as tf\n",
    "import numpy as np\n",
    "from tensorflow.keras.datasets import reuters\n",
    "from tensorflow.keras.models import Sequential, load_model\n",
    "from tensorflow.keras.layers import Dense, Dropout, Activation, MaxPooling2D, Conv2D, Flatten, BatchNormalization\n",
    "from tensorflow.keras.preprocessing.image import ImageDataGenerator\n",
    "from tensorflow.keras.callbacks import ModelCheckpoint, EarlyStopping\n",
    "from tensorflow.keras.preprocessing import image\n",
    "from tensorflow.keras.utils import to_categorical\n",
    "import matplotlib.pyplot as plt\n",
    "import matplotlib.image as img\n",
    "from sklearn.model_selection import train_test_split\n",
    "from sklearn.preprocessing import LabelEncoder, OneHotEncoder\n",
    "from sklearn.utils import shuffle\n",
    "\n",
    "from scikeras.wrappers import KerasClassifier\n",
    "from sklearn.model_selection import train_test_split, RandomizedSearchCV\n",
    "from sklearn.pipeline import Pipeline, FeatureUnion\n",
    "from sklearn.metrics import classification_report, confusion_matrix, accuracy_score, make_scorer"
   ]
  },
  {
   "cell_type": "code",
   "execution_count": 2,
   "metadata": {},
   "outputs": [
    {
     "data": {
      "image/png": "[encoded data removed]",
      "text/plain": [
       "<Figure size 640x480 with 2 Axes>"
      ]
     },
     "metadata": {},
     "output_type": "display_data"
    }
   ],
   "source": [
    "#observamos las imágenes\n",
    "plt.subplot(1, 2, 1)\n",
    "plt.title('Label Negativo: 0')\n",
    "plt.imshow(cv2.imread('data\\\\images\\\\image_1054.jpg'))\n",
    "\n",
    "plt.subplot(1, 2, 2)\n",
    "plt.title('Label Positivo: 1')\n",
    "plt.imshow(cv2.imread('data\\\\images\\\\image_13.jpg'))\n",
    "\n",
    "plt.show()"
   ]
  },
  {
   "cell_type": "markdown",
   "metadata": {},
   "source": [
    "## Pre-procesamiento de los Datos\n",
    "Unir en un solo dataset las imagenes con sus labels"
   ]
  },
  {
   "cell_type": "code",
   "execution_count": 3,
   "metadata": {},
   "outputs": [
    {
     "data": {
      "text/html": [
       "<div>\n",
       "<style scoped>\n",
       "    .dataframe tbody tr th:only-of-type {\n",
       "        vertical-align: middle;\n",
       "    }\n",
       "\n",
       "    .dataframe tbody tr th {\n",
       "        vertical-align: top;\n",
       "    }\n",
       "\n",
       "    .dataframe thead th {\n",
       "        text-align: right;\n",
       "    }\n",
       "</style>\n",
       "<table border=\"1\" class=\"dataframe\">\n",
       "  <thead>\n",
       "    <tr style=\"text-align: right;\">\n",
       "      <th></th>\n",
       "      <th>filepaths</th>\n",
       "      <th>labels</th>\n",
       "    </tr>\n",
       "  </thead>\n",
       "  <tbody>\n",
       "    <tr>\n",
       "      <th>0</th>\n",
       "      <td>data/images/image_189342.jpg</td>\n",
       "      <td>0</td>\n",
       "    </tr>\n",
       "    <tr>\n",
       "      <th>1</th>\n",
       "      <td>data/images/image_145102.jpg</td>\n",
       "      <td>0</td>\n",
       "    </tr>\n",
       "    <tr>\n",
       "      <th>2</th>\n",
       "      <td>data/images/image_31546.jpg</td>\n",
       "      <td>0</td>\n",
       "    </tr>\n",
       "    <tr>\n",
       "      <th>3</th>\n",
       "      <td>data/images/image_441280.jpg</td>\n",
       "      <td>1</td>\n",
       "    </tr>\n",
       "    <tr>\n",
       "      <th>4</th>\n",
       "      <td>data/images/image_215578.jpg</td>\n",
       "      <td>0</td>\n",
       "    </tr>\n",
       "  </tbody>\n",
       "</table>\n",
       "</div>"
      ],
      "text/plain": [
       "                      filepaths  labels\n",
       "0  data/images/image_189342.jpg       0\n",
       "1  data/images/image_145102.jpg       0\n",
       "2   data/images/image_31546.jpg       0\n",
       "3  data/images/image_441280.jpg       1\n",
       "4  data/images/image_215578.jpg       0"
      ]
     },
     "execution_count": 3,
     "metadata": {},
     "output_type": "execute_result"
    }
   ],
   "source": [
    "df = pd.read_csv('data\\\\labels.txt', sep=\" \", header = None)\n",
    "df.columns =['filepaths', 'labels']\n",
    "df.head()"
   ]
  },
  {
   "cell_type": "code",
   "execution_count": 4,
   "metadata": {},
   "outputs": [
    {
     "name": "stdout",
     "output_type": "stream",
     "text": [
      "0    6755\n",
      "1    1351\n",
      "Name: labels, dtype: int64\n"
     ]
    }
   ],
   "source": [
    "df = shuffle(df).reset_index(drop = True)\n",
    "print (df['labels'].value_counts())"
   ]
  },
  {
   "cell_type": "code",
   "execution_count": 5,
   "metadata": {},
   "outputs": [
    {
     "name": "stdout",
     "output_type": "stream",
     "text": [
      "Cantidad de datos en cada set\n",
      "\n",
      "Training: 5674 \t\t0: 4740 , 1: 934\n",
      "Validacion: 1216 \t0: 1019 , 1: 197\n",
      "Test: 1216 \t\t0: 996 , 1: 220\n"
     ]
    }
   ],
   "source": [
    "# Se separan los datos en training, validacion y test\n",
    "X_train, X_test, y_train, y_test = train_test_split(df['filepaths'], df['labels'], test_size=0.30, random_state=33)\n",
    "X_test, X_val, y_test, y_val= train_test_split(X_test, y_test, train_size=0.5, random_state=34)\n",
    "\n",
    "print('Cantidad de datos en cada set\\n')\n",
    "print('Training:', len(y_train), '\\t\\t0:', y_train.value_counts()[0],', 1:' ,y_train.value_counts()[1])\n",
    "print('Validacion:', len(y_val), '\\t0:', y_val.value_counts()[0],', 1:' ,y_val.value_counts()[1])\n",
    "print('Test:', len(y_test), '\\t\\t0:', y_test.value_counts()[0],', 1:' ,y_test.value_counts()[1])"
   ]
  },
  {
   "cell_type": "markdown",
   "metadata": {},
   "source": [
    "## Pre-procesamiento de las imagenes"
   ]
  },
  {
   "cell_type": "code",
   "execution_count": 6,
   "metadata": {},
   "outputs": [],
   "source": [
    "IMG_SIZE = 50\n",
    "\n",
    "def preprocessig_data(data):\n",
    "    X = []\n",
    "    for img_path in data:\n",
    "        img = cv2.imread(img_path)\n",
    "        img = cv2.cvtColor(img, cv2.COLOR_RGB2GRAY) # Pasamos la imagen a escala de grises\n",
    "        img = cv2.resize(img, (IMG_SIZE, IMG_SIZE))/255.0 # normalizamos los pixeles de la imagen\n",
    "        X.append(img)\n",
    "    X = np.array(X)\n",
    "    X = X.reshape((-1, IMG_SIZE, IMG_SIZE, 1)) #Hacemos un reshape de las imagenes\n",
    "    return X\n",
    "\n",
    "X_train = preprocessig_data(X_train)\n",
    "X_val = preprocessig_data(X_val)"
   ]
  },
  {
   "cell_type": "code",
   "execution_count": 7,
   "metadata": {},
   "outputs": [],
   "source": [
    "# Usamos labelEncoder para manejar los labels como numeros\n",
    "le = LabelEncoder()\n",
    "y_train = le.fit_transform(y_train)\n",
    "y_val = le.transform(y_val)"
   ]
  },
  {
   "cell_type": "markdown",
   "metadata": {},
   "source": [
    "## Red convolucional de al menos 3 capas convolucionales"
   ]
  },
  {
   "cell_type": "code",
   "execution_count": 8,
   "metadata": {},
   "outputs": [
    {
     "name": "stdout",
     "output_type": "stream",
     "text": [
      "Model: \"sequential\"\n",
      "_________________________________________________________________\n",
      " Layer (type)                Output Shape              Param #   \n",
      "=================================================================\n",
      " conv2d (Conv2D)             (None, 48, 48, 32)        320       \n",
      "                                                                 \n",
      " max_pooling2d (MaxPooling2D  (None, 24, 24, 32)       0         \n",
      " )                                                               \n",
      "                                                                 \n",
      " conv2d_1 (Conv2D)           (None, 22, 22, 64)        18496     \n",
      "                                                                 \n",
      " max_pooling2d_1 (MaxPooling  (None, 11, 11, 64)       0         \n",
      " 2D)                                                             \n",
      "                                                                 \n",
      " conv2d_2 (Conv2D)           (None, 9, 9, 128)         73856     \n",
      "                                                                 \n",
      " conv2d_3 (Conv2D)           (None, 7, 7, 256)         295168    \n",
      "                                                                 \n",
      " max_pooling2d_2 (MaxPooling  (None, 3, 3, 256)        0         \n",
      " 2D)                                                             \n",
      "                                                                 \n",
      " flatten (Flatten)           (None, 2304)              0         \n",
      "                                                                 \n",
      " dense (Dense)               (None, 128)               295040    \n",
      "                                                                 \n",
      " dropout (Dropout)           (None, 128)               0         \n",
      "                                                                 \n",
      " dense_1 (Dense)             (None, 64)                8256      \n",
      "                                                                 \n",
      " dropout_1 (Dropout)         (None, 64)                0         \n",
      "                                                                 \n",
      " dense_2 (Dense)             (None, 32)                2080      \n",
      "                                                                 \n",
      " dropout_2 (Dropout)         (None, 32)                0         \n",
      "                                                                 \n",
      " dense_3 (Dense)             (None, 16)                528       \n",
      "                                                                 \n",
      " dropout_3 (Dropout)         (None, 16)                0         \n",
      "                                                                 \n",
      " dense_4 (Dense)             (None, 1)                 17        \n",
      "                                                                 \n",
      "=================================================================\n",
      "Total params: 693,761\n",
      "Trainable params: 693,761\n",
      "Non-trainable params: 0\n",
      "_________________________________________________________________\n"
     ]
    }
   ],
   "source": [
    "model_base = tf.keras.models.Sequential([\n",
    "\n",
    "  Conv2D(32, kernel_size= (3,3), activation='relu', input_shape =(IMG_SIZE,IMG_SIZE,1)),\n",
    "  MaxPooling2D(),\n",
    "\n",
    "  Conv2D(64, kernel_size = (3,3), activation='relu'),\n",
    "  MaxPooling2D(),\n",
    "    \n",
    "  Conv2D(128, kernel_size = (3,3), activation='relu'),\n",
    "\n",
    "  Conv2D(256, kernel_size = (3,3), activation='relu'),\n",
    "  MaxPooling2D(),\n",
    "    \n",
    "  Flatten(),\n",
    "  Dense(128, activation='relu'),\n",
    "  Dropout(0.2),\n",
    "    \n",
    "  Dense(64, activation='relu'),\n",
    "  Dropout(0.2),\n",
    "\n",
    "  Dense(32, activation='relu'),\n",
    "  Dropout(0.2),\n",
    "\n",
    "  Dense(16, activation='relu'),\n",
    "  Dropout(0.2),    \n",
    "    \n",
    "  Dense(1, activation= 'sigmoid') # Se tienen 2 posibles clases\n",
    "])\n",
    "\n",
    "callbacks = [\n",
    "    ModelCheckpoint(\n",
    "    filepath=\"modelos/checkpoint_model4a\",\n",
    "    save_best_only=True,\n",
    "    monitor=\"val_loss\")\n",
    "]\n",
    "\n",
    "model_base.compile(optimizer='RMSprop',loss=tf.keras.losses.BinaryCrossentropy(from_logits=False), metrics=['Precision', 'Recall'])\n",
    "model_base.summary()"
   ]
  },
  {
   "cell_type": "code",
   "execution_count": 9,
   "metadata": {},
   "outputs": [
    {
     "name": "stdout",
     "output_type": "stream",
     "text": [
      "Epoch 1/200\n",
      "142/142 [==============================] - ETA: 0s - loss: 0.4451 - precision: 0.1923 - recall: 0.0054"
     ]
    },
    {
     "name": "stderr",
     "output_type": "stream",
     "text": [
      "WARNING:absl:Found untraced functions such as _jit_compiled_convolution_op, _jit_compiled_convolution_op, _jit_compiled_convolution_op, _jit_compiled_convolution_op while saving (showing 4 of 4). These functions will not be directly callable after loading.\n"
     ]
    },
    {
     "name": "stdout",
     "output_type": "stream",
     "text": [
      "INFO:tensorflow:Assets written to: modelos\\checkpoint_model4a\\assets\n"
     ]
    },
    {
     "name": "stderr",
     "output_type": "stream",
     "text": [
      "INFO:tensorflow:Assets written to: modelos\\checkpoint_model4a\\assets\n"
     ]
    },
    {
     "name": "stdout",
     "output_type": "stream",
     "text": [
      "142/142 [==============================] - 34s 225ms/step - loss: 0.4451 - precision: 0.1923 - recall: 0.0054 - val_loss: 0.3367 - val_precision: 0.0000e+00 - val_recall: 0.0000e+00\n",
      "Epoch 2/200\n",
      "142/142 [==============================] - ETA: 0s - loss: 0.3502 - precision: 0.5870 - recall: 0.0867"
     ]
    },
    {
     "name": "stderr",
     "output_type": "stream",
     "text": [
      "WARNING:absl:Found untraced functions such as _jit_compiled_convolution_op, _jit_compiled_convolution_op, _jit_compiled_convolution_op, _jit_compiled_convolution_op while saving (showing 4 of 4). These functions will not be directly callable after loading.\n"
     ]
    },
    {
     "name": "stdout",
     "output_type": "stream",
     "text": [
      "INFO:tensorflow:Assets written to: modelos\\checkpoint_model4a\\assets\n"
     ]
    },
    {
     "name": "stderr",
     "output_type": "stream",
     "text": [
      "INFO:tensorflow:Assets written to: modelos\\checkpoint_model4a\\assets\n"
     ]
    },
    {
     "name": "stdout",
     "output_type": "stream",
     "text": [
      "142/142 [==============================] - 30s 210ms/step - loss: 0.3502 - precision: 0.5870 - recall: 0.0867 - val_loss: 0.2999 - val_precision: 0.5795 - val_recall: 0.5736\n",
      "Epoch 3/200\n",
      "142/142 [==============================] - ETA: 0s - loss: 0.2857 - precision: 0.6549 - recall: 0.5161"
     ]
    },
    {
     "name": "stderr",
     "output_type": "stream",
     "text": [
      "WARNING:absl:Found untraced functions such as _jit_compiled_convolution_op, _jit_compiled_convolution_op, _jit_compiled_convolution_op, _jit_compiled_convolution_op while saving (showing 4 of 4). These functions will not be directly callable after loading.\n"
     ]
    },
    {
     "name": "stdout",
     "output_type": "stream",
     "text": [
      "INFO:tensorflow:Assets written to: modelos\\checkpoint_model4a\\assets\n"
     ]
    },
    {
     "name": "stderr",
     "output_type": "stream",
     "text": [
      "INFO:tensorflow:Assets written to: modelos\\checkpoint_model4a\\assets\n"
     ]
    },
    {
     "name": "stdout",
     "output_type": "stream",
     "text": [
      "142/142 [==============================] - 27s 190ms/step - loss: 0.2857 - precision: 0.6549 - recall: 0.5161 - val_loss: 0.2328 - val_precision: 0.6667 - val_recall: 0.6701\n",
      "Epoch 4/200\n",
      "142/142 [==============================] - ETA: 0s - loss: 0.2659 - precision: 0.6997 - recall: 0.5814"
     ]
    },
    {
     "name": "stderr",
     "output_type": "stream",
     "text": [
      "WARNING:absl:Found untraced functions such as _jit_compiled_convolution_op, _jit_compiled_convolution_op, _jit_compiled_convolution_op, _jit_compiled_convolution_op while saving (showing 4 of 4). These functions will not be directly callable after loading.\n"
     ]
    },
    {
     "name": "stdout",
     "output_type": "stream",
     "text": [
      "INFO:tensorflow:Assets written to: modelos\\checkpoint_model4a\\assets\n"
     ]
    },
    {
     "name": "stderr",
     "output_type": "stream",
     "text": [
      "INFO:tensorflow:Assets written to: modelos\\checkpoint_model4a\\assets\n"
     ]
    },
    {
     "name": "stdout",
     "output_type": "stream",
     "text": [
      "142/142 [==============================] - 26s 184ms/step - loss: 0.2659 - precision: 0.6997 - recall: 0.5814 - val_loss: 0.2123 - val_precision: 0.8056 - val_recall: 0.5888\n",
      "Epoch 5/200\n",
      "142/142 [==============================] - 22s 153ms/step - loss: 0.2277 - precision: 0.7470 - recall: 0.6606 - val_loss: 0.2152 - val_precision: 0.8795 - val_recall: 0.3706\n",
      "Epoch 6/200\n",
      "142/142 [==============================] - 24s 171ms/step - loss: 0.2054 - precision: 0.7650 - recall: 0.7109 - val_loss: 0.2143 - val_precision: 0.7281 - val_recall: 0.8020\n",
      "Epoch 7/200\n",
      "142/142 [==============================] - ETA: 0s - loss: 0.1819 - precision: 0.7984 - recall: 0.7634"
     ]
    },
    {
     "name": "stderr",
     "output_type": "stream",
     "text": [
      "WARNING:absl:Found untraced functions such as _jit_compiled_convolution_op, _jit_compiled_convolution_op, _jit_compiled_convolution_op, _jit_compiled_convolution_op while saving (showing 4 of 4). These functions will not be directly callable after loading.\n"
     ]
    },
    {
     "name": "stdout",
     "output_type": "stream",
     "text": [
      "INFO:tensorflow:Assets written to: modelos\\checkpoint_model4a\\assets\n"
     ]
    },
    {
     "name": "stderr",
     "output_type": "stream",
     "text": [
      "INFO:tensorflow:Assets written to: modelos\\checkpoint_model4a\\assets\n"
     ]
    },
    {
     "name": "stdout",
     "output_type": "stream",
     "text": [
      "142/142 [==============================] - 30s 210ms/step - loss: 0.1819 - precision: 0.7984 - recall: 0.7634 - val_loss: 0.2027 - val_precision: 0.8279 - val_recall: 0.5127\n",
      "Epoch 8/200\n",
      "142/142 [==============================] - ETA: 0s - loss: 0.1577 - precision: 0.8275 - recall: 0.7912"
     ]
    },
    {
     "name": "stderr",
     "output_type": "stream",
     "text": [
      "WARNING:absl:Found untraced functions such as _jit_compiled_convolution_op, _jit_compiled_convolution_op, _jit_compiled_convolution_op, _jit_compiled_convolution_op while saving (showing 4 of 4). These functions will not be directly callable after loading.\n"
     ]
    },
    {
     "name": "stdout",
     "output_type": "stream",
     "text": [
      "INFO:tensorflow:Assets written to: modelos\\checkpoint_model4a\\assets\n"
     ]
    },
    {
     "name": "stderr",
     "output_type": "stream",
     "text": [
      "INFO:tensorflow:Assets written to: modelos\\checkpoint_model4a\\assets\n"
     ]
    },
    {
     "name": "stdout",
     "output_type": "stream",
     "text": [
      "142/142 [==============================] - 26s 181ms/step - loss: 0.1577 - precision: 0.8275 - recall: 0.7912 - val_loss: 0.1885 - val_precision: 0.8333 - val_recall: 0.6091\n",
      "Epoch 9/200\n",
      "142/142 [==============================] - ETA: 0s - loss: 0.1400 - precision: 0.8482 - recall: 0.8137"
     ]
    },
    {
     "name": "stderr",
     "output_type": "stream",
     "text": [
      "WARNING:absl:Found untraced functions such as _jit_compiled_convolution_op, _jit_compiled_convolution_op, _jit_compiled_convolution_op, _jit_compiled_convolution_op while saving (showing 4 of 4). These functions will not be directly callable after loading.\n"
     ]
    },
    {
     "name": "stdout",
     "output_type": "stream",
     "text": [
      "INFO:tensorflow:Assets written to: modelos\\checkpoint_model4a\\assets\n"
     ]
    },
    {
     "name": "stderr",
     "output_type": "stream",
     "text": [
      "INFO:tensorflow:Assets written to: modelos\\checkpoint_model4a\\assets\n"
     ]
    },
    {
     "name": "stdout",
     "output_type": "stream",
     "text": [
      "142/142 [==============================] - 31s 219ms/step - loss: 0.1400 - precision: 0.8482 - recall: 0.8137 - val_loss: 0.1717 - val_precision: 0.7882 - val_recall: 0.8122\n",
      "Epoch 10/200\n",
      "142/142 [==============================] - 27s 188ms/step - loss: 0.1327 - precision: 0.8609 - recall: 0.8019 - val_loss: 0.1794 - val_precision: 0.8041 - val_recall: 0.7919\n",
      "Epoch 11/200\n",
      "142/142 [==============================] - 23s 160ms/step - loss: 0.1149 - precision: 0.8964 - recall: 0.8522 - val_loss: 0.2074 - val_precision: 0.7913 - val_recall: 0.8274\n",
      "Epoch 12/200\n",
      "142/142 [==============================] - 24s 171ms/step - loss: 0.1089 - precision: 0.9010 - recall: 0.8672 - val_loss: 0.2013 - val_precision: 0.8225 - val_recall: 0.7056\n",
      "Epoch 13/200\n",
      "142/142 [==============================] - 27s 190ms/step - loss: 0.0918 - precision: 0.9276 - recall: 0.8919 - val_loss: 0.2125 - val_precision: 0.8600 - val_recall: 0.6548\n",
      "Epoch 14/200\n",
      "142/142 [==============================] - 30s 209ms/step - loss: 0.0797 - precision: 0.9216 - recall: 0.9058 - val_loss: 0.2753 - val_precision: 0.8411 - val_recall: 0.6447\n",
      "Epoch 15/200\n",
      "142/142 [==============================] - 26s 183ms/step - loss: 0.0741 - precision: 0.9357 - recall: 0.9197 - val_loss: 0.2460 - val_precision: 0.8299 - val_recall: 0.6193\n",
      "Epoch 16/200\n",
      "142/142 [==============================] - 26s 181ms/step - loss: 0.0571 - precision: 0.9458 - recall: 0.9347 - val_loss: 0.3315 - val_precision: 0.7929 - val_recall: 0.5635\n",
      "Epoch 17/200\n",
      "142/142 [==============================] - 22s 157ms/step - loss: 0.0580 - precision: 0.9522 - recall: 0.9390 - val_loss: 0.2917 - val_precision: 0.8889 - val_recall: 0.5685\n",
      "Epoch 18/200\n",
      "142/142 [==============================] - 22s 153ms/step - loss: 0.0501 - precision: 0.9604 - recall: 0.9336 - val_loss: 0.4504 - val_precision: 0.8177 - val_recall: 0.7513\n",
      "Epoch 19/200\n",
      "142/142 [==============================] - 21s 149ms/step - loss: 0.0508 - precision: 0.9584 - recall: 0.9379 - val_loss: 0.4364 - val_precision: 0.7475 - val_recall: 0.7665\n",
      "Epoch 20/200\n",
      "142/142 [==============================] - 21s 145ms/step - loss: 0.0436 - precision: 0.9663 - recall: 0.9507 - val_loss: 1.0605 - val_precision: 0.8673 - val_recall: 0.4315\n",
      "Epoch 21/200\n",
      "142/142 [==============================] - 23s 161ms/step - loss: 0.0476 - precision: 0.9714 - recall: 0.9454 - val_loss: 0.5328 - val_precision: 0.7797 - val_recall: 0.7005\n",
      "Epoch 22/200\n",
      "142/142 [==============================] - 26s 183ms/step - loss: 0.0372 - precision: 0.9751 - recall: 0.9657 - val_loss: 0.5983 - val_precision: 0.8321 - val_recall: 0.5787\n",
      "Epoch 23/200\n",
      "142/142 [==============================] - 21s 146ms/step - loss: 0.0432 - precision: 0.9698 - recall: 0.9625 - val_loss: 0.5266 - val_precision: 0.8684 - val_recall: 0.6701\n",
      "Epoch 24/200\n",
      "142/142 [==============================] - 25s 178ms/step - loss: 0.0437 - precision: 0.9726 - recall: 0.9518 - val_loss: 0.4914 - val_precision: 0.7737 - val_recall: 0.7462\n",
      "Epoch 25/200\n",
      "142/142 [==============================] - 27s 194ms/step - loss: 0.0381 - precision: 0.9805 - recall: 0.9668 - val_loss: 0.8337 - val_precision: 0.8485 - val_recall: 0.7107\n",
      "Epoch 26/200\n",
      "142/142 [==============================] - 28s 200ms/step - loss: 0.0402 - precision: 0.9781 - recall: 0.9561 - val_loss: 0.7317 - val_precision: 0.7692 - val_recall: 0.7614\n",
      "Epoch 27/200\n",
      "142/142 [==============================] - 29s 205ms/step - loss: 0.0321 - precision: 0.9753 - recall: 0.9722 - val_loss: 0.8761 - val_precision: 0.7170 - val_recall: 0.7716\n",
      "Epoch 28/200\n",
      "142/142 [==============================] - 28s 197ms/step - loss: 0.0518 - precision: 0.9807 - recall: 0.9775 - val_loss: 1.2133 - val_precision: 0.8487 - val_recall: 0.6548\n",
      "Epoch 29/200\n",
      "142/142 [==============================] - 28s 197ms/step - loss: 0.0489 - precision: 0.9710 - recall: 0.9668 - val_loss: 0.9402 - val_precision: 0.8786 - val_recall: 0.6244\n",
      "Epoch 30/200\n",
      "142/142 [==============================] - 28s 200ms/step - loss: 0.0367 - precision: 0.9698 - recall: 0.9625 - val_loss: 0.6375 - val_precision: 0.7552 - val_recall: 0.7360\n",
      "Epoch 31/200\n",
      "142/142 [==============================] - 28s 199ms/step - loss: 0.0590 - precision: 0.9805 - recall: 0.9668 - val_loss: 0.6304 - val_precision: 0.7610 - val_recall: 0.7919\n",
      "Epoch 32/200\n",
      "142/142 [==============================] - 27s 190ms/step - loss: 0.0469 - precision: 0.9880 - recall: 0.9722 - val_loss: 0.9437 - val_precision: 0.5741 - val_recall: 0.7868\n",
      "Epoch 33/200\n",
      "142/142 [==============================] - 27s 189ms/step - loss: 0.0378 - precision: 0.9825 - recall: 0.9636 - val_loss: 0.5500 - val_precision: 0.7766 - val_recall: 0.7411\n",
      "Epoch 34/200\n",
      "142/142 [==============================] - 25s 173ms/step - loss: 0.0272 - precision: 0.9804 - recall: 0.9647 - val_loss: 0.6801 - val_precision: 0.7315 - val_recall: 0.8020\n",
      "Epoch 35/200\n",
      "142/142 [==============================] - 25s 177ms/step - loss: 0.0350 - precision: 0.9816 - recall: 0.9722 - val_loss: 0.6875 - val_precision: 0.7784 - val_recall: 0.7665\n",
      "Epoch 36/200\n",
      "142/142 [==============================] - 27s 188ms/step - loss: 0.0289 - precision: 0.9816 - recall: 0.9711 - val_loss: 1.1528 - val_precision: 0.9714 - val_recall: 0.3452\n",
      "Epoch 37/200\n",
      "142/142 [==============================] - 23s 162ms/step - loss: 0.0370 - precision: 0.9870 - recall: 0.9722 - val_loss: 0.9073 - val_precision: 0.8540 - val_recall: 0.5939\n",
      "Epoch 38/200\n",
      "142/142 [==============================] - 23s 162ms/step - loss: 0.0488 - precision: 0.9848 - recall: 0.9711 - val_loss: 0.6106 - val_precision: 0.7475 - val_recall: 0.7513\n",
      "Epoch 39/200\n",
      "142/142 [==============================] - 33s 230ms/step - loss: 0.0222 - precision: 0.9924 - recall: 0.9775 - val_loss: 1.3393 - val_precision: 0.5573 - val_recall: 0.9137\n",
      "Epoch 40/200\n",
      "142/142 [==============================] - 27s 190ms/step - loss: 0.0381 - precision: 0.9870 - recall: 0.9775 - val_loss: 1.4028 - val_precision: 0.6991 - val_recall: 0.8020\n",
      "Epoch 41/200\n",
      "142/142 [==============================] - 24s 168ms/step - loss: 0.0233 - precision: 0.9924 - recall: 0.9829 - val_loss: 1.3660 - val_precision: 0.7824 - val_recall: 0.7665\n",
      "Epoch 42/200\n",
      "142/142 [==============================] - 25s 177ms/step - loss: 0.0405 - precision: 0.9849 - recall: 0.9775 - val_loss: 0.8813 - val_precision: 0.7795 - val_recall: 0.7716\n",
      "Epoch 43/200\n",
      "142/142 [==============================] - 25s 174ms/step - loss: 0.0377 - precision: 0.9870 - recall: 0.9732 - val_loss: 1.0376 - val_precision: 0.7886 - val_recall: 0.7005\n",
      "Epoch 44/200\n",
      "142/142 [==============================] - 25s 175ms/step - loss: 0.0359 - precision: 0.9914 - recall: 0.9861 - val_loss: 1.0643 - val_precision: 0.7413 - val_recall: 0.7563\n",
      "Epoch 45/200\n",
      "142/142 [==============================] - 26s 181ms/step - loss: 0.0352 - precision: 0.9870 - recall: 0.9743 - val_loss: 0.9898 - val_precision: 0.7633 - val_recall: 0.6548\n",
      "Epoch 46/200\n",
      "142/142 [==============================] - 27s 187ms/step - loss: 0.0478 - precision: 0.9838 - recall: 0.9775 - val_loss: 1.3490 - val_precision: 0.8571 - val_recall: 0.6091\n",
      "Epoch 47/200\n",
      "142/142 [==============================] - 24s 167ms/step - loss: 0.0746 - precision: 0.9847 - recall: 0.9679 - val_loss: 0.7254 - val_precision: 0.7100 - val_recall: 0.8325\n",
      "Epoch 48/200\n",
      "142/142 [==============================] - 23s 162ms/step - loss: 0.0321 - precision: 0.9795 - recall: 0.9722 - val_loss: 1.4752 - val_precision: 0.8079 - val_recall: 0.7259\n",
      "Epoch 49/200\n",
      "142/142 [==============================] - 23s 159ms/step - loss: 0.0420 - precision: 0.9806 - recall: 0.9743 - val_loss: 1.1553 - val_precision: 0.8101 - val_recall: 0.7360\n",
      "Epoch 50/200\n",
      "142/142 [==============================] - 22s 156ms/step - loss: 0.0425 - precision: 0.9925 - recall: 0.9893 - val_loss: 2.0205 - val_precision: 0.8323 - val_recall: 0.6548\n",
      "Epoch 51/200\n",
      "142/142 [==============================] - 23s 164ms/step - loss: 0.0412 - precision: 0.9838 - recall: 0.9775 - val_loss: 2.0519 - val_precision: 0.8506 - val_recall: 0.6650\n",
      "Epoch 52/200\n",
      "142/142 [==============================] - 26s 182ms/step - loss: 0.0291 - precision: 0.9872 - recall: 0.9872 - val_loss: 2.0092 - val_precision: 0.7588 - val_recall: 0.7665\n",
      "Epoch 53/200\n",
      "142/142 [==============================] - 26s 181ms/step - loss: 0.0380 - precision: 0.9818 - recall: 0.9797 - val_loss: 1.4476 - val_precision: 0.8125 - val_recall: 0.7259\n",
      "Epoch 54/200\n",
      "142/142 [==============================] - 26s 184ms/step - loss: 0.0235 - precision: 0.9904 - recall: 0.9904 - val_loss: 1.8763 - val_precision: 0.8068 - val_recall: 0.7208\n",
      "Epoch 55/200\n",
      "142/142 [==============================] - 23s 165ms/step - loss: 0.0509 - precision: 0.9776 - recall: 0.9818 - val_loss: 4.2758 - val_precision: 0.8462 - val_recall: 0.6142\n",
      "Epoch 56/200\n",
      "142/142 [==============================] - 23s 165ms/step - loss: 0.0671 - precision: 0.9861 - recall: 0.9839 - val_loss: 0.7226 - val_precision: 0.7067 - val_recall: 0.7462\n",
      "Epoch 57/200\n",
      "142/142 [==============================] - 23s 162ms/step - loss: 0.0326 - precision: 0.9881 - recall: 0.9807 - val_loss: 2.5848 - val_precision: 0.8256 - val_recall: 0.7208\n",
      "Epoch 58/200\n",
      "142/142 [==============================] - 24s 169ms/step - loss: 0.0584 - precision: 0.9776 - recall: 0.9818 - val_loss: 1.6622 - val_precision: 0.7872 - val_recall: 0.7513\n",
      "Epoch 59/200\n",
      "142/142 [==============================] - 24s 170ms/step - loss: 0.0265 - precision: 0.9829 - recall: 0.9861 - val_loss: 27.0667 - val_precision: 0.9079 - val_recall: 0.3503\n",
      "Epoch 60/200\n",
      "142/142 [==============================] - 22s 158ms/step - loss: 0.1569 - precision: 0.9850 - recall: 0.9839 - val_loss: 1.1647 - val_precision: 0.7285 - val_recall: 0.8173\n",
      "Epoch 61/200\n",
      "142/142 [==============================] - 23s 164ms/step - loss: 0.0397 - precision: 0.9838 - recall: 0.9743 - val_loss: 1.8517 - val_precision: 0.8193 - val_recall: 0.6904\n",
      "Epoch 62/200\n",
      "142/142 [==============================] - 23s 164ms/step - loss: 0.0386 - precision: 0.9904 - recall: 0.9893 - val_loss: 2.3576 - val_precision: 0.7790 - val_recall: 0.7157\n",
      "Epoch 63/200\n",
      "142/142 [==============================] - 23s 161ms/step - loss: 0.0196 - precision: 0.9882 - recall: 0.9829 - val_loss: 2.0750 - val_precision: 0.8198 - val_recall: 0.7157\n",
      "Epoch 64/200\n",
      "142/142 [==============================] - 22s 154ms/step - loss: 0.0814 - precision: 0.9837 - recall: 0.9722 - val_loss: 1.5559 - val_precision: 0.8166 - val_recall: 0.7005\n",
      "Epoch 65/200\n",
      "142/142 [==============================] - 22s 153ms/step - loss: 0.0252 - precision: 0.9882 - recall: 0.9861 - val_loss: 2.2746 - val_precision: 0.8395 - val_recall: 0.6904\n",
      "Epoch 66/200\n",
      "142/142 [==============================] - 25s 176ms/step - loss: 0.0442 - precision: 0.9829 - recall: 0.9850 - val_loss: 2.4233 - val_precision: 0.6978 - val_recall: 0.7970\n",
      "Epoch 67/200\n",
      "142/142 [==============================] - 28s 195ms/step - loss: 0.0341 - precision: 0.9828 - recall: 0.9807 - val_loss: 2.5151 - val_precision: 0.7162 - val_recall: 0.8071\n",
      "Epoch 68/200\n",
      "142/142 [==============================] - 27s 188ms/step - loss: 0.0444 - precision: 0.9871 - recall: 0.9829 - val_loss: 1.2627 - val_precision: 0.7895 - val_recall: 0.7614\n",
      "Epoch 69/200\n",
      "142/142 [==============================] - 29s 205ms/step - loss: 0.0122 - precision: 0.9978 - recall: 0.9936 - val_loss: 2.9896 - val_precision: 0.7921 - val_recall: 0.7157\n",
      "Epoch 70/200\n",
      "142/142 [==============================] - 23s 165ms/step - loss: 0.0337 - precision: 0.9871 - recall: 0.9839 - val_loss: 1.9459 - val_precision: 0.8219 - val_recall: 0.6091\n",
      "Epoch 71/200\n",
      "142/142 [==============================] - 25s 176ms/step - loss: 0.0255 - precision: 0.9860 - recall: 0.9818 - val_loss: 4.2384 - val_precision: 0.8550 - val_recall: 0.5685\n",
      "Epoch 72/200\n",
      "142/142 [==============================] - 25s 178ms/step - loss: 0.0453 - precision: 0.9840 - recall: 0.9850 - val_loss: 1.2133 - val_precision: 0.8025 - val_recall: 0.6396\n",
      "Epoch 73/200\n",
      "142/142 [==============================] - 22s 156ms/step - loss: 0.0207 - precision: 0.9893 - recall: 0.9882 - val_loss: 2.7822 - val_precision: 0.8562 - val_recall: 0.6954\n",
      "Epoch 74/200\n",
      "142/142 [==============================] - 21s 151ms/step - loss: 0.0672 - precision: 0.9851 - recall: 0.9893 - val_loss: 1.2029 - val_precision: 0.8171 - val_recall: 0.6802\n",
      "Epoch 75/200\n",
      "142/142 [==============================] - 22s 156ms/step - loss: 0.0299 - precision: 0.9903 - recall: 0.9882 - val_loss: 1.7165 - val_precision: 0.7923 - val_recall: 0.7360\n",
      "Epoch 76/200\n",
      "142/142 [==============================] - 22s 153ms/step - loss: 0.0861 - precision: 0.9925 - recall: 0.9904 - val_loss: 2.3015 - val_precision: 0.8187 - val_recall: 0.7107\n",
      "Epoch 77/200\n",
      "142/142 [==============================] - 22s 152ms/step - loss: 0.0256 - precision: 0.9892 - recall: 0.9829 - val_loss: 1.9282 - val_precision: 0.7952 - val_recall: 0.6701\n",
      "Epoch 78/200\n",
      "142/142 [==============================] - 21s 148ms/step - loss: 0.0468 - precision: 0.9828 - recall: 0.9775 - val_loss: 1.2964 - val_precision: 0.8133 - val_recall: 0.6853\n",
      "Epoch 79/200\n",
      "142/142 [==============================] - 21s 150ms/step - loss: 0.0287 - precision: 0.9808 - recall: 0.9850 - val_loss: 1.0783 - val_precision: 0.7679 - val_recall: 0.6548\n",
      "Epoch 80/200\n",
      "142/142 [==============================] - 21s 151ms/step - loss: 0.0382 - precision: 0.9913 - recall: 0.9775 - val_loss: 1.3741 - val_precision: 0.7895 - val_recall: 0.6853\n",
      "Epoch 81/200\n",
      "142/142 [==============================] - 21s 145ms/step - loss: 0.0548 - precision: 0.9925 - recall: 0.9882 - val_loss: 2.8305 - val_precision: 0.7923 - val_recall: 0.7360\n",
      "Epoch 82/200\n",
      "142/142 [==============================] - 21s 151ms/step - loss: 0.0714 - precision: 0.9914 - recall: 0.9925 - val_loss: 2.7078 - val_precision: 0.7676 - val_recall: 0.7208\n",
      "Epoch 83/200\n",
      "142/142 [==============================] - 22s 153ms/step - loss: 0.0206 - precision: 0.9914 - recall: 0.9914 - val_loss: 3.3250 - val_precision: 0.7809 - val_recall: 0.7056\n",
      "Epoch 84/200\n",
      "142/142 [==============================] - 22s 152ms/step - loss: 0.0104 - precision: 0.9903 - recall: 0.9872 - val_loss: 3.4936 - val_precision: 0.7411 - val_recall: 0.7411\n",
      "Epoch 85/200\n",
      "142/142 [==============================] - 21s 150ms/step - loss: 0.0244 - precision: 0.9893 - recall: 0.9904 - val_loss: 5.3812 - val_precision: 0.8636 - val_recall: 0.6751\n",
      "Epoch 86/200\n",
      "142/142 [==============================] - 21s 149ms/step - loss: 0.0442 - precision: 0.9913 - recall: 0.9807 - val_loss: 2.1272 - val_precision: 0.8323 - val_recall: 0.6548\n",
      "Epoch 87/200\n",
      "142/142 [==============================] - 23s 160ms/step - loss: 0.0414 - precision: 0.9891 - recall: 0.9732 - val_loss: 3.3960 - val_precision: 0.8839 - val_recall: 0.5025\n",
      "Epoch 88/200\n",
      "142/142 [==============================] - 23s 160ms/step - loss: 0.0328 - precision: 0.9925 - recall: 0.9872 - val_loss: 3.7148 - val_precision: 0.7784 - val_recall: 0.7310\n",
      "Epoch 89/200\n",
      "142/142 [==============================] - 22s 155ms/step - loss: 0.0358 - precision: 0.9882 - recall: 0.9850 - val_loss: 1.1318 - val_precision: 0.8531 - val_recall: 0.6193\n",
      "Epoch 90/200\n",
      "142/142 [==============================] - 22s 155ms/step - loss: 0.0757 - precision: 0.9903 - recall: 0.9818 - val_loss: 2.6863 - val_precision: 0.8046 - val_recall: 0.7107\n",
      "Epoch 91/200\n",
      "142/142 [==============================] - 21s 149ms/step - loss: 0.0547 - precision: 0.9829 - recall: 0.9818 - val_loss: 1.2446 - val_precision: 0.8155 - val_recall: 0.6954\n",
      "Epoch 92/200\n",
      "142/142 [==============================] - 21s 150ms/step - loss: 0.0220 - precision: 0.9935 - recall: 0.9872 - val_loss: 3.5994 - val_precision: 0.8161 - val_recall: 0.7208\n",
      "Epoch 93/200\n",
      "142/142 [==============================] - 22s 153ms/step - loss: 0.0619 - precision: 0.9872 - recall: 0.9872 - val_loss: 3.4277 - val_precision: 0.8592 - val_recall: 0.6193\n",
      "Epoch 94/200\n",
      "142/142 [==============================] - 23s 160ms/step - loss: 0.0577 - precision: 0.9882 - recall: 0.9839 - val_loss: 2.9795 - val_precision: 0.8108 - val_recall: 0.7614\n",
      "Epoch 95/200\n",
      "142/142 [==============================] - 21s 148ms/step - loss: 0.0131 - precision: 0.9925 - recall: 0.9893 - val_loss: 4.7907 - val_precision: 0.7979 - val_recall: 0.7614\n",
      "Epoch 96/200\n",
      "142/142 [==============================] - 21s 150ms/step - loss: 0.0769 - precision: 0.9882 - recall: 0.9850 - val_loss: 1.3821 - val_precision: 0.7778 - val_recall: 0.6751\n",
      "Epoch 97/200\n",
      "142/142 [==============================] - 22s 152ms/step - loss: 0.0407 - precision: 0.9893 - recall: 0.9861 - val_loss: 3.9402 - val_precision: 0.8478 - val_recall: 0.5939\n",
      "Epoch 98/200\n",
      "142/142 [==============================] - 21s 151ms/step - loss: 0.0256 - precision: 0.9852 - recall: 0.9946 - val_loss: 4.9850 - val_precision: 0.7865 - val_recall: 0.7107\n",
      "Epoch 99/200\n",
      "142/142 [==============================] - 21s 150ms/step - loss: 0.0255 - precision: 0.9914 - recall: 0.9882 - val_loss: 2.5412 - val_precision: 0.7306 - val_recall: 0.8122\n",
      "Epoch 100/200\n",
      "142/142 [==============================] - 21s 149ms/step - loss: 0.1969 - precision: 0.9840 - recall: 0.9861 - val_loss: 1.6672 - val_precision: 0.7749 - val_recall: 0.7513\n",
      "Epoch 101/200\n",
      "142/142 [==============================] - 22s 152ms/step - loss: 0.0075 - precision: 0.9957 - recall: 0.9914 - val_loss: 2.3727 - val_precision: 0.7662 - val_recall: 0.7817\n",
      "Epoch 102/200\n",
      "142/142 [==============================] - 22s 153ms/step - loss: 0.0331 - precision: 0.9859 - recall: 0.9764 - val_loss: 2.2977 - val_precision: 0.7708 - val_recall: 0.7513\n",
      "Epoch 103/200\n",
      "142/142 [==============================] - 21s 150ms/step - loss: 0.0152 - precision: 0.9914 - recall: 0.9872 - val_loss: 2.8121 - val_precision: 0.7933 - val_recall: 0.7208\n",
      "Epoch 104/200\n",
      "142/142 [==============================] - 22s 154ms/step - loss: 0.0340 - precision: 0.9870 - recall: 0.9786 - val_loss: 4.2375 - val_precision: 0.7235 - val_recall: 0.7970\n",
      "Epoch 105/200\n",
      "142/142 [==============================] - 22s 154ms/step - loss: 0.0289 - precision: 0.9830 - recall: 0.9893 - val_loss: 5.1129 - val_precision: 0.8000 - val_recall: 0.7107\n",
      "Epoch 106/200\n",
      "142/142 [==============================] - 22s 152ms/step - loss: 0.0379 - precision: 0.9840 - recall: 0.9882 - val_loss: 2.0471 - val_precision: 0.7901 - val_recall: 0.7259\n",
      "Epoch 107/200\n",
      "142/142 [==============================] - 22s 153ms/step - loss: 0.0147 - precision: 0.9904 - recall: 0.9936 - val_loss: 1.6631 - val_precision: 0.7419 - val_recall: 0.7005\n",
      "Epoch 108/200\n",
      "142/142 [==============================] - 22s 155ms/step - loss: 0.0402 - precision: 0.9830 - recall: 0.9893 - val_loss: 4.0973 - val_precision: 0.8373 - val_recall: 0.7056\n",
      "Epoch 109/200\n",
      "142/142 [==============================] - 21s 150ms/step - loss: 0.0716 - precision: 0.9809 - recall: 0.9882 - val_loss: 2.0406 - val_precision: 0.8221 - val_recall: 0.6802\n",
      "Epoch 110/200\n",
      "142/142 [==============================] - 21s 151ms/step - loss: 0.0379 - precision: 0.9903 - recall: 0.9872 - val_loss: 4.1008 - val_precision: 0.6816 - val_recall: 0.8477\n",
      "Epoch 111/200\n",
      "142/142 [==============================] - 22s 152ms/step - loss: 0.0405 - precision: 0.9892 - recall: 0.9797 - val_loss: 3.0167 - val_precision: 0.7097 - val_recall: 0.7817\n",
      "Epoch 112/200\n",
      "142/142 [==============================] - 22s 152ms/step - loss: 0.0184 - precision: 0.9893 - recall: 0.9914 - val_loss: 1.0884 - val_precision: 0.8243 - val_recall: 0.6193\n",
      "Epoch 113/200\n",
      "142/142 [==============================] - 21s 151ms/step - loss: 0.0108 - precision: 0.9936 - recall: 0.9925 - val_loss: 6.6231 - val_precision: 0.7772 - val_recall: 0.7970\n",
      "Epoch 114/200\n",
      "142/142 [==============================] - 21s 149ms/step - loss: 0.0223 - precision: 0.9936 - recall: 0.9914 - val_loss: 4.6716 - val_precision: 0.7708 - val_recall: 0.7513\n",
      "Epoch 115/200\n",
      "142/142 [==============================] - 22s 153ms/step - loss: 0.0177 - precision: 0.9893 - recall: 0.9882 - val_loss: 6.8358 - val_precision: 0.8797 - val_recall: 0.5939\n",
      "Epoch 116/200\n",
      "142/142 [==============================] - 21s 151ms/step - loss: 0.0452 - precision: 0.9893 - recall: 0.9861 - val_loss: 2.3919 - val_precision: 0.7806 - val_recall: 0.7766\n",
      "Epoch 117/200\n",
      "142/142 [==============================] - 21s 149ms/step - loss: 0.0250 - precision: 0.9957 - recall: 0.9979 - val_loss: 4.3585 - val_precision: 0.8303 - val_recall: 0.6954\n",
      "Epoch 118/200\n",
      "142/142 [==============================] - 22s 152ms/step - loss: 0.0328 - precision: 0.9946 - recall: 0.9925 - val_loss: 4.5972 - val_precision: 0.8059 - val_recall: 0.6954\n",
      "Epoch 119/200\n",
      "142/142 [==============================] - 22s 153ms/step - loss: 0.0266 - precision: 0.9915 - recall: 0.9936 - val_loss: 6.1230 - val_precision: 0.8699 - val_recall: 0.6447\n",
      "Epoch 120/200\n",
      "142/142 [==============================] - 22s 153ms/step - loss: 0.0173 - precision: 0.9904 - recall: 0.9904 - val_loss: 2.4096 - val_precision: 0.8274 - val_recall: 0.7056\n",
      "Epoch 121/200\n",
      "142/142 [==============================] - 22s 151ms/step - loss: 0.0319 - precision: 0.9883 - recall: 0.9946 - val_loss: 5.4855 - val_precision: 0.8355 - val_recall: 0.6447\n",
      "Epoch 122/200\n",
      "142/142 [==============================] - 22s 153ms/step - loss: 0.0206 - precision: 0.9914 - recall: 0.9914 - val_loss: 6.1882 - val_precision: 0.7790 - val_recall: 0.7157\n",
      "Epoch 123/200\n",
      "142/142 [==============================] - 22s 154ms/step - loss: 0.0271 - precision: 0.9936 - recall: 0.9936 - val_loss: 4.0504 - val_precision: 0.8043 - val_recall: 0.7513\n",
      "Epoch 124/200\n",
      "142/142 [==============================] - 23s 159ms/step - loss: 0.0248 - precision: 0.9946 - recall: 0.9914 - val_loss: 5.0408 - val_precision: 0.7300 - val_recall: 0.7411\n",
      "Epoch 125/200\n",
      "142/142 [==============================] - 24s 171ms/step - loss: 0.0266 - precision: 0.9946 - recall: 0.9936 - val_loss: 2.4139 - val_precision: 0.8221 - val_recall: 0.6802\n",
      "Epoch 126/200\n",
      "142/142 [==============================] - 24s 167ms/step - loss: 0.0169 - precision: 0.9957 - recall: 0.9957 - val_loss: 4.9984 - val_precision: 0.7978 - val_recall: 0.7208\n",
      "Epoch 127/200\n",
      "142/142 [==============================] - 23s 163ms/step - loss: 0.0358 - precision: 0.9829 - recall: 0.9850 - val_loss: 7.2984 - val_precision: 0.8690 - val_recall: 0.6396\n",
      "Epoch 128/200\n",
      "142/142 [==============================] - 23s 161ms/step - loss: 0.0137 - precision: 0.9925 - recall: 0.9914 - val_loss: 3.4886 - val_precision: 0.8140 - val_recall: 0.7107\n",
      "Epoch 129/200\n",
      "142/142 [==============================] - 21s 150ms/step - loss: 0.0150 - precision: 0.9904 - recall: 0.9925 - val_loss: 4.2655 - val_precision: 0.8589 - val_recall: 0.7107\n",
      "Epoch 130/200\n",
      "142/142 [==============================] - 22s 153ms/step - loss: 0.0108 - precision: 0.9915 - recall: 0.9946 - val_loss: 15.3267 - val_precision: 0.8359 - val_recall: 0.5431\n",
      "Epoch 131/200\n",
      "142/142 [==============================] - 21s 149ms/step - loss: 0.0439 - precision: 0.9904 - recall: 0.9904 - val_loss: 3.3372 - val_precision: 0.7749 - val_recall: 0.7513\n",
      "Epoch 132/200\n",
      "142/142 [==============================] - 21s 149ms/step - loss: 0.0243 - precision: 0.9968 - recall: 0.9946 - val_loss: 5.7119 - val_precision: 0.8232 - val_recall: 0.6853\n",
      "Epoch 133/200\n",
      "142/142 [==============================] - 22s 156ms/step - loss: 0.0496 - precision: 0.9924 - recall: 0.9839 - val_loss: 3.7378 - val_precision: 0.7537 - val_recall: 0.7766\n",
      "Epoch 134/200\n",
      "142/142 [==============================] - 22s 155ms/step - loss: 0.0129 - precision: 0.9915 - recall: 0.9936 - val_loss: 3.2483 - val_precision: 0.7638 - val_recall: 0.7716\n",
      "Epoch 135/200\n",
      "142/142 [==============================] - 24s 169ms/step - loss: 0.0143 - precision: 0.9936 - recall: 0.9946 - val_loss: 4.5321 - val_precision: 0.7181 - val_recall: 0.6853\n",
      "Epoch 136/200\n",
      "142/142 [==============================] - 27s 188ms/step - loss: 0.0276 - precision: 0.9872 - recall: 0.9914 - val_loss: 1.7050 - val_precision: 0.7202 - val_recall: 0.7056\n",
      "Epoch 137/200\n",
      "142/142 [==============================] - 25s 176ms/step - loss: 0.0506 - precision: 0.9947 - recall: 0.9957 - val_loss: 3.5215 - val_precision: 0.7377 - val_recall: 0.6853\n",
      "Epoch 138/200\n",
      "142/142 [==============================] - 25s 172ms/step - loss: 0.0039 - precision: 0.9957 - recall: 0.9925 - val_loss: 3.8218 - val_precision: 0.7754 - val_recall: 0.7360\n",
      "Epoch 139/200\n",
      "142/142 [==============================] - 23s 162ms/step - loss: 0.0510 - precision: 0.9925 - recall: 0.9925 - val_loss: 3.7517 - val_precision: 0.8176 - val_recall: 0.7056\n",
      "Epoch 140/200\n",
      "142/142 [==============================] - 22s 155ms/step - loss: 0.0264 - precision: 0.9957 - recall: 0.9989 - val_loss: 2.1103 - val_precision: 0.7705 - val_recall: 0.7157\n",
      "Epoch 141/200\n",
      "142/142 [==============================] - 22s 154ms/step - loss: 0.0213 - precision: 0.9914 - recall: 0.9882 - val_loss: 3.4319 - val_precision: 0.8380 - val_recall: 0.6041\n",
      "Epoch 142/200\n",
      "142/142 [==============================] - 21s 150ms/step - loss: 0.0126 - precision: 0.9946 - recall: 0.9904 - val_loss: 1.9405 - val_precision: 0.8036 - val_recall: 0.6853\n",
      "Epoch 143/200\n",
      "142/142 [==============================] - 21s 150ms/step - loss: 0.0097 - precision: 0.9947 - recall: 0.9957 - val_loss: 3.0381 - val_precision: 0.7294 - val_recall: 0.8071\n",
      "Epoch 144/200\n",
      "142/142 [==============================] - 22s 152ms/step - loss: 0.0388 - precision: 0.9914 - recall: 0.9925 - val_loss: 3.0952 - val_precision: 0.8247 - val_recall: 0.6447\n",
      "Epoch 145/200\n",
      "142/142 [==============================] - 22s 152ms/step - loss: 0.0384 - precision: 0.9936 - recall: 0.9904 - val_loss: 2.4198 - val_precision: 0.8140 - val_recall: 0.7107\n",
      "Epoch 146/200\n",
      "142/142 [==============================] - 21s 150ms/step - loss: 0.0354 - precision: 0.9957 - recall: 0.9936 - val_loss: 2.7249 - val_precision: 0.8110 - val_recall: 0.6751\n",
      "Epoch 147/200\n",
      "142/142 [==============================] - 22s 152ms/step - loss: 0.0253 - precision: 0.9946 - recall: 0.9936 - val_loss: 2.6608 - val_precision: 0.8400 - val_recall: 0.6396\n",
      "Epoch 148/200\n",
      "142/142 [==============================] - 22s 152ms/step - loss: 0.0332 - precision: 0.9946 - recall: 0.9936 - val_loss: 2.6559 - val_precision: 0.7739 - val_recall: 0.7817\n",
      "Epoch 149/200\n",
      "142/142 [==============================] - 22s 154ms/step - loss: 0.0280 - precision: 0.9872 - recall: 0.9936 - val_loss: 3.7670 - val_precision: 0.8148 - val_recall: 0.6701\n",
      "Epoch 150/200\n",
      "142/142 [==============================] - 22s 154ms/step - loss: 0.0172 - precision: 0.9936 - recall: 0.9936 - val_loss: 3.4947 - val_precision: 0.8000 - val_recall: 0.7716\n",
      "Epoch 151/200\n",
      "142/142 [==============================] - 24s 168ms/step - loss: 0.0417 - precision: 0.9946 - recall: 0.9936 - val_loss: 7.8720 - val_precision: 0.8667 - val_recall: 0.6599\n",
      "Epoch 152/200\n",
      "142/142 [==============================] - 27s 190ms/step - loss: 0.0303 - precision: 0.9871 - recall: 0.9861 - val_loss: 2.3023 - val_precision: 0.8571 - val_recall: 0.6701\n",
      "Epoch 153/200\n",
      "142/142 [==============================] - 27s 187ms/step - loss: 0.0148 - precision: 0.9914 - recall: 0.9904 - val_loss: 2.1505 - val_precision: 0.6680 - val_recall: 0.8477\n",
      "Epoch 154/200\n",
      "142/142 [==============================] - 24s 170ms/step - loss: 0.0313 - precision: 0.9904 - recall: 0.9893 - val_loss: 5.6418 - val_precision: 0.8788 - val_recall: 0.5888\n",
      "Epoch 155/200\n",
      "142/142 [==============================] - 24s 173ms/step - loss: 0.0101 - precision: 0.9957 - recall: 0.9936 - val_loss: 5.5191 - val_precision: 0.7004 - val_recall: 0.8071\n",
      "Epoch 162/200\n",
      "142/142 [==============================] - 24s 169ms/step - loss: 0.0165 - precision: 0.9925 - recall: 0.9925 - val_loss: 4.4102 - val_precision: 0.7766 - val_recall: 0.7411\n",
      "Epoch 163/200\n",
      "142/142 [==============================] - 24s 169ms/step - loss: 0.0098 - precision: 0.9957 - recall: 0.9914 - val_loss: 5.5631 - val_precision: 0.7978 - val_recall: 0.7208\n",
      "Epoch 164/200\n",
      "142/142 [==============================] - 22s 155ms/step - loss: 0.0048 - precision: 0.9979 - recall: 0.9957 - val_loss: 6.8286 - val_precision: 0.7692 - val_recall: 0.7614\n",
      "Epoch 165/200\n",
      "142/142 [==============================] - 25s 173ms/step - loss: 0.1050 - precision: 0.9861 - recall: 0.9882 - val_loss: 2.2910 - val_precision: 0.8293 - val_recall: 0.6904\n",
      "Epoch 166/200\n",
      "142/142 [==============================] - 23s 163ms/step - loss: 0.0150 - precision: 0.9936 - recall: 0.9936 - val_loss: 4.0144 - val_precision: 0.8066 - val_recall: 0.7411\n",
      "Epoch 167/200\n",
      "142/142 [==============================] - 23s 161ms/step - loss: 0.0179 - precision: 0.9925 - recall: 0.9904 - val_loss: 3.2525 - val_precision: 0.7826 - val_recall: 0.7310\n",
      "Epoch 168/200\n",
      "142/142 [==============================] - 22s 158ms/step - loss: 0.0331 - precision: 0.9968 - recall: 0.9957 - val_loss: 3.3580 - val_precision: 0.6568 - val_recall: 0.7868\n",
      "Epoch 169/200\n",
      "142/142 [==============================] - 22s 159ms/step - loss: 0.0378 - precision: 0.9892 - recall: 0.9829 - val_loss: 2.9426 - val_precision: 0.8192 - val_recall: 0.7360\n",
      "Epoch 170/200\n",
      "142/142 [==============================] - 22s 154ms/step - loss: 0.0287 - precision: 0.9925 - recall: 0.9893 - val_loss: 4.6843 - val_precision: 0.8161 - val_recall: 0.7208\n",
      "Epoch 171/200\n",
      "142/142 [==============================] - 25s 174ms/step - loss: 0.0180 - precision: 0.9946 - recall: 0.9914 - val_loss: 4.9050 - val_precision: 0.7727 - val_recall: 0.7766\n",
      "Epoch 177/200\n",
      "142/142 [==============================] - 24s 172ms/step - loss: 0.0656 - precision: 0.9925 - recall: 0.9936 - val_loss: 4.7415 - val_precision: 0.8043 - val_recall: 0.7513\n",
      "Epoch 178/200\n",
      "142/142 [==============================] - 25s 173ms/step - loss: 0.0403 - precision: 0.9882 - recall: 0.9829 - val_loss: 5.1389 - val_precision: 0.8140 - val_recall: 0.7107\n",
      "Epoch 179/200\n",
      "142/142 [==============================] - 25s 177ms/step - loss: 0.0478 - precision: 0.9946 - recall: 0.9946 - val_loss: 6.0637 - val_precision: 0.7760 - val_recall: 0.7563\n",
      "Epoch 180/200\n",
      "142/142 [==============================] - 24s 166ms/step - loss: 0.0989 - precision: 0.9947 - recall: 0.9957 - val_loss: 3.8523 - val_precision: 0.7277 - val_recall: 0.7868\n",
      "Epoch 181/200\n",
      "142/142 [==============================] - 25s 179ms/step - loss: 0.0159 - precision: 0.9925 - recall: 0.9946 - val_loss: 4.3598 - val_precision: 0.7415 - val_recall: 0.7716\n",
      "Epoch 182/200\n",
      "142/142 [==============================] - 23s 165ms/step - loss: 0.0585 - precision: 0.9677 - recall: 0.9946 - val_loss: 4.5056 - val_precision: 0.7884 - val_recall: 0.7563\n",
      "Epoch 183/200\n",
      "142/142 [==============================] - 23s 162ms/step - loss: 0.0190 - precision: 0.9914 - recall: 0.9914 - val_loss: 5.8001 - val_precision: 0.8150 - val_recall: 0.7157\n",
      "Epoch 187/200\n",
      "142/142 [==============================] - 23s 161ms/step - loss: 0.0416 - precision: 0.9872 - recall: 0.9882 - val_loss: 4.0867 - val_precision: 0.8160 - val_recall: 0.6751\n",
      "Epoch 188/200\n",
      "142/142 [==============================] - 23s 163ms/step - loss: 0.0120 - precision: 0.9936 - recall: 0.9936 - val_loss: 4.6767 - val_precision: 0.7755 - val_recall: 0.7716\n",
      "Epoch 189/200\n",
      "142/142 [==============================] - 23s 164ms/step - loss: 0.0245 - precision: 0.9957 - recall: 0.9925 - val_loss: 3.5728 - val_precision: 0.7910 - val_recall: 0.7107\n",
      "Epoch 190/200\n",
      "142/142 [==============================] - 23s 165ms/step - loss: 0.0174 - precision: 0.9957 - recall: 0.9936 - val_loss: 9.1227 - val_precision: 0.7976 - val_recall: 0.6802\n",
      "Epoch 191/200\n",
      "142/142 [==============================] - 25s 176ms/step - loss: 0.0330 - precision: 0.9946 - recall: 0.9946 - val_loss: 4.4997 - val_precision: 0.8000 - val_recall: 0.7310\n",
      "Epoch 192/200\n",
      "142/142 [==============================] - 24s 172ms/step - loss: 0.0189 - precision: 0.9957 - recall: 0.9957 - val_loss: 4.4195 - val_precision: 0.7227 - val_recall: 0.8071\n",
      "Epoch 193/200\n",
      "142/142 [==============================] - 26s 180ms/step - loss: 0.0255 - precision: 0.9936 - recall: 0.9936 - val_loss: 3.4210 - val_precision: 0.8952 - val_recall: 0.5635\n",
      "Epoch 194/200\n",
      "142/142 [==============================] - 34s 237ms/step - loss: 0.0198 - precision: 0.9946 - recall: 0.9882 - val_loss: 2.8270 - val_precision: 0.7692 - val_recall: 0.7614\n",
      "Epoch 195/200\n",
      "142/142 [==============================] - 27s 193ms/step - loss: 0.0066 - precision: 0.9989 - recall: 0.9979 - val_loss: 6.9573 - val_precision: 0.8022 - val_recall: 0.7411\n",
      "Epoch 196/200\n",
      "142/142 [==============================] - 22s 152ms/step - loss: 0.0422 - precision: 0.9936 - recall: 0.9957 - val_loss: 4.4883 - val_precision: 0.8284 - val_recall: 0.7107\n",
      "Epoch 197/200\n",
      "142/142 [==============================] - 22s 157ms/step - loss: 0.0159 - precision: 0.9936 - recall: 0.9968 - val_loss: 4.2902 - val_precision: 0.7644 - val_recall: 0.7411\n",
      "Epoch 198/200\n",
      "142/142 [==============================] - 22s 156ms/step - loss: 0.0429 - precision: 0.9968 - recall: 0.9968 - val_loss: 8.6057 - val_precision: 0.7849 - val_recall: 0.6853\n",
      "Epoch 199/200\n",
      "142/142 [==============================] - 21s 151ms/step - loss: 0.0142 - precision: 0.9947 - recall: 0.9968 - val_loss: 16.9990 - val_precision: 0.7844 - val_recall: 0.6650\n",
      "Epoch 200/200\n",
      "142/142 [==============================] - 21s 149ms/step - loss: 0.0231 - precision: 0.9957 - recall: 0.9979 - val_loss: 7.9390 - val_precision: 0.7895 - val_recall: 0.7614\n"
     ]
    }
   ],
   "source": [
    "history_base = model_base.fit(X_train, y_train, validation_data= (X_val, y_val), batch_size=40, epochs = 200, callbacks=callbacks)"
   ]
  },
  {
   "cell_type": "code",
   "execution_count": 10,
   "metadata": {},
   "outputs": [],
   "source": [
    "X_test= preprocessig_data(X_test)\n",
    "y_test = le.transform(y_test)"
   ]
  },
  {
   "cell_type": "code",
   "execution_count": 11,
   "metadata": {},
   "outputs": [
    {
     "name": "stdout",
     "output_type": "stream",
     "text": [
      "38/38 [==============================] - 2s 55ms/step - loss: 13.4761 - precision: 0.7696 - recall: 0.7136\n",
      "Test loss: 13.476080894470215\n",
      "Test Precision: 0.7696078419685364\n",
      "Test Recall: 0.7136363387107849\n"
     ]
    }
   ],
   "source": [
    "# Evaluacion del modelo con el conjunto de Test\n",
    "score = model_base.evaluate(X_test, y_test)\n",
    "print(f'Test loss: {score[0]}\\nTest Precision: {score[1]}\\nTest Recall: {score[2]}')"
   ]
  },
  {
   "cell_type": "code",
   "execution_count": 12,
   "metadata": {},
   "outputs": [
    {
     "data": {
      "image/png": "[encoded data removed]",
      "text/plain": [
       "<Figure size 640x480 with 1 Axes>"
      ]
     },
     "metadata": {},
     "output_type": "display_data"
    },
    {
     "data": {
      "image/png": "[encoded data removed]",
      "text/plain": [
       "<Figure size 640x480 with 1 Axes>"
      ]
     },
     "metadata": {},
     "output_type": "display_data"
    }
   ],
   "source": [
    "import matplotlib.pyplot as plt\n",
    "precision = history_base.history[\"precision\"]\n",
    "val_precision = history_base.history[\"val_precision\"]\n",
    "loss = history_base.history[\"loss\"]\n",
    "val_loss = history_base.history[\"val_loss\"]\n",
    "epochs = range(1, len(precision) + 1)\n",
    "plt.plot(epochs, precision, \"bo\", label=\"Training precision\")\n",
    "plt.plot(epochs, val_precision, \"b\", label=\"Validation precision\")\n",
    "plt.title(\"Training and validation precision\")\n",
    "plt.legend()\n",
    "plt.figure()\n",
    "plt.plot(epochs, loss, \"bo\", label=\"Training loss\")\n",
    "plt.plot(epochs, val_loss, \"b\", label=\"Validation loss\")\n",
    "plt.title(\"Training and validation loss\")\n",
    "plt.legend()\n",
    "plt.show()"
   ]
  },
  {
   "cell_type": "code",
   "execution_count": 13,
   "metadata": {},
   "outputs": [],
   "source": [
    "def getRealPrediction(y_aux):\n",
    "    y_predicted = np.zeros(len(y_aux))\n",
    "    for i in range(len(y_aux)):\n",
    "        if y_aux[i] >= 0.5:\n",
    "            y_predicted[i] = 1\n",
    "        else:\n",
    "            y_predicted[i] = 0\n",
    "    return y_predicted"
   ]
  },
  {
   "cell_type": "code",
   "execution_count": 14,
   "metadata": {},
   "outputs": [
    {
     "name": "stdout",
     "output_type": "stream",
     "text": [
      "178/178 [==============================] - 6s 34ms/step\n",
      "Matriz de Confusión Train\n"
     ]
    },
    {
     "data": {
      "image/png": "[encoded data removed]",
      "text/plain": [
       "<Figure size 640x480 with 2 Axes>"
      ]
     },
     "metadata": {},
     "output_type": "display_data"
    },
    {
     "name": "stdout",
     "output_type": "stream",
     "text": [
      "38/38 [==============================] - 1s 32ms/step\n",
      "Matriz de Confusión Test\n"
     ]
    },
    {
     "data": {
      "image/png": "[encoded data removed]",
      "text/plain": [
       "<Figure size 640x480 with 2 Axes>"
      ]
     },
     "metadata": {},
     "output_type": "display_data"
    }
   ],
   "source": [
    "from sklearn import metrics\n",
    "import matplotlib.pyplot as plt\n",
    "\n",
    "y_aux = model_base.predict(X_train)\n",
    "y_predicted = getRealPrediction(y_aux)\n",
    "confusion_matrix = metrics.confusion_matrix(y_train, y_predicted)\n",
    "cm_display = metrics.ConfusionMatrixDisplay(confusion_matrix = confusion_matrix, display_labels = [False, True])\n",
    "print('Matriz de Confusión Train')\n",
    "cm_display.plot()\n",
    "plt.show()\n",
    "\n",
    "y_aux = model_base.predict(X_test)\n",
    "y_predicted = getRealPrediction(y_aux)\n",
    "confusion_matrix = metrics.confusion_matrix(y_test, y_predicted)\n",
    "cm_display = metrics.ConfusionMatrixDisplay(confusion_matrix = confusion_matrix, display_labels = [False, True])\n",
    "print('Matriz de Confusión Test')\n",
    "cm_display.plot()\n",
    "plt.show()"
   ]
  },
  {
   "cell_type": "markdown",
   "metadata": {},
   "source": [
    "## Deploy del modelo: red convolucional"
   ]
  },
  {
   "cell_type": "code",
   "execution_count": 15,
   "metadata": {},
   "outputs": [],
   "source": [
    "from tensorflow.keras.models import load_model\n",
    "test_model = load_model(\"modelos/checkpoint_model4a\")\n",
    "IMG_SIZE = 50\n",
    "\n",
    "def preprocessig_data(data):\n",
    "    X = []\n",
    "    for img_path in data:\n",
    "        img = cv2.imread(img_path)\n",
    "        img = cv2.cvtColor(img, cv2.COLOR_RGB2GRAY) # Pasamos la imagen a escala de grises\n",
    "        img = cv2.resize(img, (IMG_SIZE, IMG_SIZE))/255.0 # normalizamos los pixeles de la imagen\n",
    "        X.append(img)\n",
    "    X = np.array(X)\n",
    "    X = X.reshape((-1, IMG_SIZE, IMG_SIZE, 1)) #Hacemos un reshape de las imagenes\n",
    "    return X"
   ]
  },
  {
   "cell_type": "code",
   "execution_count": 16,
   "metadata": {},
   "outputs": [
    {
     "name": "stdout",
     "output_type": "stream",
     "text": [
      "percentage: 73.79194%\n",
      "predicted: 1.0\n"
     ]
    }
   ],
   "source": [
    "imagenPath = \"data\\\\images\\\\image_13.jpg\" # positiva\n",
    "inputImage = preprocessig_data([imagenPath])\n",
    "y_predicted = test_model(inputImage)\n",
    "percentage = tf.gather(y_predicted, 0)[0].numpy()\n",
    "real_val = getRealPrediction([percentage])[0]\n",
    "print('percentage:',f'{round(percentage*100, 5)}%')\n",
    "print('predicted:',real_val)"
   ]
  },
  {
   "cell_type": "code",
   "execution_count": 17,
   "metadata": {},
   "outputs": [
    {
     "name": "stdout",
     "output_type": "stream",
     "text": [
      "percentage: 0.0%\n",
      "predicted: 0.0\n"
     ]
    }
   ],
   "source": [
    "imagenPath = \"data\\\\images\\\\image_1054.jpg\" # negativa\n",
    "inputImage = preprocessig_data([imagenPath])\n",
    "y_predicted = test_model(inputImage)\n",
    "percentage = tf.gather(y_predicted, 0)[0].numpy()\n",
    "real_val = getRealPrediction([percentage])[0]\n",
    "print('percentage:',f'{round(percentage*100, 5)}%')\n",
    "print('predicted:',real_val)"
   ]
  }
 ],
 "metadata": {
  "kernelspec": {
   "display_name": "Python 3 (ipykernel)",
   "language": "python",
   "name": "python3"
  },
  "language_info": {
   "codemirror_mode": {
    "name": "ipython",
    "version": 3
   },
   "file_extension": ".py",
   "mimetype": "text/x-python",
   "name": "python",
   "nbconvert_exporter": "python",
   "pygments_lexer": "ipython3",
   "version": "3.8.15"
  },
  "vscode": {
   "interpreter": {
    "hash": "8a803d61fb48b7136249db5db6f3a8557188aad2689092bd17fd97632f2b0735"
   }
  }
 },
 "nbformat": 4,
 "nbformat_minor": 4
}
