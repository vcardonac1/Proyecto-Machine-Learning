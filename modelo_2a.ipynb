{
 "cells": [
  {
   "cell_type": "code",
   "execution_count": 1,
   "metadata": {},
   "outputs": [],
   "source": [
    "import os\n",
    "import pandas as pd\n",
    "import cv2\n",
    "import tensorflow as tf\n",
    "import numpy as np\n",
    "from tensorflow.keras.datasets import reuters\n",
    "from tensorflow.keras.models import Sequential, load_model\n",
    "from tensorflow.keras.layers import Dense, Dropout, Activation, MaxPooling2D, Conv2D, Flatten, BatchNormalization\n",
    "from tensorflow.keras.preprocessing.image import ImageDataGenerator\n",
    "from tensorflow.keras.callbacks import ModelCheckpoint, EarlyStopping\n",
    "from tensorflow.keras.preprocessing import image\n",
    "from tensorflow.keras.utils import to_categorical\n",
    "import matplotlib.pyplot as plt\n",
    "import matplotlib.image as img\n",
    "from sklearn.model_selection import train_test_split\n",
    "from sklearn.preprocessing import LabelEncoder, OneHotEncoder\n",
    "from sklearn.utils import shuffle\n",
    "\n",
    "from scikeras.wrappers import KerasClassifier\n",
    "from sklearn.model_selection import train_test_split, RandomizedSearchCV\n",
    "from sklearn.pipeline import Pipeline, FeatureUnion\n",
    "from sklearn.metrics import classification_report, confusion_matrix, accuracy_score, make_scorer"
   ]
  },
  {
   "cell_type": "code",
   "execution_count": 2,
   "metadata": {},
   "outputs": [
    {
     "data": {
      "image/png": "[encoded data removed]",
      "text/plain": [
       "<Figure size 640x480 with 2 Axes>"
      ]
     },
     "metadata": {},
     "output_type": "display_data"
    }
   ],
   "source": [
    "#observamos las imágenes\n",
    "plt.subplot(1, 2, 1)\n",
    "plt.title('Label Negativo: 0')\n",
    "plt.imshow(cv2.imread('data\\\\images\\\\image_1054.jpg'))\n",
    "\n",
    "plt.subplot(1, 2, 2)\n",
    "plt.title('Label Positivo: 1')\n",
    "plt.imshow(cv2.imread('data\\\\images\\\\image_13.jpg'))\n",
    "\n",
    "plt.show()"
   ]
  },
  {
   "cell_type": "markdown",
   "metadata": {},
   "source": [
    "## Pre-procesamiento de los Datos\n",
    "Unir en un solo dataset las imagenes con sus labels"
   ]
  },
  {
   "cell_type": "code",
   "execution_count": 3,
   "metadata": {},
   "outputs": [
    {
     "data": {
      "text/html": [
       "<div>\n",
       "<style scoped>\n",
       "    .dataframe tbody tr th:only-of-type {\n",
       "        vertical-align: middle;\n",
       "    }\n",
       "\n",
       "    .dataframe tbody tr th {\n",
       "        vertical-align: top;\n",
       "    }\n",
       "\n",
       "    .dataframe thead th {\n",
       "        text-align: right;\n",
       "    }\n",
       "</style>\n",
       "<table border=\"1\" class=\"dataframe\">\n",
       "  <thead>\n",
       "    <tr style=\"text-align: right;\">\n",
       "      <th></th>\n",
       "      <th>filepaths</th>\n",
       "      <th>labels</th>\n",
       "    </tr>\n",
       "  </thead>\n",
       "  <tbody>\n",
       "    <tr>\n",
       "      <th>0</th>\n",
       "      <td>data/images/image_189342.jpg</td>\n",
       "      <td>0</td>\n",
       "    </tr>\n",
       "    <tr>\n",
       "      <th>1</th>\n",
       "      <td>data/images/image_145102.jpg</td>\n",
       "      <td>0</td>\n",
       "    </tr>\n",
       "    <tr>\n",
       "      <th>2</th>\n",
       "      <td>data/images/image_31546.jpg</td>\n",
       "      <td>0</td>\n",
       "    </tr>\n",
       "    <tr>\n",
       "      <th>3</th>\n",
       "      <td>data/images/image_441280.jpg</td>\n",
       "      <td>1</td>\n",
       "    </tr>\n",
       "    <tr>\n",
       "      <th>4</th>\n",
       "      <td>data/images/image_215578.jpg</td>\n",
       "      <td>0</td>\n",
       "    </tr>\n",
       "  </tbody>\n",
       "</table>\n",
       "</div>"
      ],
      "text/plain": [
       "                      filepaths  labels\n",
       "0  data/images/image_189342.jpg       0\n",
       "1  data/images/image_145102.jpg       0\n",
       "2   data/images/image_31546.jpg       0\n",
       "3  data/images/image_441280.jpg       1\n",
       "4  data/images/image_215578.jpg       0"
      ]
     },
     "execution_count": 3,
     "metadata": {},
     "output_type": "execute_result"
    }
   ],
   "source": [
    "df = pd.read_csv('data\\\\labels.txt', sep=\" \", header = None)\n",
    "df.columns =['filepaths', 'labels']\n",
    "df.head()"
   ]
  },
  {
   "cell_type": "code",
   "execution_count": 4,
   "metadata": {},
   "outputs": [
    {
     "name": "stdout",
     "output_type": "stream",
     "text": [
      "0    6755\n",
      "1    1351\n",
      "Name: labels, dtype: int64\n"
     ]
    }
   ],
   "source": [
    "df = shuffle(df).reset_index(drop = True)\n",
    "print (df['labels'].value_counts())"
   ]
  },
  {
   "cell_type": "code",
   "execution_count": 5,
   "metadata": {},
   "outputs": [
    {
     "name": "stdout",
     "output_type": "stream",
     "text": [
      "Cantidad de datos en cada set\n",
      "\n",
      "Training: 5674 \t\t0: 4710 , 1: 964\n",
      "Validacion: 1216 \t0: 1011 , 1: 205\n",
      "Test: 1216 \t\t0: 1034 , 1: 182\n"
     ]
    }
   ],
   "source": [
    "# Se separan los datos en training, validacion y test\n",
    "X_train, X_test, y_train, y_test = train_test_split(df['filepaths'], df['labels'], test_size=0.30, random_state=33)\n",
    "X_test, X_val, y_test, y_val= train_test_split(X_test, y_test, train_size=0.5, random_state=34)\n",
    "\n",
    "print('Cantidad de datos en cada set\\n')\n",
    "print('Training:', len(y_train), '\\t\\t0:', y_train.value_counts()[0],', 1:' ,y_train.value_counts()[1])\n",
    "print('Validacion:', len(y_val), '\\t0:', y_val.value_counts()[0],', 1:' ,y_val.value_counts()[1])\n",
    "print('Test:', len(y_test), '\\t\\t0:', y_test.value_counts()[0],', 1:' ,y_test.value_counts()[1])"
   ]
  },
  {
   "cell_type": "markdown",
   "metadata": {},
   "source": [
    "## Pre-procesamiento de las imagenes"
   ]
  },
  {
   "cell_type": "code",
   "execution_count": 6,
   "metadata": {},
   "outputs": [],
   "source": [
    "IMG_SIZE = 50\n",
    "\n",
    "def preprocessig_data(data):\n",
    "    X = []\n",
    "    for img_path in data:\n",
    "        img = cv2.imread(img_path)\n",
    "        img = cv2.cvtColor(img, cv2.COLOR_RGB2GRAY) # Pasamos la imagen a escala de grises\n",
    "        img = cv2.resize(img, (IMG_SIZE, IMG_SIZE))/255.0 # normalizamos los pixeles de la imagen\n",
    "        X.append(img)\n",
    "    X = np.array(X)\n",
    "    X = X.reshape((-1, IMG_SIZE, IMG_SIZE, 1)) #Hacemos un reshape de las imagenes\n",
    "    return X\n",
    "\n",
    "X_train = preprocessig_data(X_train)\n",
    "X_val = preprocessig_data(X_val)"
   ]
  },
  {
   "cell_type": "code",
   "execution_count": 7,
   "metadata": {},
   "outputs": [],
   "source": [
    "# Usamos labelEncoder para manejar los labels como numeros\n",
    "le = LabelEncoder()\n",
    "y_train = le.fit_transform(y_train)\n",
    "y_val = le.transform(y_val)"
   ]
  },
  {
   "cell_type": "markdown",
   "metadata": {},
   "source": [
    "## Red convolucional de al menos 3 capas convolucionales"
   ]
  },
  {
   "cell_type": "code",
   "execution_count": 8,
   "metadata": {},
   "outputs": [
    {
     "name": "stdout",
     "output_type": "stream",
     "text": [
      "Model: \"sequential\"\n",
      "_________________________________________________________________\n",
      " Layer (type)                Output Shape              Param #   \n",
      "=================================================================\n",
      " conv2d (Conv2D)             (None, 48, 48, 20)        200       \n",
      "                                                                 \n",
      " max_pooling2d (MaxPooling2D  (None, 24, 24, 20)       0         \n",
      " )                                                               \n",
      "                                                                 \n",
      " conv2d_1 (Conv2D)           (None, 22, 22, 40)        7240      \n",
      "                                                                 \n",
      " max_pooling2d_1 (MaxPooling  (None, 11, 11, 40)       0         \n",
      " 2D)                                                             \n",
      "                                                                 \n",
      " conv2d_2 (Conv2D)           (None, 9, 9, 60)          21660     \n",
      "                                                                 \n",
      " max_pooling2d_2 (MaxPooling  (None, 4, 4, 60)         0         \n",
      " 2D)                                                             \n",
      "                                                                 \n",
      " flatten (Flatten)           (None, 960)               0         \n",
      "                                                                 \n",
      " dense (Dense)               (None, 100)               96100     \n",
      "                                                                 \n",
      " dropout (Dropout)           (None, 100)               0         \n",
      "                                                                 \n",
      " dense_1 (Dense)             (None, 1)                 101       \n",
      "                                                                 \n",
      "=================================================================\n",
      "Total params: 125,301\n",
      "Trainable params: 125,301\n",
      "Non-trainable params: 0\n",
      "_________________________________________________________________\n"
     ]
    }
   ],
   "source": [
    "model_base = tf.keras.models.Sequential([\n",
    "  \n",
    "  Conv2D(20, kernel_size= (3,3), activation='relu', input_shape =(IMG_SIZE,IMG_SIZE,1)),\n",
    "  MaxPooling2D(),\n",
    "\n",
    "  Conv2D(40, kernel_size = (3,3), activation='relu'),\n",
    "  MaxPooling2D(),\n",
    "\n",
    "  Conv2D(60, kernel_size = (3,3), activation='relu'),\n",
    "  MaxPooling2D(),\n",
    "  \n",
    "  Flatten(),\n",
    "  Dense(100, activation='relu'),\n",
    "  Dropout(0.2),\n",
    "  \n",
    "  Dense(1, activation= 'sigmoid') # Se tienen 2 posibles clases\n",
    "])\n",
    "\n",
    "callbacks = [\n",
    "    ModelCheckpoint(\n",
    "    filepath=\"modelos/checkpoint_model2a\",\n",
    "    save_best_only=True,\n",
    "    monitor=\"val_loss\")\n",
    "]\n",
    "\n",
    "model_base.compile(optimizer='RMSprop',loss=tf.keras.losses.BinaryCrossentropy(from_logits=False), metrics=['Precision', 'Recall'])\n",
    "model_base.summary()"
   ]
  },
  {
   "cell_type": "code",
   "execution_count": 9,
   "metadata": {},
   "outputs": [
    {
     "name": "stdout",
     "output_type": "stream",
     "text": [
      "Epoch 1/200\n",
      "142/142 [==============================] - ETA: 0s - loss: 0.4261 - precision: 0.5306 - recall: 0.0809"
     ]
    },
    {
     "name": "stderr",
     "output_type": "stream",
     "text": [
      "WARNING:absl:Found untraced functions such as _jit_compiled_convolution_op, _jit_compiled_convolution_op, _jit_compiled_convolution_op while saving (showing 3 of 3). These functions will not be directly callable after loading.\n"
     ]
    },
    {
     "name": "stdout",
     "output_type": "stream",
     "text": [
      "INFO:tensorflow:Assets written to: modelos\\checkpoint_model2a\\assets\n"
     ]
    },
    {
     "name": "stderr",
     "output_type": "stream",
     "text": [
      "INFO:tensorflow:Assets written to: modelos\\checkpoint_model2a\\assets\n"
     ]
    },
    {
     "name": "stdout",
     "output_type": "stream",
     "text": [
      "142/142 [==============================] - 28s 152ms/step - loss: 0.4261 - precision: 0.5306 - recall: 0.0809 - val_loss: 0.3840 - val_precision: 0.5984 - val_recall: 0.3561\n",
      "Epoch 2/200\n",
      "142/142 [==============================] - ETA: 0s - loss: 0.3284 - precision: 0.6504 - recall: 0.3454"
     ]
    },
    {
     "name": "stderr",
     "output_type": "stream",
     "text": [
      "WARNING:absl:Found untraced functions such as _jit_compiled_convolution_op, _jit_compiled_convolution_op, _jit_compiled_convolution_op while saving (showing 3 of 3). These functions will not be directly callable after loading.\n"
     ]
    },
    {
     "name": "stdout",
     "output_type": "stream",
     "text": [
      "INFO:tensorflow:Assets written to: modelos\\checkpoint_model2a\\assets\n"
     ]
    },
    {
     "name": "stderr",
     "output_type": "stream",
     "text": [
      "INFO:tensorflow:Assets written to: modelos\\checkpoint_model2a\\assets\n"
     ]
    },
    {
     "name": "stdout",
     "output_type": "stream",
     "text": [
      "142/142 [==============================] - 16s 109ms/step - loss: 0.3284 - precision: 0.6504 - recall: 0.3454 - val_loss: 0.3277 - val_precision: 0.8533 - val_recall: 0.3122\n",
      "Epoch 3/200\n",
      "142/142 [==============================] - ETA: 0s - loss: 0.2813 - precision: 0.6924 - recall: 0.5114"
     ]
    },
    {
     "name": "stderr",
     "output_type": "stream",
     "text": [
      "WARNING:absl:Found untraced functions such as _jit_compiled_convolution_op, _jit_compiled_convolution_op, _jit_compiled_convolution_op while saving (showing 3 of 3). These functions will not be directly callable after loading.\n"
     ]
    },
    {
     "name": "stdout",
     "output_type": "stream",
     "text": [
      "INFO:tensorflow:Assets written to: modelos\\checkpoint_model2a\\assets\n"
     ]
    },
    {
     "name": "stderr",
     "output_type": "stream",
     "text": [
      "INFO:tensorflow:Assets written to: modelos\\checkpoint_model2a\\assets\n"
     ]
    },
    {
     "name": "stdout",
     "output_type": "stream",
     "text": [
      "142/142 [==============================] - 13s 92ms/step - loss: 0.2813 - precision: 0.6924 - recall: 0.5114 - val_loss: 0.2903 - val_precision: 0.6831 - val_recall: 0.6098\n",
      "Epoch 4/200\n",
      "142/142 [==============================] - 11s 78ms/step - loss: 0.2472 - precision: 0.7447 - recall: 0.5871 - val_loss: 0.2921 - val_precision: 0.7928 - val_recall: 0.4293\n",
      "Epoch 5/200\n",
      "142/142 [==============================] - ETA: 0s - loss: 0.2241 - precision: 0.7736 - recall: 0.6380"
     ]
    },
    {
     "name": "stderr",
     "output_type": "stream",
     "text": [
      "WARNING:absl:Found untraced functions such as _jit_compiled_convolution_op, _jit_compiled_convolution_op, _jit_compiled_convolution_op while saving (showing 3 of 3). These functions will not be directly callable after loading.\n"
     ]
    },
    {
     "name": "stdout",
     "output_type": "stream",
     "text": [
      "INFO:tensorflow:Assets written to: modelos\\checkpoint_model2a\\assets\n"
     ]
    },
    {
     "name": "stderr",
     "output_type": "stream",
     "text": [
      "INFO:tensorflow:Assets written to: modelos\\checkpoint_model2a\\assets\n"
     ]
    },
    {
     "name": "stdout",
     "output_type": "stream",
     "text": [
      "142/142 [==============================] - 13s 91ms/step - loss: 0.2241 - precision: 0.7736 - recall: 0.6380 - val_loss: 0.2501 - val_precision: 0.8559 - val_recall: 0.4634\n",
      "Epoch 6/200\n",
      "142/142 [==============================] - ETA: 0s - loss: 0.2036 - precision: 0.8043 - recall: 0.6950"
     ]
    },
    {
     "name": "stderr",
     "output_type": "stream",
     "text": [
      "WARNING:absl:Found untraced functions such as _jit_compiled_convolution_op, _jit_compiled_convolution_op, _jit_compiled_convolution_op while saving (showing 3 of 3). These functions will not be directly callable after loading.\n"
     ]
    },
    {
     "name": "stdout",
     "output_type": "stream",
     "text": [
      "INFO:tensorflow:Assets written to: modelos\\checkpoint_model2a\\assets\n"
     ]
    },
    {
     "name": "stderr",
     "output_type": "stream",
     "text": [
      "INFO:tensorflow:Assets written to: modelos\\checkpoint_model2a\\assets\n"
     ]
    },
    {
     "name": "stdout",
     "output_type": "stream",
     "text": [
      "142/142 [==============================] - 13s 89ms/step - loss: 0.2036 - precision: 0.8043 - recall: 0.6950 - val_loss: 0.2406 - val_precision: 0.8235 - val_recall: 0.5463\n",
      "Epoch 7/200\n",
      "142/142 [==============================] - 9s 64ms/step - loss: 0.1839 - precision: 0.8299 - recall: 0.7490 - val_loss: 0.2414 - val_precision: 0.8413 - val_recall: 0.5171\n",
      "Epoch 8/200\n",
      "142/142 [==============================] - ETA: 0s - loss: 0.1704 - precision: 0.8367 - recall: 0.7656"
     ]
    },
    {
     "name": "stderr",
     "output_type": "stream",
     "text": [
      "WARNING:absl:Found untraced functions such as _jit_compiled_convolution_op, _jit_compiled_convolution_op, _jit_compiled_convolution_op while saving (showing 3 of 3). These functions will not be directly callable after loading.\n"
     ]
    },
    {
     "name": "stdout",
     "output_type": "stream",
     "text": [
      "INFO:tensorflow:Assets written to: modelos\\checkpoint_model2a\\assets\n"
     ]
    },
    {
     "name": "stderr",
     "output_type": "stream",
     "text": [
      "INFO:tensorflow:Assets written to: modelos\\checkpoint_model2a\\assets\n"
     ]
    },
    {
     "name": "stdout",
     "output_type": "stream",
     "text": [
      "142/142 [==============================] - 11s 80ms/step - loss: 0.1704 - precision: 0.8367 - recall: 0.7656 - val_loss: 0.2091 - val_precision: 0.7921 - val_recall: 0.6878\n",
      "Epoch 9/200\n",
      "142/142 [==============================] - 10s 74ms/step - loss: 0.1520 - precision: 0.8592 - recall: 0.8039 - val_loss: 0.2872 - val_precision: 0.8814 - val_recall: 0.5073\n",
      "Epoch 10/200\n",
      "142/142 [==============================] - 10s 72ms/step - loss: 0.1396 - precision: 0.8667 - recall: 0.8164 - val_loss: 0.2123 - val_precision: 0.8364 - val_recall: 0.6732\n",
      "Epoch 11/200\n",
      "142/142 [==============================] - 10s 72ms/step - loss: 0.1275 - precision: 0.8700 - recall: 0.8402 - val_loss: 0.2297 - val_precision: 0.8786 - val_recall: 0.6000\n",
      "Epoch 12/200\n",
      "142/142 [==============================] - ETA: 0s - loss: 0.1119 - precision: 0.8791 - recall: 0.8600"
     ]
    },
    {
     "name": "stderr",
     "output_type": "stream",
     "text": [
      "WARNING:absl:Found untraced functions such as _jit_compiled_convolution_op, _jit_compiled_convolution_op, _jit_compiled_convolution_op while saving (showing 3 of 3). These functions will not be directly callable after loading.\n"
     ]
    },
    {
     "name": "stdout",
     "output_type": "stream",
     "text": [
      "INFO:tensorflow:Assets written to: modelos\\checkpoint_model2a\\assets\n"
     ]
    },
    {
     "name": "stderr",
     "output_type": "stream",
     "text": [
      "INFO:tensorflow:Assets written to: modelos\\checkpoint_model2a\\assets\n"
     ]
    },
    {
     "name": "stdout",
     "output_type": "stream",
     "text": [
      "142/142 [==============================] - 12s 85ms/step - loss: 0.1119 - precision: 0.8791 - recall: 0.8600 - val_loss: 0.2082 - val_precision: 0.7956 - val_recall: 0.7024\n",
      "Epoch 13/200\n",
      "142/142 [==============================] - 10s 69ms/step - loss: 0.1027 - precision: 0.8945 - recall: 0.8703 - val_loss: 0.2257 - val_precision: 0.7143 - val_recall: 0.7561\n",
      "Epoch 14/200\n",
      "142/142 [==============================] - 10s 72ms/step - loss: 0.0904 - precision: 0.9130 - recall: 0.8932 - val_loss: 0.2255 - val_precision: 0.7174 - val_recall: 0.8049\n",
      "Epoch 15/200\n",
      "142/142 [==============================] - 10s 71ms/step - loss: 0.0826 - precision: 0.9044 - recall: 0.9025 - val_loss: 0.2373 - val_precision: 0.7426 - val_recall: 0.7317\n",
      "Epoch 16/200\n",
      "142/142 [==============================] - 10s 73ms/step - loss: 0.0685 - precision: 0.9256 - recall: 0.9160 - val_loss: 0.2660 - val_precision: 0.7537 - val_recall: 0.7463\n",
      "Epoch 17/200\n",
      "142/142 [==============================] - 10s 72ms/step - loss: 0.0616 - precision: 0.9400 - recall: 0.9263 - val_loss: 0.3246 - val_precision: 0.8011 - val_recall: 0.7268\n",
      "Epoch 18/200\n",
      "142/142 [==============================] - 10s 74ms/step - loss: 0.0546 - precision: 0.9400 - recall: 0.9429 - val_loss: 0.4779 - val_precision: 0.9077 - val_recall: 0.5756\n",
      "Epoch 19/200\n",
      "142/142 [==============================] - 10s 73ms/step - loss: 0.0456 - precision: 0.9461 - recall: 0.9471 - val_loss: 0.3507 - val_precision: 0.7574 - val_recall: 0.7463\n",
      "Epoch 20/200\n",
      "142/142 [==============================] - 10s 73ms/step - loss: 0.0373 - precision: 0.9537 - recall: 0.9606 - val_loss: 0.3481 - val_precision: 0.7672 - val_recall: 0.7073\n",
      "Epoch 21/200\n",
      "142/142 [==============================] - 10s 72ms/step - loss: 0.0386 - precision: 0.9583 - recall: 0.9544 - val_loss: 0.5341 - val_precision: 0.8607 - val_recall: 0.5122\n",
      "Epoch 22/200\n",
      "142/142 [==============================] - 10s 73ms/step - loss: 0.0336 - precision: 0.9646 - recall: 0.9616 - val_loss: 0.4214 - val_precision: 0.6774 - val_recall: 0.8195\n",
      "Epoch 23/200\n",
      "142/142 [==============================] - 10s 72ms/step - loss: 0.0314 - precision: 0.9667 - recall: 0.9627 - val_loss: 0.4495 - val_precision: 0.8125 - val_recall: 0.6976\n",
      "Epoch 24/200\n",
      "142/142 [==============================] - 10s 73ms/step - loss: 0.0266 - precision: 0.9761 - recall: 0.9730 - val_loss: 0.4546 - val_precision: 0.7512 - val_recall: 0.7512\n",
      "Epoch 25/200\n",
      "142/142 [==============================] - 11s 76ms/step - loss: 0.0256 - precision: 0.9711 - recall: 0.9761 - val_loss: 0.4243 - val_precision: 0.7933 - val_recall: 0.6927\n",
      "Epoch 26/200\n",
      "142/142 [==============================] - 10s 73ms/step - loss: 0.0189 - precision: 0.9834 - recall: 0.9803 - val_loss: 0.4115 - val_precision: 0.7716 - val_recall: 0.7415\n",
      "Epoch 27/200\n",
      "142/142 [==============================] - 11s 77ms/step - loss: 0.0188 - precision: 0.9783 - recall: 0.9824 - val_loss: 0.4153 - val_precision: 0.7067 - val_recall: 0.7756\n",
      "Epoch 28/200\n",
      "142/142 [==============================] - 11s 78ms/step - loss: 0.0184 - precision: 0.9814 - recall: 0.9844 - val_loss: 0.4843 - val_precision: 0.7819 - val_recall: 0.7171\n",
      "Epoch 29/200\n",
      "142/142 [==============================] - 11s 75ms/step - loss: 0.0186 - precision: 0.9802 - recall: 0.9751 - val_loss: 0.4549 - val_precision: 0.8032 - val_recall: 0.7366\n",
      "Epoch 30/200\n",
      "142/142 [==============================] - 10s 70ms/step - loss: 0.0136 - precision: 0.9865 - recall: 0.9834 - val_loss: 0.4733 - val_precision: 0.7273 - val_recall: 0.7805\n",
      "Epoch 31/200\n",
      "142/142 [==============================] - 10s 71ms/step - loss: 0.0146 - precision: 0.9886 - recall: 0.9865 - val_loss: 0.5860 - val_precision: 0.7892 - val_recall: 0.7122\n",
      "Epoch 32/200\n",
      "142/142 [==============================] - 11s 76ms/step - loss: 0.0127 - precision: 0.9896 - recall: 0.9834 - val_loss: 0.5147 - val_precision: 0.7760 - val_recall: 0.7268\n",
      "Epoch 33/200\n",
      "142/142 [==============================] - 10s 72ms/step - loss: 0.0122 - precision: 0.9896 - recall: 0.9855 - val_loss: 0.6775 - val_precision: 0.7175 - val_recall: 0.7805\n",
      "Epoch 34/200\n",
      "142/142 [==============================] - 10s 71ms/step - loss: 0.0134 - precision: 0.9864 - recall: 0.9803 - val_loss: 0.5373 - val_precision: 0.7656 - val_recall: 0.7171\n",
      "Epoch 35/200\n",
      "142/142 [==============================] - 10s 69ms/step - loss: 0.0107 - precision: 0.9927 - recall: 0.9907 - val_loss: 0.6175 - val_precision: 0.8382 - val_recall: 0.7073\n",
      "Epoch 36/200\n",
      "142/142 [==============================] - 10s 71ms/step - loss: 0.0110 - precision: 0.9876 - recall: 0.9927 - val_loss: 0.6699 - val_precision: 0.8188 - val_recall: 0.6390\n",
      "Epoch 37/200\n",
      "142/142 [==============================] - 10s 71ms/step - loss: 0.0147 - precision: 0.9844 - recall: 0.9834 - val_loss: 0.5502 - val_precision: 0.7500 - val_recall: 0.7902\n",
      "Epoch 38/200\n",
      "142/142 [==============================] - 10s 69ms/step - loss: 0.0101 - precision: 0.9907 - recall: 0.9907 - val_loss: 0.5232 - val_precision: 0.8167 - val_recall: 0.7171\n",
      "Epoch 39/200\n",
      "142/142 [==============================] - 10s 70ms/step - loss: 0.0073 - precision: 0.9948 - recall: 0.9917 - val_loss: 1.1570 - val_precision: 0.8932 - val_recall: 0.4488\n",
      "Epoch 40/200\n",
      "142/142 [==============================] - 10s 73ms/step - loss: 0.0151 - precision: 0.9896 - recall: 0.9886 - val_loss: 0.7473 - val_precision: 0.8373 - val_recall: 0.6780\n",
      "Epoch 41/200\n",
      "142/142 [==============================] - 10s 74ms/step - loss: 0.0074 - precision: 0.9938 - recall: 0.9917 - val_loss: 0.7226 - val_precision: 0.8343 - val_recall: 0.6878\n",
      "Epoch 42/200\n",
      "142/142 [==============================] - 11s 74ms/step - loss: 0.0075 - precision: 0.9927 - recall: 0.9927 - val_loss: 0.7323 - val_precision: 0.7946 - val_recall: 0.7171\n",
      "Epoch 43/200\n",
      "142/142 [==============================] - 11s 74ms/step - loss: 0.0076 - precision: 0.9958 - recall: 0.9927 - val_loss: 0.7510 - val_precision: 0.7668 - val_recall: 0.7220\n",
      "Epoch 44/200\n",
      "142/142 [==============================] - 10s 74ms/step - loss: 0.0059 - precision: 0.9969 - recall: 0.9927 - val_loss: 0.7954 - val_precision: 0.7845 - val_recall: 0.6927\n",
      "Epoch 45/200\n",
      "142/142 [==============================] - 10s 73ms/step - loss: 0.0077 - precision: 0.9938 - recall: 0.9959 - val_loss: 0.7275 - val_precision: 0.7989 - val_recall: 0.6780\n",
      "Epoch 46/200\n",
      "142/142 [==============================] - 10s 74ms/step - loss: 0.0079 - precision: 0.9938 - recall: 0.9907 - val_loss: 0.8096 - val_precision: 0.8023 - val_recall: 0.6927\n",
      "Epoch 47/200\n",
      "142/142 [==============================] - 11s 74ms/step - loss: 0.0065 - precision: 0.9927 - recall: 0.9927 - val_loss: 0.9405 - val_precision: 0.8232 - val_recall: 0.6585\n",
      "Epoch 48/200\n",
      "142/142 [==============================] - 10s 72ms/step - loss: 0.0080 - precision: 0.9907 - recall: 0.9959 - val_loss: 0.8090 - val_precision: 0.8405 - val_recall: 0.6683\n",
      "Epoch 49/200\n",
      "142/142 [==============================] - 10s 74ms/step - loss: 0.0035 - precision: 0.9990 - recall: 0.9948 - val_loss: 0.9979 - val_precision: 0.7978 - val_recall: 0.7122\n",
      "Epoch 50/200\n",
      "142/142 [==============================] - 10s 74ms/step - loss: 0.0098 - precision: 0.9948 - recall: 0.9907 - val_loss: 0.7536 - val_precision: 0.7968 - val_recall: 0.7268\n",
      "Epoch 51/200\n",
      "142/142 [==============================] - 11s 76ms/step - loss: 0.0067 - precision: 0.9938 - recall: 0.9927 - val_loss: 0.8809 - val_precision: 0.8187 - val_recall: 0.6829\n",
      "Epoch 52/200\n",
      "142/142 [==============================] - 11s 74ms/step - loss: 0.0084 - precision: 0.9938 - recall: 0.9927 - val_loss: 0.7959 - val_precision: 0.8066 - val_recall: 0.7122\n",
      "Epoch 53/200\n",
      "142/142 [==============================] - 11s 75ms/step - loss: 0.0073 - precision: 0.9928 - recall: 0.9959 - val_loss: 0.7192 - val_precision: 0.8137 - val_recall: 0.6390\n",
      "Epoch 54/200\n",
      "142/142 [==============================] - 12s 86ms/step - loss: 0.0072 - precision: 0.9969 - recall: 0.9917 - val_loss: 1.2685 - val_precision: 0.8741 - val_recall: 0.6098\n",
      "Epoch 55/200\n",
      "142/142 [==============================] - 11s 76ms/step - loss: 0.0052 - precision: 0.9959 - recall: 0.9959 - val_loss: 0.9684 - val_precision: 0.7606 - val_recall: 0.6976\n",
      "Epoch 56/200\n",
      "142/142 [==============================] - 10s 74ms/step - loss: 0.0063 - precision: 0.9917 - recall: 0.9917 - val_loss: 0.8958 - val_precision: 0.8218 - val_recall: 0.6976\n",
      "Epoch 57/200\n",
      "142/142 [==============================] - 11s 75ms/step - loss: 0.0108 - precision: 0.9917 - recall: 0.9896 - val_loss: 0.6802 - val_precision: 0.7784 - val_recall: 0.6683\n",
      "Epoch 58/200\n",
      "142/142 [==============================] - 11s 76ms/step - loss: 0.0060 - precision: 0.9969 - recall: 0.9948 - val_loss: 1.0540 - val_precision: 0.7950 - val_recall: 0.6244\n",
      "Epoch 59/200\n",
      "142/142 [==============================] - 11s 78ms/step - loss: 0.0049 - precision: 0.9938 - recall: 0.9948 - val_loss: 0.9764 - val_precision: 0.7989 - val_recall: 0.6976\n",
      "Epoch 60/200\n",
      "142/142 [==============================] - 11s 77ms/step - loss: 0.0070 - precision: 0.9928 - recall: 0.9948 - val_loss: 1.1199 - val_precision: 0.8239 - val_recall: 0.6390\n",
      "Epoch 61/200\n",
      "142/142 [==============================] - 10s 71ms/step - loss: 0.0037 - precision: 0.9990 - recall: 0.9938 - val_loss: 1.0449 - val_precision: 0.7754 - val_recall: 0.7073\n",
      "Epoch 62/200\n",
      "142/142 [==============================] - 11s 76ms/step - loss: 0.0086 - precision: 0.9938 - recall: 0.9938 - val_loss: 1.0779 - val_precision: 0.8025 - val_recall: 0.6341\n",
      "Epoch 63/200\n",
      "142/142 [==============================] - 12s 88ms/step - loss: 0.0072 - precision: 0.9948 - recall: 0.9917 - val_loss: 1.0332 - val_precision: 0.7892 - val_recall: 0.6390\n",
      "Epoch 64/200\n",
      "142/142 [==============================] - 10s 72ms/step - loss: 0.0071 - precision: 0.9917 - recall: 0.9938 - val_loss: 1.0178 - val_precision: 0.7766 - val_recall: 0.7122\n",
      "Epoch 65/200\n",
      "142/142 [==============================] - 12s 83ms/step - loss: 0.0062 - precision: 0.9917 - recall: 0.9948 - val_loss: 1.0390 - val_precision: 0.8061 - val_recall: 0.6488\n",
      "Epoch 66/200\n",
      "142/142 [==============================] - 12s 86ms/step - loss: 0.0057 - precision: 0.9958 - recall: 0.9938 - val_loss: 0.9937 - val_precision: 0.7826 - val_recall: 0.7024\n",
      "Epoch 67/200\n",
      "142/142 [==============================] - 10s 73ms/step - loss: 0.0085 - precision: 0.9907 - recall: 0.9896 - val_loss: 1.1122 - val_precision: 0.8079 - val_recall: 0.6976\n",
      "Epoch 68/200\n",
      "142/142 [==============================] - 10s 69ms/step - loss: 0.0035 - precision: 0.9979 - recall: 0.9938 - val_loss: 1.3731 - val_precision: 0.8148 - val_recall: 0.6439\n",
      "Epoch 69/200\n",
      "142/142 [==============================] - 10s 69ms/step - loss: 0.0093 - precision: 0.9907 - recall: 0.9907 - val_loss: 0.9198 - val_precision: 0.8000 - val_recall: 0.7220\n",
      "Epoch 70/200\n",
      "142/142 [==============================] - 13s 92ms/step - loss: 0.0120 - precision: 0.9907 - recall: 0.9907 - val_loss: 0.8535 - val_precision: 0.7957 - val_recall: 0.7220\n",
      "Epoch 71/200\n",
      "142/142 [==============================] - 11s 81ms/step - loss: 0.0048 - precision: 0.9948 - recall: 0.9948 - val_loss: 1.3944 - val_precision: 0.8322 - val_recall: 0.6049\n",
      "Epoch 72/200\n",
      "142/142 [==============================] - 10s 70ms/step - loss: 0.0072 - precision: 0.9907 - recall: 0.9927 - val_loss: 0.8521 - val_precision: 0.7538 - val_recall: 0.7171\n",
      "Epoch 73/200\n",
      "142/142 [==============================] - 10s 68ms/step - loss: 0.0067 - precision: 0.9979 - recall: 0.9959 - val_loss: 0.9474 - val_precision: 0.7512 - val_recall: 0.7512\n",
      "Epoch 74/200\n",
      "142/142 [==============================] - 11s 75ms/step - loss: 0.0070 - precision: 0.9958 - recall: 0.9938 - val_loss: 1.1662 - val_precision: 0.7988 - val_recall: 0.6585\n",
      "Epoch 75/200\n",
      "142/142 [==============================] - 11s 76ms/step - loss: 0.0028 - precision: 0.9990 - recall: 0.9979 - val_loss: 1.6745 - val_precision: 0.8377 - val_recall: 0.6293\n",
      "Epoch 76/200\n",
      "142/142 [==============================] - 11s 76ms/step - loss: 0.0045 - precision: 0.9958 - recall: 0.9927 - val_loss: 1.0260 - val_precision: 0.7790 - val_recall: 0.6878\n",
      "Epoch 77/200\n",
      "142/142 [==============================] - 11s 74ms/step - loss: 0.0033 - precision: 0.9969 - recall: 0.9959 - val_loss: 1.2094 - val_precision: 0.7953 - val_recall: 0.6634\n",
      "Epoch 78/200\n",
      "142/142 [==============================] - 11s 77ms/step - loss: 0.0045 - precision: 0.9969 - recall: 0.9969 - val_loss: 1.3633 - val_precision: 0.8160 - val_recall: 0.6488\n",
      "Epoch 79/200\n",
      "142/142 [==============================] - 11s 74ms/step - loss: 0.0076 - precision: 0.9938 - recall: 0.9938 - val_loss: 1.0581 - val_precision: 0.7935 - val_recall: 0.7122\n",
      "Epoch 80/200\n",
      "142/142 [==============================] - 10s 73ms/step - loss: 0.0032 - precision: 0.9990 - recall: 0.9948 - val_loss: 1.3016 - val_precision: 0.8118 - val_recall: 0.6732\n",
      "Epoch 81/200\n",
      "142/142 [==============================] - 11s 74ms/step - loss: 0.0035 - precision: 0.9948 - recall: 0.9969 - val_loss: 1.2895 - val_precision: 0.7967 - val_recall: 0.7073\n",
      "Epoch 82/200\n",
      "142/142 [==============================] - 10s 72ms/step - loss: 0.0042 - precision: 0.9979 - recall: 0.9969 - val_loss: 1.2559 - val_precision: 0.8160 - val_recall: 0.6488\n",
      "Epoch 83/200\n",
      "142/142 [==============================] - 10s 73ms/step - loss: 0.0116 - precision: 0.9958 - recall: 0.9938 - val_loss: 1.7313 - val_precision: 0.8444 - val_recall: 0.5561\n",
      "Epoch 84/200\n",
      "142/142 [==============================] - 10s 72ms/step - loss: 0.0094 - precision: 0.9938 - recall: 0.9927 - val_loss: 1.5293 - val_precision: 0.7988 - val_recall: 0.6390\n",
      "Epoch 85/200\n",
      "142/142 [==============================] - 10s 71ms/step - loss: 0.0095 - precision: 0.9917 - recall: 0.9969 - val_loss: 1.2257 - val_precision: 0.7581 - val_recall: 0.6878\n",
      "Epoch 86/200\n",
      "142/142 [==============================] - 10s 73ms/step - loss: 0.0076 - precision: 0.9958 - recall: 0.9938 - val_loss: 1.2498 - val_precision: 0.8015 - val_recall: 0.5317\n",
      "Epoch 87/200\n",
      "142/142 [==============================] - 10s 74ms/step - loss: 0.0057 - precision: 0.9959 - recall: 0.9959 - val_loss: 1.2823 - val_precision: 0.8023 - val_recall: 0.6927\n",
      "Epoch 88/200\n",
      "142/142 [==============================] - 11s 75ms/step - loss: 0.0115 - precision: 0.9938 - recall: 0.9959 - val_loss: 1.1674 - val_precision: 0.7789 - val_recall: 0.7561\n",
      "Epoch 89/200\n",
      "142/142 [==============================] - 10s 73ms/step - loss: 0.0115 - precision: 0.9948 - recall: 0.9938 - val_loss: 1.0112 - val_precision: 0.8034 - val_recall: 0.6976\n",
      "Epoch 90/200\n",
      "142/142 [==============================] - 11s 75ms/step - loss: 0.0051 - precision: 0.9959 - recall: 0.9959 - val_loss: 1.5843 - val_precision: 0.8712 - val_recall: 0.5610\n",
      "Epoch 91/200\n",
      "142/142 [==============================] - 10s 74ms/step - loss: 0.0083 - precision: 0.9948 - recall: 0.9927 - val_loss: 1.6565 - val_precision: 0.8084 - val_recall: 0.6585\n",
      "Epoch 92/200\n",
      "142/142 [==============================] - 10s 73ms/step - loss: 0.0041 - precision: 0.9948 - recall: 0.9969 - val_loss: 1.7174 - val_precision: 0.8418 - val_recall: 0.6488\n",
      "Epoch 93/200\n",
      "142/142 [==============================] - 11s 81ms/step - loss: 0.0044 - precision: 0.9958 - recall: 0.9948 - val_loss: 1.4674 - val_precision: 0.8199 - val_recall: 0.6439\n",
      "Epoch 94/200\n",
      "142/142 [==============================] - 11s 75ms/step - loss: 0.0052 - precision: 0.9969 - recall: 0.9948 - val_loss: 1.3397 - val_precision: 0.8025 - val_recall: 0.6341\n",
      "Epoch 95/200\n",
      "142/142 [==============================] - 12s 83ms/step - loss: 0.0046 - precision: 0.9958 - recall: 0.9938 - val_loss: 1.4697 - val_precision: 0.8373 - val_recall: 0.6780\n",
      "Epoch 96/200\n",
      "142/142 [==============================] - 12s 83ms/step - loss: 0.0081 - precision: 0.9928 - recall: 0.9948 - val_loss: 1.0571 - val_precision: 0.8129 - val_recall: 0.6780\n",
      "Epoch 97/200\n",
      "142/142 [==============================] - 10s 71ms/step - loss: 0.0062 - precision: 0.9969 - recall: 0.9959 - val_loss: 1.3221 - val_precision: 0.7903 - val_recall: 0.7171\n",
      "Epoch 98/200\n",
      "142/142 [==============================] - 11s 79ms/step - loss: 0.0036 - precision: 0.9969 - recall: 0.9979 - val_loss: 1.2174 - val_precision: 0.7967 - val_recall: 0.7073\n",
      "Epoch 99/200\n",
      "142/142 [==============================] - 11s 78ms/step - loss: 0.0076 - precision: 0.9958 - recall: 0.9938 - val_loss: 1.6951 - val_precision: 0.7988 - val_recall: 0.6585\n",
      "Epoch 100/200\n",
      "142/142 [==============================] - 10s 69ms/step - loss: 0.0046 - precision: 0.9948 - recall: 0.9959 - val_loss: 1.2309 - val_precision: 0.8431 - val_recall: 0.6293\n",
      "Epoch 101/200\n",
      "142/142 [==============================] - 10s 67ms/step - loss: 0.0119 - precision: 0.9917 - recall: 0.9948 - val_loss: 1.0375 - val_precision: 0.8103 - val_recall: 0.6878\n",
      "Epoch 102/200\n",
      "142/142 [==============================] - 10s 69ms/step - loss: 0.0093 - precision: 0.9917 - recall: 0.9938 - val_loss: 1.5329 - val_precision: 0.8408 - val_recall: 0.6439\n",
      "Epoch 103/200\n",
      "142/142 [==============================] - 10s 72ms/step - loss: 0.0055 - precision: 0.9958 - recall: 0.9938 - val_loss: 1.4310 - val_precision: 0.7957 - val_recall: 0.7220\n",
      "Epoch 104/200\n",
      "142/142 [==============================] - 13s 93ms/step - loss: 0.0062 - precision: 0.9948 - recall: 0.9959 - val_loss: 1.8448 - val_precision: 0.8611 - val_recall: 0.6049\n",
      "Epoch 105/200\n",
      "142/142 [==============================] - 10s 72ms/step - loss: 0.0152 - precision: 0.9948 - recall: 0.9927 - val_loss: 1.4395 - val_precision: 0.8192 - val_recall: 0.7073\n",
      "Epoch 106/200\n",
      "142/142 [==============================] - 10s 71ms/step - loss: 0.0107 - precision: 0.9907 - recall: 0.9948 - val_loss: 1.0589 - val_precision: 0.8081 - val_recall: 0.6780\n",
      "Epoch 107/200\n",
      "142/142 [==============================] - 10s 70ms/step - loss: 0.0068 - precision: 0.9938 - recall: 0.9959 - val_loss: 1.5951 - val_precision: 0.7841 - val_recall: 0.6732\n",
      "Epoch 108/200\n",
      "142/142 [==============================] - 11s 77ms/step - loss: 0.0058 - precision: 0.9969 - recall: 0.9948 - val_loss: 1.4423 - val_precision: 0.8165 - val_recall: 0.6293\n",
      "Epoch 109/200\n",
      "142/142 [==============================] - 10s 74ms/step - loss: 0.0033 - precision: 0.9969 - recall: 0.9948 - val_loss: 1.1975 - val_precision: 0.8232 - val_recall: 0.6585\n",
      "Epoch 110/200\n",
      "142/142 [==============================] - 10s 70ms/step - loss: 0.0166 - precision: 0.9927 - recall: 0.9917 - val_loss: 0.8811 - val_precision: 0.7967 - val_recall: 0.7073\n",
      "Epoch 111/200\n",
      "142/142 [==============================] - 10s 68ms/step - loss: 0.0050 - precision: 0.9948 - recall: 0.9948 - val_loss: 1.9843 - val_precision: 0.8707 - val_recall: 0.6244\n",
      "Epoch 112/200\n",
      "142/142 [==============================] - 9s 66ms/step - loss: 0.0042 - precision: 0.9969 - recall: 0.9969 - val_loss: 1.8965 - val_precision: 0.8323 - val_recall: 0.6537\n",
      "Epoch 113/200\n",
      "142/142 [==============================] - 11s 76ms/step - loss: 0.0064 - precision: 0.9959 - recall: 0.9959 - val_loss: 1.3162 - val_precision: 0.8072 - val_recall: 0.6537\n",
      "Epoch 114/200\n",
      "142/142 [==============================] - 11s 78ms/step - loss: 0.0167 - precision: 0.9937 - recall: 0.9896 - val_loss: 1.1116 - val_precision: 0.8118 - val_recall: 0.6732\n",
      "Epoch 115/200\n",
      "142/142 [==============================] - 10s 73ms/step - loss: 0.0051 - precision: 0.9959 - recall: 0.9959 - val_loss: 1.3294 - val_precision: 0.7887 - val_recall: 0.7463\n",
      "Epoch 116/200\n",
      "142/142 [==============================] - 11s 75ms/step - loss: 0.0112 - precision: 0.9927 - recall: 0.9907 - val_loss: 1.1947 - val_precision: 0.7903 - val_recall: 0.7171\n",
      "Epoch 117/200\n",
      "142/142 [==============================] - 11s 76ms/step - loss: 0.0100 - precision: 0.9927 - recall: 0.9938 - val_loss: 1.5828 - val_precision: 0.8314 - val_recall: 0.6976\n",
      "Epoch 118/200\n",
      "142/142 [==============================] - 11s 75ms/step - loss: 0.0030 - precision: 0.9979 - recall: 0.9969 - val_loss: 1.6402 - val_precision: 0.8221 - val_recall: 0.6537\n",
      "Epoch 119/200\n",
      "142/142 [==============================] - 11s 77ms/step - loss: 0.0084 - precision: 0.9948 - recall: 0.9938 - val_loss: 1.7789 - val_precision: 0.8204 - val_recall: 0.6683\n",
      "Epoch 120/200\n",
      "142/142 [==============================] - 11s 77ms/step - loss: 0.0130 - precision: 0.9907 - recall: 0.9927 - val_loss: 1.9305 - val_precision: 0.8442 - val_recall: 0.6341\n",
      "Epoch 121/200\n",
      "142/142 [==============================] - 10s 69ms/step - loss: 0.0054 - precision: 0.9958 - recall: 0.9938 - val_loss: 1.5192 - val_precision: 0.7849 - val_recall: 0.7122\n",
      "Epoch 122/200\n",
      "142/142 [==============================] - 10s 68ms/step - loss: 0.0101 - precision: 0.9958 - recall: 0.9927 - val_loss: 0.7661 - val_precision: 0.7688 - val_recall: 0.7463\n",
      "Epoch 123/200\n",
      "142/142 [==============================] - 9s 67ms/step - loss: 0.0087 - precision: 0.9927 - recall: 0.9938 - val_loss: 1.3216 - val_precision: 0.8187 - val_recall: 0.6829\n",
      "Epoch 124/200\n",
      "142/142 [==============================] - 10s 68ms/step - loss: 0.0164 - precision: 0.9896 - recall: 0.9876 - val_loss: 0.9065 - val_precision: 0.7929 - val_recall: 0.7659\n",
      "Epoch 125/200\n",
      "142/142 [==============================] - 10s 68ms/step - loss: 0.0091 - precision: 0.9969 - recall: 0.9938 - val_loss: 1.3887 - val_precision: 0.8443 - val_recall: 0.6878\n",
      "Epoch 126/200\n",
      "142/142 [==============================] - 10s 71ms/step - loss: 0.0075 - precision: 0.9958 - recall: 0.9948 - val_loss: 1.1776 - val_precision: 0.8256 - val_recall: 0.6927\n",
      "Epoch 127/200\n",
      "142/142 [==============================] - 11s 76ms/step - loss: 0.0067 - precision: 0.9959 - recall: 0.9959 - val_loss: 1.3082 - val_precision: 0.8049 - val_recall: 0.6439\n",
      "Epoch 128/200\n",
      "142/142 [==============================] - 11s 79ms/step - loss: 0.0044 - precision: 0.9959 - recall: 0.9959 - val_loss: 2.3705 - val_precision: 0.8000 - val_recall: 0.7024\n",
      "Epoch 129/200\n",
      "142/142 [==============================] - 11s 80ms/step - loss: 0.0226 - precision: 0.9886 - recall: 0.9876 - val_loss: 1.4327 - val_precision: 0.7947 - val_recall: 0.7366\n",
      "Epoch 130/200\n",
      "142/142 [==============================] - 13s 91ms/step - loss: 0.0044 - precision: 0.9979 - recall: 0.9969 - val_loss: 1.4366 - val_precision: 0.8393 - val_recall: 0.6878\n",
      "Epoch 131/200\n",
      "142/142 [==============================] - 12s 83ms/step - loss: 0.0119 - precision: 0.9927 - recall: 0.9927 - val_loss: 1.3592 - val_precision: 0.7989 - val_recall: 0.6976\n",
      "Epoch 132/200\n",
      "142/142 [==============================] - 12s 82ms/step - loss: 0.0050 - precision: 0.9959 - recall: 0.9959 - val_loss: 1.3198 - val_precision: 0.7967 - val_recall: 0.7073\n",
      "Epoch 133/200\n",
      "142/142 [==============================] - 10s 68ms/step - loss: 0.0072 - precision: 0.9969 - recall: 0.9948 - val_loss: 1.9024 - val_precision: 0.8204 - val_recall: 0.6683\n",
      "Epoch 134/200\n",
      "142/142 [==============================] - 10s 68ms/step - loss: 0.0041 - precision: 0.9959 - recall: 0.9969 - val_loss: 2.1776 - val_precision: 0.7967 - val_recall: 0.7073\n",
      "Epoch 135/200\n",
      "142/142 [==============================] - 9s 66ms/step - loss: 0.0181 - precision: 0.9917 - recall: 0.9907 - val_loss: 1.9011 - val_precision: 0.8491 - val_recall: 0.6585\n",
      "Epoch 136/200\n",
      "142/142 [==============================] - 9s 65ms/step - loss: 0.0051 - precision: 0.9959 - recall: 0.9959 - val_loss: 1.6407 - val_precision: 0.8059 - val_recall: 0.6683\n",
      "Epoch 137/200\n",
      "142/142 [==============================] - 10s 73ms/step - loss: 0.0088 - precision: 0.9917 - recall: 0.9917 - val_loss: 1.2277 - val_precision: 0.7755 - val_recall: 0.7415\n",
      "Epoch 138/200\n",
      "142/142 [==============================] - 10s 70ms/step - loss: 0.0023 - precision: 0.9969 - recall: 0.9979 - val_loss: 2.1462 - val_precision: 0.8047 - val_recall: 0.6634\n",
      "Epoch 139/200\n",
      "142/142 [==============================] - 10s 69ms/step - loss: 0.0011 - precision: 1.0000 - recall: 0.9979 - val_loss: 1.9379 - val_precision: 0.8125 - val_recall: 0.6976\n",
      "Epoch 140/200\n",
      "142/142 [==============================] - 10s 67ms/step - loss: 0.0190 - precision: 0.9938 - recall: 0.9938 - val_loss: 1.3116 - val_precision: 0.7713 - val_recall: 0.7073\n",
      "Epoch 141/200\n",
      "142/142 [==============================] - 9s 66ms/step - loss: 0.0040 - precision: 0.9969 - recall: 0.9979 - val_loss: 1.7970 - val_precision: 0.8011 - val_recall: 0.6878\n",
      "Epoch 142/200\n",
      "142/142 [==============================] - 10s 68ms/step - loss: 0.0080 - precision: 0.9948 - recall: 0.9959 - val_loss: 1.6656 - val_precision: 0.8090 - val_recall: 0.7024\n",
      "Epoch 143/200\n",
      "142/142 [==============================] - 9s 66ms/step - loss: 0.0047 - precision: 0.9979 - recall: 0.9959 - val_loss: 1.4530 - val_precision: 0.7513 - val_recall: 0.7220\n",
      "Epoch 144/200\n",
      "142/142 [==============================] - 10s 67ms/step - loss: 0.0102 - precision: 0.9907 - recall: 0.9927 - val_loss: 1.7096 - val_precision: 0.8322 - val_recall: 0.5805\n",
      "Epoch 145/200\n",
      "142/142 [==============================] - 10s 67ms/step - loss: 0.0036 - precision: 0.9979 - recall: 0.9979 - val_loss: 1.8023 - val_precision: 0.7977 - val_recall: 0.6732\n",
      "Epoch 146/200\n",
      "142/142 [==============================] - 10s 67ms/step - loss: 0.0050 - precision: 0.9959 - recall: 0.9969 - val_loss: 1.4047 - val_precision: 0.8276 - val_recall: 0.7024\n",
      "Epoch 147/200\n",
      "142/142 [==============================] - 10s 67ms/step - loss: 0.0136 - precision: 0.9897 - recall: 0.9938 - val_loss: 1.4751 - val_precision: 0.8110 - val_recall: 0.6488\n",
      "Epoch 148/200\n",
      "142/142 [==============================] - 10s 67ms/step - loss: 0.0148 - precision: 0.9907 - recall: 0.9917 - val_loss: 1.8046 - val_precision: 0.8070 - val_recall: 0.6732\n",
      "Epoch 149/200\n",
      "142/142 [==============================] - 10s 68ms/step - loss: 0.0092 - precision: 0.9927 - recall: 0.9938 - val_loss: 1.9575 - val_precision: 0.7647 - val_recall: 0.6976\n",
      "Epoch 150/200\n",
      "142/142 [==============================] - 9s 66ms/step - loss: 0.0144 - precision: 0.9917 - recall: 0.9886 - val_loss: 1.5558 - val_precision: 0.8132 - val_recall: 0.7220\n",
      "Epoch 151/200\n",
      "142/142 [==============================] - 9s 67ms/step - loss: 0.0141 - precision: 0.9927 - recall: 0.9927 - val_loss: 1.2955 - val_precision: 0.7892 - val_recall: 0.7122\n",
      "Epoch 152/200\n",
      "142/142 [==============================] - 10s 68ms/step - loss: 0.0145 - precision: 0.9927 - recall: 0.9927 - val_loss: 1.1064 - val_precision: 0.6992 - val_recall: 0.8049\n",
      "Epoch 153/200\n",
      "142/142 [==============================] - 9s 67ms/step - loss: 0.0108 - precision: 0.9927 - recall: 0.9917 - val_loss: 1.2507 - val_precision: 0.8200 - val_recall: 0.6000\n",
      "Epoch 154/200\n",
      "142/142 [==============================] - 10s 68ms/step - loss: 0.0144 - precision: 0.9906 - recall: 0.9876 - val_loss: 1.3035 - val_precision: 0.8483 - val_recall: 0.6000\n",
      "Epoch 155/200\n",
      "142/142 [==============================] - 10s 68ms/step - loss: 0.0122 - precision: 0.9917 - recall: 0.9907 - val_loss: 1.6506 - val_precision: 0.7692 - val_recall: 0.7317\n",
      "Epoch 156/200\n",
      "142/142 [==============================] - 10s 70ms/step - loss: 0.0189 - precision: 0.9876 - recall: 0.9938 - val_loss: 1.9160 - val_precision: 0.8759 - val_recall: 0.5854\n",
      "Epoch 157/200\n",
      "142/142 [==============================] - 10s 68ms/step - loss: 0.0089 - precision: 0.9917 - recall: 0.9896 - val_loss: 1.4251 - val_precision: 0.8790 - val_recall: 0.5317\n",
      "Epoch 158/200\n",
      "142/142 [==============================] - 9s 67ms/step - loss: 0.0083 - precision: 0.9927 - recall: 0.9917 - val_loss: 2.2000 - val_precision: 0.8428 - val_recall: 0.6537\n",
      "Epoch 159/200\n",
      "142/142 [==============================] - 10s 68ms/step - loss: 0.0167 - precision: 0.9886 - recall: 0.9907 - val_loss: 1.2577 - val_precision: 0.8323 - val_recall: 0.6780\n",
      "Epoch 160/200\n",
      "142/142 [==============================] - 10s 69ms/step - loss: 0.0077 - precision: 0.9927 - recall: 0.9938 - val_loss: 1.6240 - val_precision: 0.7749 - val_recall: 0.7220\n",
      "Epoch 161/200\n",
      "142/142 [==============================] - 10s 67ms/step - loss: 0.0159 - precision: 0.9917 - recall: 0.9896 - val_loss: 1.6580 - val_precision: 0.8046 - val_recall: 0.6829\n",
      "Epoch 162/200\n",
      "142/142 [==============================] - 11s 76ms/step - loss: 0.0217 - precision: 0.9917 - recall: 0.9907 - val_loss: 1.8428 - val_precision: 0.8984 - val_recall: 0.5610\n",
      "Epoch 163/200\n",
      "142/142 [==============================] - 11s 79ms/step - loss: 0.0181 - precision: 0.9866 - recall: 0.9896 - val_loss: 2.1339 - val_precision: 0.8160 - val_recall: 0.6488\n",
      "Epoch 164/200\n",
      "142/142 [==============================] - 11s 79ms/step - loss: 0.0227 - precision: 0.9886 - recall: 0.9876 - val_loss: 0.9451 - val_precision: 0.7845 - val_recall: 0.6927\n",
      "Epoch 165/200\n",
      "142/142 [==============================] - 13s 91ms/step - loss: 0.0166 - precision: 0.9917 - recall: 0.9896 - val_loss: 1.5404 - val_precision: 0.7807 - val_recall: 0.7122\n",
      "Epoch 166/200\n",
      "142/142 [==============================] - 14s 99ms/step - loss: 0.0145 - precision: 0.9886 - recall: 0.9896 - val_loss: 1.6824 - val_precision: 0.8133 - val_recall: 0.6585\n",
      "Epoch 167/200\n",
      "142/142 [==============================] - 13s 91ms/step - loss: 0.0213 - precision: 0.9865 - recall: 0.9865 - val_loss: 1.3359 - val_precision: 0.7869 - val_recall: 0.7024\n",
      "Epoch 168/200\n",
      "142/142 [==============================] - 10s 70ms/step - loss: 0.0155 - precision: 0.9938 - recall: 0.9907 - val_loss: 2.2308 - val_precision: 0.8033 - val_recall: 0.7171\n",
      "Epoch 169/200\n",
      "142/142 [==============================] - 12s 86ms/step - loss: 0.0105 - precision: 0.9938 - recall: 0.9907 - val_loss: 2.8838 - val_precision: 0.8188 - val_recall: 0.6390\n",
      "Epoch 170/200\n",
      "142/142 [==============================] - 11s 79ms/step - loss: 0.0098 - precision: 0.9938 - recall: 0.9927 - val_loss: 2.5793 - val_precision: 0.7976 - val_recall: 0.6537\n",
      "Epoch 171/200\n",
      "142/142 [==============================] - 10s 71ms/step - loss: 0.0150 - precision: 0.9917 - recall: 0.9927 - val_loss: 1.8976 - val_precision: 0.8193 - val_recall: 0.6634\n",
      "Epoch 172/200\n",
      "142/142 [==============================] - 11s 81ms/step - loss: 0.0232 - precision: 0.9917 - recall: 0.9917 - val_loss: 2.2234 - val_precision: 0.8256 - val_recall: 0.6927\n",
      "Epoch 173/200\n",
      "142/142 [==============================] - 10s 73ms/step - loss: 0.0153 - precision: 0.9866 - recall: 0.9896 - val_loss: 1.8889 - val_precision: 0.6667 - val_recall: 0.8098\n",
      "Epoch 174/200\n",
      "142/142 [==============================] - 10s 67ms/step - loss: 0.0175 - precision: 0.9917 - recall: 0.9865 - val_loss: 1.7235 - val_precision: 0.7978 - val_recall: 0.6927\n",
      "Epoch 175/200\n",
      "142/142 [==============================] - 11s 74ms/step - loss: 0.0210 - precision: 0.9844 - recall: 0.9844 - val_loss: 1.8434 - val_precision: 0.8246 - val_recall: 0.6878\n",
      "Epoch 176/200\n",
      "142/142 [==============================] - 12s 85ms/step - loss: 0.0192 - precision: 0.9917 - recall: 0.9896 - val_loss: 0.8446 - val_precision: 0.8333 - val_recall: 0.6585\n",
      "Epoch 177/200\n",
      "142/142 [==============================] - 11s 75ms/step - loss: 0.0100 - precision: 0.9917 - recall: 0.9907 - val_loss: 2.0619 - val_precision: 0.8363 - val_recall: 0.6976\n",
      "Epoch 178/200\n",
      "142/142 [==============================] - 10s 73ms/step - loss: 0.0444 - precision: 0.9896 - recall: 0.9844 - val_loss: 0.9919 - val_precision: 0.7317 - val_recall: 0.7317\n",
      "Epoch 179/200\n",
      "142/142 [==============================] - 11s 76ms/step - loss: 0.0260 - precision: 0.9885 - recall: 0.9834 - val_loss: 1.7185 - val_precision: 0.8675 - val_recall: 0.6390\n",
      "Epoch 180/200\n",
      "142/142 [==============================] - 10s 70ms/step - loss: 0.0218 - precision: 0.9876 - recall: 0.9876 - val_loss: 1.6317 - val_precision: 0.7903 - val_recall: 0.7171\n",
      "Epoch 181/200\n",
      "142/142 [==============================] - 11s 76ms/step - loss: 0.0123 - precision: 0.9896 - recall: 0.9907 - val_loss: 2.7052 - val_precision: 0.8905 - val_recall: 0.5951\n",
      "Epoch 182/200\n",
      "142/142 [==============================] - 10s 70ms/step - loss: 0.0233 - precision: 0.9845 - recall: 0.9886 - val_loss: 1.1248 - val_precision: 0.7742 - val_recall: 0.7024\n",
      "Epoch 183/200\n",
      "142/142 [==============================] - 10s 68ms/step - loss: 0.0473 - precision: 0.9814 - recall: 0.9865 - val_loss: 1.2653 - val_precision: 0.8658 - val_recall: 0.6293\n",
      "Epoch 184/200\n",
      "142/142 [==============================] - 10s 71ms/step - loss: 0.0177 - precision: 0.9927 - recall: 0.9844 - val_loss: 1.7616 - val_precision: 0.7754 - val_recall: 0.7073\n",
      "Epoch 185/200\n",
      "142/142 [==============================] - 9s 66ms/step - loss: 0.0216 - precision: 0.9856 - recall: 0.9907 - val_loss: 2.5248 - val_precision: 0.8146 - val_recall: 0.7073\n",
      "Epoch 186/200\n",
      "142/142 [==============================] - 9s 66ms/step - loss: 0.0166 - precision: 0.9876 - recall: 0.9927 - val_loss: 2.0464 - val_precision: 0.7684 - val_recall: 0.7122\n",
      "Epoch 187/200\n",
      "142/142 [==============================] - 9s 67ms/step - loss: 0.0259 - precision: 0.9917 - recall: 0.9938 - val_loss: 1.4728 - val_precision: 0.7933 - val_recall: 0.6927\n",
      "Epoch 188/200\n",
      "142/142 [==============================] - 10s 67ms/step - loss: 0.0246 - precision: 0.9876 - recall: 0.9896 - val_loss: 1.0237 - val_precision: 0.8218 - val_recall: 0.6976\n",
      "Epoch 189/200\n",
      "142/142 [==============================] - 10s 68ms/step - loss: 0.0170 - precision: 0.9886 - recall: 0.9907 - val_loss: 1.7828 - val_precision: 0.7766 - val_recall: 0.7463\n",
      "Epoch 190/200\n",
      "142/142 [==============================] - 9s 66ms/step - loss: 0.0148 - precision: 0.9917 - recall: 0.9927 - val_loss: 1.7672 - val_precision: 0.7944 - val_recall: 0.6976\n",
      "Epoch 191/200\n",
      "142/142 [==============================] - 10s 67ms/step - loss: 0.0135 - precision: 0.9907 - recall: 0.9938 - val_loss: 2.3501 - val_precision: 0.8167 - val_recall: 0.7171\n",
      "Epoch 192/200\n",
      "142/142 [==============================] - 10s 67ms/step - loss: 0.0308 - precision: 0.9896 - recall: 0.9896 - val_loss: 1.8676 - val_precision: 0.8494 - val_recall: 0.6878\n",
      "Epoch 193/200\n",
      "142/142 [==============================] - 10s 72ms/step - loss: 0.0254 - precision: 0.9855 - recall: 0.9865 - val_loss: 1.9890 - val_precision: 0.8481 - val_recall: 0.6537\n",
      "Epoch 194/200\n",
      "142/142 [==============================] - 10s 70ms/step - loss: 0.0176 - precision: 0.9886 - recall: 0.9907 - val_loss: 3.4836 - val_precision: 0.8377 - val_recall: 0.6293\n",
      "Epoch 195/200\n",
      "142/142 [==============================] - 10s 68ms/step - loss: 0.0302 - precision: 0.9804 - recall: 0.9844 - val_loss: 2.8146 - val_precision: 0.8452 - val_recall: 0.6390\n",
      "Epoch 196/200\n",
      "142/142 [==============================] - 10s 68ms/step - loss: 0.0109 - precision: 0.9948 - recall: 0.9948 - val_loss: 2.3698 - val_precision: 0.8192 - val_recall: 0.7073\n",
      "Epoch 197/200\n",
      "142/142 [==============================] - 10s 68ms/step - loss: 0.0169 - precision: 0.9928 - recall: 0.9959 - val_loss: 1.5543 - val_precision: 0.8208 - val_recall: 0.6927\n",
      "Epoch 198/200\n",
      "142/142 [==============================] - 10s 67ms/step - loss: 0.0125 - precision: 0.9958 - recall: 0.9948 - val_loss: 2.0162 - val_precision: 0.8354 - val_recall: 0.6439\n",
      "Epoch 199/200\n",
      "142/142 [==============================] - 10s 67ms/step - loss: 0.0386 - precision: 0.9907 - recall: 0.9896 - val_loss: 1.8061 - val_precision: 0.7904 - val_recall: 0.6439\n",
      "Epoch 200/200\n",
      "142/142 [==============================] - 10s 67ms/step - loss: 0.0133 - precision: 0.9907 - recall: 0.9907 - val_loss: 2.1571 - val_precision: 0.7647 - val_recall: 0.7610\n"
     ]
    }
   ],
   "source": [
    "history_base = model_base.fit(X_train, y_train, validation_data= (X_val, y_val), batch_size=40, epochs = 200, callbacks=callbacks)"
   ]
  },
  {
   "cell_type": "code",
   "execution_count": 10,
   "metadata": {},
   "outputs": [],
   "source": [
    "X_test= preprocessig_data(X_test)\n",
    "y_test = le.transform(y_test)"
   ]
  },
  {
   "cell_type": "code",
   "execution_count": 11,
   "metadata": {},
   "outputs": [
    {
     "name": "stdout",
     "output_type": "stream",
     "text": [
      "38/38 [==============================] - 1s 24ms/step - loss: 2.6517 - precision: 0.6800 - recall: 0.7473\n",
      "Test loss: 2.651735782623291\n",
      "Test Precision: 0.6800000071525574\n",
      "Test Recall: 0.7472527623176575\n"
     ]
    }
   ],
   "source": [
    "# Evaluacion del modelo con el conjunto de Test\n",
    "score = model_base.evaluate(X_test, y_test)\n",
    "print(f'Test loss: {score[0]}\\nTest Precision: {score[1]}\\nTest Recall: {score[2]}')"
   ]
  },
  {
   "cell_type": "code",
   "execution_count": 12,
   "metadata": {},
   "outputs": [
    {
     "data": {
      "image/png": "[encoded data removed]",
      "text/plain": [
       "<Figure size 640x480 with 1 Axes>"
      ]
     },
     "metadata": {},
     "output_type": "display_data"
    },
    {
     "data": {
      "image/png": "[encoded data removed]",
      "text/plain": [
       "<Figure size 640x480 with 1 Axes>"
      ]
     },
     "metadata": {},
     "output_type": "display_data"
    }
   ],
   "source": [
    "import matplotlib.pyplot as plt\n",
    "precision = history_base.history[\"precision\"]\n",
    "val_precision = history_base.history[\"val_precision\"]\n",
    "loss = history_base.history[\"loss\"]\n",
    "val_loss = history_base.history[\"val_loss\"]\n",
    "epochs = range(1, len(precision) + 1)\n",
    "plt.plot(epochs, precision, \"bo\", label=\"Training precision\")\n",
    "plt.plot(epochs, val_precision, \"b\", label=\"Validation precision\")\n",
    "plt.title(\"Training and validation precision\")\n",
    "plt.legend()\n",
    "plt.figure()\n",
    "plt.plot(epochs, loss, \"bo\", label=\"Training loss\")\n",
    "plt.plot(epochs, val_loss, \"b\", label=\"Validation loss\")\n",
    "plt.title(\"Training and validation loss\")\n",
    "plt.legend()\n",
    "plt.show()"
   ]
  },
  {
   "cell_type": "code",
   "execution_count": 13,
   "metadata": {},
   "outputs": [],
   "source": [
    "def getRealPrediction(y_aux):\n",
    "    y_predicted = np.zeros(len(y_aux))\n",
    "    for i in range(len(y_aux)):\n",
    "        if y_aux[i] >= 0.5:\n",
    "            y_predicted[i] = 1\n",
    "        else:\n",
    "            y_predicted[i] = 0\n",
    "    return y_predicted"
   ]
  },
  {
   "cell_type": "code",
   "execution_count": 14,
   "metadata": {},
   "outputs": [
    {
     "name": "stdout",
     "output_type": "stream",
     "text": [
      "178/178 [==============================] - 5s 29ms/step\n",
      "Matriz de Confusión Train\n"
     ]
    },
    {
     "data": {
      "image/png": "[encoded data removed]",
      "text/plain": [
       "<Figure size 640x480 with 2 Axes>"
      ]
     },
     "metadata": {},
     "output_type": "display_data"
    },
    {
     "name": "stdout",
     "output_type": "stream",
     "text": [
      "38/38 [==============================] - 1s 21ms/step\n",
      "Matriz de Confusión Test\n"
     ]
    },
    {
     "data": {
      "image/png": "[encoded data removed]",
      "text/plain": [
       "<Figure size 640x480 with 2 Axes>"
      ]
     },
     "metadata": {},
     "output_type": "display_data"
    }
   ],
   "source": [
    "from sklearn import metrics\n",
    "import matplotlib.pyplot as plt\n",
    "\n",
    "y_aux = model_base.predict(X_train)\n",
    "y_predicted = getRealPrediction(y_aux)\n",
    "confusion_matrix = metrics.confusion_matrix(y_train, y_predicted)\n",
    "cm_display = metrics.ConfusionMatrixDisplay(confusion_matrix = confusion_matrix, display_labels = [False, True])\n",
    "print('Matriz de Confusión Train')\n",
    "cm_display.plot()\n",
    "plt.show()\n",
    "\n",
    "y_aux = model_base.predict(X_test)\n",
    "y_predicted = getRealPrediction(y_aux)\n",
    "confusion_matrix = metrics.confusion_matrix(y_test, y_predicted)\n",
    "cm_display = metrics.ConfusionMatrixDisplay(confusion_matrix = confusion_matrix, display_labels = [False, True])\n",
    "print('Matriz de Confusión Test')\n",
    "cm_display.plot()\n",
    "plt.show()"
   ]
  },
  {
   "cell_type": "markdown",
   "metadata": {},
   "source": [
    "## Deploy del modelo: red convolucional"
   ]
  },
  {
   "cell_type": "code",
   "execution_count": 15,
   "metadata": {},
   "outputs": [],
   "source": [
    "from tensorflow.keras.models import load_model\n",
    "test_model = load_model(\"modelos/checkpoint_model2a\")\n",
    "IMG_SIZE = 50\n",
    "\n",
    "def preprocessig_data(data):\n",
    "    X = []\n",
    "    for img_path in data:\n",
    "        img = cv2.imread(img_path)\n",
    "        img = cv2.cvtColor(img, cv2.COLOR_RGB2GRAY) # Pasamos la imagen a escala de grises\n",
    "        img = cv2.resize(img, (IMG_SIZE, IMG_SIZE))/255.0 # normalizamos los pixeles de la imagen\n",
    "        X.append(img)\n",
    "    X = np.array(X)\n",
    "    X = X.reshape((-1, IMG_SIZE, IMG_SIZE, 1)) #Hacemos un reshape de las imagenes\n",
    "    return X"
   ]
  },
  {
   "cell_type": "code",
   "execution_count": 16,
   "metadata": {},
   "outputs": [
    {
     "name": "stdout",
     "output_type": "stream",
     "text": [
      "percentage: 42.11141%\n",
      "predicted: 0.0\n"
     ]
    }
   ],
   "source": [
    "imagenPath = \"data\\\\images\\\\image_13.jpg\" # positiva\n",
    "inputImage = preprocessig_data([imagenPath])\n",
    "y_predicted = test_model(inputImage)\n",
    "percentage = tf.gather(y_predicted, 0)[0].numpy()\n",
    "real_val = getRealPrediction([percentage])[0]\n",
    "print('percentage:',f'{round(percentage*100, 5)}%')\n",
    "print('predicted:',real_val)"
   ]
  },
  {
   "cell_type": "code",
   "execution_count": 17,
   "metadata": {},
   "outputs": [
    {
     "name": "stdout",
     "output_type": "stream",
     "text": [
      "percentage: 0.00242%\n",
      "predicted: 0.0\n"
     ]
    }
   ],
   "source": [
    "imagenPath = \"data\\\\images\\\\image_1054.jpg\" # negativa\n",
    "inputImage = preprocessig_data([imagenPath])\n",
    "y_predicted = test_model(inputImage)\n",
    "percentage = tf.gather(y_predicted, 0)[0].numpy()\n",
    "real_val = getRealPrediction([percentage])[0]\n",
    "print('percentage:',f'{round(percentage*100, 5)}%')\n",
    "print('predicted:',real_val)"
   ]
  }
 ],
 "metadata": {
  "kernelspec": {
   "display_name": "Python 3 (ipykernel)",
   "language": "python",
   "name": "python3"
  },
  "language_info": {
   "codemirror_mode": {
    "name": "ipython",
    "version": 3
   },
   "file_extension": ".py",
   "mimetype": "text/x-python",
   "name": "python",
   "nbconvert_exporter": "python",
   "pygments_lexer": "ipython3",
   "version": "3.8.15"
  },
  "vscode": {
   "interpreter": {
    "hash": "8a803d61fb48b7136249db5db6f3a8557188aad2689092bd17fd97632f2b0735"
   }
  }
 },
 "nbformat": 4,
 "nbformat_minor": 4
}
